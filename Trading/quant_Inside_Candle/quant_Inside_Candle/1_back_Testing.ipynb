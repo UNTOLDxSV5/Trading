{
 "cells": [
  {
   "cell_type": "code",
   "execution_count": 34,
   "id": "cae1cc96-07cb-4ac4-8370-5357eb9cdefe",
   "metadata": {},
   "outputs": [
    {
     "name": "stderr",
     "output_type": "stream",
     "text": [
      "[*********************100%***********************]  1 of 1 completed"
     ]
    },
    {
     "name": "stdout",
     "output_type": "stream",
     "text": [
      "Price           Open      High       Low     Close\n",
      "Date                                              \n",
      "2010-01-04  7.622500  7.660714  7.585000  7.643214\n",
      "2010-01-11  7.664286  7.699643  7.444643  7.503929\n",
      "2010-01-18  7.471071  7.557143  7.289286  7.354643\n",
      "2010-01-25  7.440357  7.698214  7.041429  7.252500\n",
      "2010-02-01  7.355357  7.632500  6.794643  6.954643\n"
     ]
    },
    {
     "name": "stderr",
     "output_type": "stream",
     "text": [
      "\n"
     ]
    }
   ],
   "source": [
    "import yfinance as yf\n",
    "import pandas as pd \n",
    "\n",
    "data = yf.download(\"AAPL\", start=\"2010-01-01\",end=\"2023-12-31\",interval=\"1d\",auto_adjust=False)\n",
    "\n",
    "if isinstance(data.columns,pd.MultiIndex):\n",
    "    data.columns=data.columns.get_level_values(0)#To handle multi level indexes\n",
    "    \n",
    "data.index=pd.to_datetime(data.index) #not required just best practice\n",
    "\n",
    "weekly =data.resample('W-MON').agg({\n",
    "    'Open':'first',\n",
    "    'High':'max',\n",
    "    'Low':'min',\n",
    "    'Close':'last'\n",
    "})\n",
    "\n",
    "weekly.dropna(inplace=True)\n",
    "\n",
    "print(weekly.head())"
   ]
  },
  {
   "cell_type": "code",
   "execution_count": 54,
   "id": "d062645b-de7c-4d68-838d-4164942719ba",
   "metadata": {},
   "outputs": [
    {
     "name": "stderr",
     "output_type": "stream",
     "text": [
      "[*********************100%***********************]  1 of 1 completed"
     ]
    },
    {
     "name": "stdout",
     "output_type": "stream",
     "text": [
      "Total Trades: 41\n",
      "TP Hit: 17\n",
      "SL Hit: 23\n",
      "Win Rate (%): 41.46\n"
     ]
    },
    {
     "name": "stderr",
     "output_type": "stream",
     "text": [
      "\n"
     ]
    }
   ],
   "source": [
    "import yfinance as yf\n",
    "import pandas as pd\n",
    "\n",
    "# Download daily data\n",
    "data = yf.download(\"AAPL\", start=\"2010-01-01\", end=\"2023-12-31\", interval=\"1d\", auto_adjust=False)\n",
    "\n",
    "# Handle multilevel column if exists\n",
    "if isinstance(data.columns, pd.MultiIndex):\n",
    "    data.columns = data.columns.get_level_values(0)\n",
    "\n",
    "data.index = pd.to_datetime(data.index)\n",
    "\n",
    "# Create weekly OHLC from daily\n",
    "weekly = data.resample('W-MON').agg({\n",
    "    'Open': 'first',\n",
    "    'High': 'max',\n",
    "    'Low': 'min',\n",
    "    'Close': 'last'\n",
    "})\n",
    "weekly.dropna(inplace=True)\n",
    "\n",
    "# Trade Engine variables\n",
    "tp_count = 0\n",
    "sl_count = 0\n",
    "total_trades = 0\n",
    "\n",
    "# Loop through weekly data (starting from index 2 for i-2 access)\n",
    "for i in range(2, len(weekly)-1):  # -1 to ensure we have a next week for slicing\n",
    "    prev2 = weekly.iloc[i-2]\n",
    "    prev1 = weekly.iloc[i-1]\n",
    "    current = weekly.iloc[i]\n",
    "\n",
    "    # Trade Signal Condition\n",
    "    if (\n",
    "        prev2['High'] > prev1['High'] and\n",
    "        prev2['Low'] < prev1['Low'] and\n",
    "        current['Close'] > prev1['High']\n",
    "    ):\n",
    "        trade_signal = True\n",
    "    else:\n",
    "        trade_signal = False\n",
    "\n",
    "    if trade_signal:\n",
    "        total_trades += 1\n",
    "\n",
    "        entry_price = current['Close']\n",
    "        sl = prev2['Low']\n",
    "        tp = entry_price + (entry_price - sl) * 5\n",
    "\n",
    "        first_hit = 0\n",
    "\n",
    "        # Start checking daily candles *after* the current weekly signal\n",
    "        entry_date = weekly.index[i]\n",
    "        daily_range = data.loc[entry_date:]\n",
    "\n",
    "        for j in range(len(daily_range)):\n",
    "            price = daily_range.iloc[j]['Close']\n",
    "\n",
    "            if price >= tp:\n",
    "                tp_count += 1\n",
    "                first_hit += 1\n",
    "                break\n",
    "            elif price <= sl:\n",
    "                sl_count += 1\n",
    "                first_hit += 1\n",
    "                break\n",
    "\n",
    "\n",
    "# Final Results\n",
    "print(\"Total Trades:\", total_trades)\n",
    "print(\"TP Hit:\", tp_count)\n",
    "print(\"SL Hit:\", sl_count)\n",
    "\n",
    "if total_trades > 0:\n",
    "    print(\"Win Rate (%):\", round(tp_count / total_trades * 100, 2))\n"
   ]
  },
  {
   "cell_type": "code",
   "execution_count": 74,
   "id": "5da57a77-fbe3-4842-b5ae-54c75ee4f323",
   "metadata": {},
   "outputs": [
    {
     "name": "stderr",
     "output_type": "stream",
     "text": [
      "[*********************100%***********************]  1 of 1 completed"
     ]
    },
    {
     "name": "stdout",
     "output_type": "stream",
     "text": [
      "\n",
      "Running strategy for MMM...\n",
      "MMM | Trades: 26, TP Hits: 3, SL Hits: 21\n"
     ]
    },
    {
     "name": "stderr",
     "output_type": "stream",
     "text": [
      "\n",
      "[*********************100%***********************]  1 of 1 completed"
     ]
    },
    {
     "name": "stdout",
     "output_type": "stream",
     "text": [
      "\n",
      "Running strategy for AOS...\n",
      "AOS | Trades: 35, TP Hits: 13, SL Hits: 19\n"
     ]
    },
    {
     "name": "stderr",
     "output_type": "stream",
     "text": [
      "\n",
      "[*********************100%***********************]  1 of 1 completed"
     ]
    },
    {
     "name": "stdout",
     "output_type": "stream",
     "text": [
      "\n",
      "Running strategy for ABT...\n",
      "ABT | Trades: 25, TP Hits: 8, SL Hits: 16\n"
     ]
    },
    {
     "name": "stderr",
     "output_type": "stream",
     "text": [
      "\n",
      "[*********************100%***********************]  1 of 1 completed"
     ]
    },
    {
     "name": "stdout",
     "output_type": "stream",
     "text": [
      "\n",
      "Running strategy for ABBV...\n",
      "ABBV | Trades: 28, TP Hits: 12, SL Hits: 15\n"
     ]
    },
    {
     "name": "stderr",
     "output_type": "stream",
     "text": [
      "\n",
      "[*********************100%***********************]  1 of 1 completed"
     ]
    },
    {
     "name": "stdout",
     "output_type": "stream",
     "text": [
      "\n",
      "Running strategy for ACN...\n",
      "ACN | Trades: 35, TP Hits: 16, SL Hits: 19\n"
     ]
    },
    {
     "name": "stderr",
     "output_type": "stream",
     "text": [
      "\n",
      "[*********************100%***********************]  1 of 1 completed"
     ]
    },
    {
     "name": "stdout",
     "output_type": "stream",
     "text": [
      "\n",
      "Running strategy for ADBE...\n",
      "ADBE | Trades: 39, TP Hits: 21, SL Hits: 18\n"
     ]
    },
    {
     "name": "stderr",
     "output_type": "stream",
     "text": [
      "\n",
      "[*********************100%***********************]  1 of 1 completed"
     ]
    },
    {
     "name": "stdout",
     "output_type": "stream",
     "text": [
      "\n",
      "Running strategy for AMD...\n",
      "AMD | Trades: 33, TP Hits: 12, SL Hits: 21\n"
     ]
    },
    {
     "name": "stderr",
     "output_type": "stream",
     "text": [
      "\n",
      "[*********************100%***********************]  1 of 1 completed"
     ]
    },
    {
     "name": "stdout",
     "output_type": "stream",
     "text": [
      "\n",
      "Running strategy for AES...\n",
      "AES | Trades: 27, TP Hits: 6, SL Hits: 18\n"
     ]
    },
    {
     "name": "stderr",
     "output_type": "stream",
     "text": [
      "\n",
      "[*********************100%***********************]  1 of 1 completed"
     ]
    },
    {
     "name": "stdout",
     "output_type": "stream",
     "text": [
      "\n",
      "Running strategy for AFL...\n",
      "AFL | Trades: 33, TP Hits: 16, SL Hits: 16\n"
     ]
    },
    {
     "name": "stderr",
     "output_type": "stream",
     "text": [
      "\n",
      "[*********************100%***********************]  1 of 1 completed"
     ]
    },
    {
     "name": "stdout",
     "output_type": "stream",
     "text": [
      "\n",
      "Running strategy for A...\n",
      "A | Trades: 30, TP Hits: 16, SL Hits: 14\n"
     ]
    },
    {
     "name": "stderr",
     "output_type": "stream",
     "text": [
      "\n"
     ]
    },
    {
     "name": "stdout",
     "output_type": "stream",
     "text": [
      "\n",
      "Running strategy for APD...\n"
     ]
    },
    {
     "name": "stderr",
     "output_type": "stream",
     "text": [
      "[*********************100%***********************]  1 of 1 completed\n"
     ]
    },
    {
     "name": "stdout",
     "output_type": "stream",
     "text": [
      "APD | Trades: 26, TP Hits: 6, SL Hits: 19\n",
      "\n",
      "Running strategy for ABNB...\n"
     ]
    },
    {
     "name": "stderr",
     "output_type": "stream",
     "text": [
      "[*********************100%***********************]  1 of 1 completed\n"
     ]
    },
    {
     "name": "stdout",
     "output_type": "stream",
     "text": [
      "ABNB | Trades: 5, TP Hits: 1, SL Hits: 2\n",
      "\n",
      "Running strategy for AKAM...\n"
     ]
    },
    {
     "name": "stderr",
     "output_type": "stream",
     "text": [
      "[*********************100%***********************]  1 of 1 completed\n"
     ]
    },
    {
     "name": "stdout",
     "output_type": "stream",
     "text": [
      "AKAM | Trades: 33, TP Hits: 11, SL Hits: 21\n",
      "\n",
      "Running strategy for ALB...\n"
     ]
    },
    {
     "name": "stderr",
     "output_type": "stream",
     "text": [
      "[*********************100%***********************]  1 of 1 completed\n"
     ]
    },
    {
     "name": "stdout",
     "output_type": "stream",
     "text": [
      "ALB | Trades: 39, TP Hits: 18, SL Hits: 21\n",
      "\n",
      "Running strategy for ARE...\n"
     ]
    },
    {
     "name": "stderr",
     "output_type": "stream",
     "text": [
      "[*********************100%***********************]  1 of 1 completed\n"
     ]
    },
    {
     "name": "stdout",
     "output_type": "stream",
     "text": [
      "ARE | Trades: 30, TP Hits: 9, SL Hits: 19\n",
      "\n",
      "Running strategy for ALGN...\n"
     ]
    },
    {
     "name": "stderr",
     "output_type": "stream",
     "text": [
      "[*********************100%***********************]  1 of 1 completed\n"
     ]
    },
    {
     "name": "stdout",
     "output_type": "stream",
     "text": [
      "ALGN | Trades: 44, TP Hits: 22, SL Hits: 20\n",
      "\n",
      "Running strategy for ALLE...\n"
     ]
    },
    {
     "name": "stderr",
     "output_type": "stream",
     "text": [
      "[*********************100%***********************]  1 of 1 completed\n"
     ]
    },
    {
     "name": "stdout",
     "output_type": "stream",
     "text": [
      "ALLE | Trades: 26, TP Hits: 10, SL Hits: 15\n",
      "\n",
      "Running strategy for LNT...\n"
     ]
    },
    {
     "name": "stderr",
     "output_type": "stream",
     "text": [
      "[*********************100%***********************]  1 of 1 completed\n"
     ]
    },
    {
     "name": "stdout",
     "output_type": "stream",
     "text": [
      "LNT | Trades: 34, TP Hits: 17, SL Hits: 16\n",
      "\n",
      "Running strategy for ALL...\n"
     ]
    },
    {
     "name": "stderr",
     "output_type": "stream",
     "text": [
      "[*********************100%***********************]  1 of 1 completed\n"
     ]
    },
    {
     "name": "stdout",
     "output_type": "stream",
     "text": [
      "ALL | Trades: 29, TP Hits: 10, SL Hits: 16\n",
      "\n",
      "Running strategy for GOOGL...\n"
     ]
    },
    {
     "name": "stderr",
     "output_type": "stream",
     "text": [
      "[*********************100%***********************]  1 of 1 completed\n"
     ]
    },
    {
     "name": "stdout",
     "output_type": "stream",
     "text": [
      "GOOGL | Trades: 41, TP Hits: 17, SL Hits: 19\n",
      "\n",
      "Running strategy for GOOG...\n"
     ]
    },
    {
     "name": "stderr",
     "output_type": "stream",
     "text": [
      "[*********************100%***********************]  1 of 1 completed\n"
     ]
    },
    {
     "name": "stdout",
     "output_type": "stream",
     "text": [
      "GOOG | Trades: 44, TP Hits: 21, SL Hits: 18\n",
      "\n",
      "Running strategy for MO...\n"
     ]
    },
    {
     "name": "stderr",
     "output_type": "stream",
     "text": [
      "[*********************100%***********************]  1 of 1 completed\n"
     ]
    },
    {
     "name": "stdout",
     "output_type": "stream",
     "text": [
      "MO | Trades: 29, TP Hits: 14, SL Hits: 14\n",
      "\n",
      "Running strategy for AMZN...\n"
     ]
    },
    {
     "name": "stderr",
     "output_type": "stream",
     "text": [
      "[*********************100%***********************]  1 of 1 completed\n"
     ]
    },
    {
     "name": "stdout",
     "output_type": "stream",
     "text": [
      "AMZN | Trades: 35, TP Hits: 19, SL Hits: 16\n",
      "\n",
      "Running strategy for AMCR...\n"
     ]
    },
    {
     "name": "stderr",
     "output_type": "stream",
     "text": [
      "[*********************100%***********************]  1 of 1 completed\n"
     ]
    },
    {
     "name": "stdout",
     "output_type": "stream",
     "text": [
      "AMCR | Trades: 21, TP Hits: 4, SL Hits: 14\n",
      "\n",
      "Running strategy for AEE...\n"
     ]
    },
    {
     "name": "stderr",
     "output_type": "stream",
     "text": [
      "[*********************100%***********************]  1 of 1 completed\n"
     ]
    },
    {
     "name": "stdout",
     "output_type": "stream",
     "text": [
      "AEE | Trades: 25, TP Hits: 6, SL Hits: 19\n",
      "\n",
      "Running strategy for AEP...\n"
     ]
    },
    {
     "name": "stderr",
     "output_type": "stream",
     "text": [
      "[*********************100%***********************]  1 of 1 completed\n"
     ]
    },
    {
     "name": "stdout",
     "output_type": "stream",
     "text": [
      "AEP | Trades: 35, TP Hits: 15, SL Hits: 18\n",
      "\n",
      "Running strategy for AXP...\n"
     ]
    },
    {
     "name": "stderr",
     "output_type": "stream",
     "text": [
      "[*********************100%***********************]  1 of 1 completed\n"
     ]
    },
    {
     "name": "stdout",
     "output_type": "stream",
     "text": [
      "AXP | Trades: 24, TP Hits: 10, SL Hits: 12\n",
      "\n",
      "Running strategy for AIG...\n"
     ]
    },
    {
     "name": "stderr",
     "output_type": "stream",
     "text": [
      "[*********************100%***********************]  1 of 1 completed\n"
     ]
    },
    {
     "name": "stdout",
     "output_type": "stream",
     "text": [
      "AIG | Trades: 37, TP Hits: 10, SL Hits: 23\n",
      "\n",
      "Running strategy for AMT...\n"
     ]
    },
    {
     "name": "stderr",
     "output_type": "stream",
     "text": [
      "[*********************100%***********************]  1 of 1 completed\n"
     ]
    },
    {
     "name": "stdout",
     "output_type": "stream",
     "text": [
      "AMT | Trades: 32, TP Hits: 15, SL Hits: 16\n",
      "\n",
      "Running strategy for AWK...\n"
     ]
    },
    {
     "name": "stderr",
     "output_type": "stream",
     "text": [
      "[*********************100%***********************]  1 of 1 completed\n"
     ]
    },
    {
     "name": "stdout",
     "output_type": "stream",
     "text": [
      "AWK | Trades: 25, TP Hits: 8, SL Hits: 13\n",
      "\n",
      "Running strategy for AMP...\n"
     ]
    },
    {
     "name": "stderr",
     "output_type": "stream",
     "text": [
      "[*********************100%***********************]  1 of 1 completed\n"
     ]
    },
    {
     "name": "stdout",
     "output_type": "stream",
     "text": [
      "AMP | Trades: 29, TP Hits: 10, SL Hits: 17\n",
      "\n",
      "Running strategy for AME...\n"
     ]
    },
    {
     "name": "stderr",
     "output_type": "stream",
     "text": [
      "[*********************100%***********************]  1 of 1 completed\n"
     ]
    },
    {
     "name": "stdout",
     "output_type": "stream",
     "text": [
      "AME | Trades: 18, TP Hits: 4, SL Hits: 14\n",
      "\n",
      "Running strategy for AMGN...\n"
     ]
    },
    {
     "name": "stderr",
     "output_type": "stream",
     "text": [
      "[*********************100%***********************]  1 of 1 completed\n"
     ]
    },
    {
     "name": "stdout",
     "output_type": "stream",
     "text": [
      "AMGN | Trades: 26, TP Hits: 13, SL Hits: 12\n",
      "\n",
      "Running strategy for APH...\n"
     ]
    },
    {
     "name": "stderr",
     "output_type": "stream",
     "text": [
      "[*********************100%***********************]  1 of 1 completed\n"
     ]
    },
    {
     "name": "stdout",
     "output_type": "stream",
     "text": [
      "APH | Trades: 30, TP Hits: 10, SL Hits: 20\n",
      "\n",
      "Running strategy for ADI...\n"
     ]
    },
    {
     "name": "stderr",
     "output_type": "stream",
     "text": [
      "[*********************100%***********************]  1 of 1 completed\n"
     ]
    },
    {
     "name": "stdout",
     "output_type": "stream",
     "text": [
      "ADI | Trades: 31, TP Hits: 11, SL Hits: 20\n",
      "\n",
      "Running strategy for ANSS...\n"
     ]
    },
    {
     "name": "stderr",
     "output_type": "stream",
     "text": [
      "[*********************100%***********************]  1 of 1 completed\n"
     ]
    },
    {
     "name": "stdout",
     "output_type": "stream",
     "text": [
      "ANSS | Trades: 27, TP Hits: 10, SL Hits: 16\n",
      "\n",
      "Running strategy for AON...\n"
     ]
    },
    {
     "name": "stderr",
     "output_type": "stream",
     "text": [
      "[*********************100%***********************]  1 of 1 completed\n"
     ]
    },
    {
     "name": "stdout",
     "output_type": "stream",
     "text": [
      "AON | Trades: 37, TP Hits: 18, SL Hits: 18\n",
      "\n",
      "Running strategy for APA...\n"
     ]
    },
    {
     "name": "stderr",
     "output_type": "stream",
     "text": [
      "[*********************100%***********************]  1 of 1 completed\n"
     ]
    },
    {
     "name": "stdout",
     "output_type": "stream",
     "text": [
      "APA | Trades: 26, TP Hits: 3, SL Hits: 21\n",
      "\n",
      "Running strategy for APO...\n"
     ]
    },
    {
     "name": "stderr",
     "output_type": "stream",
     "text": [
      "[*********************100%***********************]  1 of 1 completed\n"
     ]
    },
    {
     "name": "stdout",
     "output_type": "stream",
     "text": [
      "APO | Trades: 22, TP Hits: 6, SL Hits: 13\n",
      "\n",
      "Running strategy for AAPL...\n"
     ]
    },
    {
     "name": "stderr",
     "output_type": "stream",
     "text": [
      "[*********************100%***********************]  1 of 1 completed\n"
     ]
    },
    {
     "name": "stdout",
     "output_type": "stream",
     "text": [
      "AAPL | Trades: 41, TP Hits: 19, SL Hits: 22\n",
      "\n",
      "Running strategy for AMAT...\n"
     ]
    },
    {
     "name": "stderr",
     "output_type": "stream",
     "text": [
      "[*********************100%***********************]  1 of 1 completed\n"
     ]
    },
    {
     "name": "stdout",
     "output_type": "stream",
     "text": [
      "AMAT | Trades: 41, TP Hits: 19, SL Hits: 22\n",
      "\n",
      "Running strategy for APTV...\n"
     ]
    },
    {
     "name": "stderr",
     "output_type": "stream",
     "text": [
      "[*********************100%***********************]  1 of 1 completed\n"
     ]
    },
    {
     "name": "stdout",
     "output_type": "stream",
     "text": [
      "APTV | Trades: 34, TP Hits: 12, SL Hits: 21\n",
      "\n",
      "Running strategy for ACGL...\n"
     ]
    },
    {
     "name": "stderr",
     "output_type": "stream",
     "text": [
      "[*********************100%***********************]  1 of 1 completed\n"
     ]
    },
    {
     "name": "stdout",
     "output_type": "stream",
     "text": [
      "ACGL | Trades: 32, TP Hits: 15, SL Hits: 16\n",
      "\n",
      "Running strategy for ADM...\n"
     ]
    },
    {
     "name": "stderr",
     "output_type": "stream",
     "text": [
      "[*********************100%***********************]  1 of 1 completed\n"
     ]
    },
    {
     "name": "stdout",
     "output_type": "stream",
     "text": [
      "ADM | Trades: 27, TP Hits: 9, SL Hits: 18\n",
      "\n",
      "Running strategy for ANET...\n"
     ]
    },
    {
     "name": "stderr",
     "output_type": "stream",
     "text": [
      "[*********************100%***********************]  1 of 1 completed\n"
     ]
    },
    {
     "name": "stdout",
     "output_type": "stream",
     "text": [
      "ANET | Trades: 24, TP Hits: 13, SL Hits: 11\n",
      "\n",
      "Running strategy for AJG...\n"
     ]
    },
    {
     "name": "stderr",
     "output_type": "stream",
     "text": [
      "[*********************100%***********************]  1 of 1 completed\n"
     ]
    },
    {
     "name": "stdout",
     "output_type": "stream",
     "text": [
      "AJG | Trades: 30, TP Hits: 17, SL Hits: 12\n",
      "\n",
      "Running strategy for AIZ...\n"
     ]
    },
    {
     "name": "stderr",
     "output_type": "stream",
     "text": [
      "[*********************100%***********************]  1 of 1 completed\n"
     ]
    },
    {
     "name": "stdout",
     "output_type": "stream",
     "text": [
      "AIZ | Trades: 42, TP Hits: 11, SL Hits: 28\n",
      "\n",
      "Running strategy for T...\n"
     ]
    },
    {
     "name": "stderr",
     "output_type": "stream",
     "text": [
      "[*********************100%***********************]  1 of 1 completed\n"
     ]
    },
    {
     "name": "stdout",
     "output_type": "stream",
     "text": [
      "T | Trades: 36, TP Hits: 5, SL Hits: 29\n",
      "\n",
      "Running strategy for ATO...\n"
     ]
    },
    {
     "name": "stderr",
     "output_type": "stream",
     "text": [
      "[*********************100%***********************]  1 of 1 completed\n"
     ]
    },
    {
     "name": "stdout",
     "output_type": "stream",
     "text": [
      "ATO | Trades: 28, TP Hits: 10, SL Hits: 16\n",
      "\n",
      "Running strategy for ADSK...\n"
     ]
    },
    {
     "name": "stderr",
     "output_type": "stream",
     "text": [
      "[*********************100%***********************]  1 of 1 completed\n"
     ]
    },
    {
     "name": "stdout",
     "output_type": "stream",
     "text": [
      "ADSK | Trades: 26, TP Hits: 10, SL Hits: 16\n",
      "\n",
      "Running strategy for ADP...\n"
     ]
    },
    {
     "name": "stderr",
     "output_type": "stream",
     "text": [
      "[*********************100%***********************]  1 of 1 completed\n"
     ]
    },
    {
     "name": "stdout",
     "output_type": "stream",
     "text": [
      "ADP | Trades: 33, TP Hits: 17, SL Hits: 16\n",
      "\n",
      "Running strategy for AZO...\n"
     ]
    },
    {
     "name": "stderr",
     "output_type": "stream",
     "text": [
      "[*********************100%***********************]  1 of 1 completed\n"
     ]
    },
    {
     "name": "stdout",
     "output_type": "stream",
     "text": [
      "AZO | Trades: 28, TP Hits: 17, SL Hits: 10\n",
      "\n",
      "Running strategy for AVB...\n"
     ]
    },
    {
     "name": "stderr",
     "output_type": "stream",
     "text": [
      "[*********************100%***********************]  1 of 1 completed\n"
     ]
    },
    {
     "name": "stdout",
     "output_type": "stream",
     "text": [
      "AVB | Trades: 42, TP Hits: 11, SL Hits: 26\n",
      "\n",
      "Running strategy for AVY...\n"
     ]
    },
    {
     "name": "stderr",
     "output_type": "stream",
     "text": [
      "[*********************100%***********************]  1 of 1 completed\n"
     ]
    },
    {
     "name": "stdout",
     "output_type": "stream",
     "text": [
      "AVY | Trades: 35, TP Hits: 12, SL Hits: 20\n",
      "\n",
      "Running strategy for AXON...\n"
     ]
    },
    {
     "name": "stderr",
     "output_type": "stream",
     "text": [
      "[*********************100%***********************]  1 of 1 completed\n"
     ]
    },
    {
     "name": "stdout",
     "output_type": "stream",
     "text": [
      "AXON | Trades: 33, TP Hits: 13, SL Hits: 19\n",
      "\n",
      "Running strategy for BKR...\n"
     ]
    },
    {
     "name": "stderr",
     "output_type": "stream",
     "text": [
      "[*********************100%***********************]  1 of 1 completed\n"
     ]
    },
    {
     "name": "stdout",
     "output_type": "stream",
     "text": [
      "BKR | Trades: 22, TP Hits: 7, SL Hits: 15\n",
      "\n",
      "Running strategy for BALL...\n"
     ]
    },
    {
     "name": "stderr",
     "output_type": "stream",
     "text": [
      "[*********************100%***********************]  1 of 1 completed\n"
     ]
    },
    {
     "name": "stdout",
     "output_type": "stream",
     "text": [
      "BALL | Trades: 25, TP Hits: 7, SL Hits: 17\n",
      "\n",
      "Running strategy for BAC...\n"
     ]
    },
    {
     "name": "stderr",
     "output_type": "stream",
     "text": [
      "[*********************100%***********************]  1 of 1 completed\n"
     ]
    },
    {
     "name": "stdout",
     "output_type": "stream",
     "text": [
      "BAC | Trades: 38, TP Hits: 15, SL Hits: 21\n",
      "\n",
      "Running strategy for BAX...\n"
     ]
    },
    {
     "name": "stderr",
     "output_type": "stream",
     "text": [
      "[*********************100%***********************]  1 of 1 completed\n"
     ]
    },
    {
     "name": "stdout",
     "output_type": "stream",
     "text": [
      "BAX | Trades: 36, TP Hits: 17, SL Hits: 17\n",
      "\n",
      "Running strategy for BDX...\n"
     ]
    },
    {
     "name": "stderr",
     "output_type": "stream",
     "text": [
      "[*********************100%***********************]  1 of 1 completed\n"
     ]
    },
    {
     "name": "stdout",
     "output_type": "stream",
     "text": [
      "BDX | Trades: 39, TP Hits: 16, SL Hits: 21\n",
      "\n",
      "Running strategy for BRK.B...\n"
     ]
    },
    {
     "name": "stderr",
     "output_type": "stream",
     "text": [
      "[*********************100%***********************]  1 of 1 completed\n",
      "\n",
      "1 Failed download:\n",
      "['BRK.B']: YFTzMissingError('possibly delisted; no timezone found')\n"
     ]
    },
    {
     "name": "stdout",
     "output_type": "stream",
     "text": [
      "BRK.B has no data.\n",
      "\n",
      "Running strategy for BBY...\n"
     ]
    },
    {
     "name": "stderr",
     "output_type": "stream",
     "text": [
      "[*********************100%***********************]  1 of 1 completed\n"
     ]
    },
    {
     "name": "stdout",
     "output_type": "stream",
     "text": [
      "BBY | Trades: 30, TP Hits: 9, SL Hits: 21\n",
      "\n",
      "Running strategy for TECH...\n"
     ]
    },
    {
     "name": "stderr",
     "output_type": "stream",
     "text": [
      "[*********************100%***********************]  1 of 1 completed\n"
     ]
    },
    {
     "name": "stdout",
     "output_type": "stream",
     "text": [
      "TECH | Trades: 30, TP Hits: 8, SL Hits: 21\n",
      "\n",
      "Running strategy for BIIB...\n"
     ]
    },
    {
     "name": "stderr",
     "output_type": "stream",
     "text": [
      "[*********************100%***********************]  1 of 1 completed\n"
     ]
    },
    {
     "name": "stdout",
     "output_type": "stream",
     "text": [
      "BIIB | Trades: 41, TP Hits: 11, SL Hits: 30\n",
      "\n",
      "Running strategy for BLK...\n"
     ]
    },
    {
     "name": "stderr",
     "output_type": "stream",
     "text": [
      "[*********************100%***********************]  1 of 1 completed\n"
     ]
    },
    {
     "name": "stdout",
     "output_type": "stream",
     "text": [
      "BLK | Trades: 33, TP Hits: 11, SL Hits: 21\n",
      "\n",
      "Running strategy for BX...\n"
     ]
    },
    {
     "name": "stderr",
     "output_type": "stream",
     "text": [
      "[*********************100%***********************]  1 of 1 completed\n"
     ]
    },
    {
     "name": "stdout",
     "output_type": "stream",
     "text": [
      "BX | Trades: 32, TP Hits: 14, SL Hits: 16\n",
      "\n",
      "Running strategy for BK...\n"
     ]
    },
    {
     "name": "stderr",
     "output_type": "stream",
     "text": [
      "[*********************100%***********************]  1 of 1 completed\n"
     ]
    },
    {
     "name": "stdout",
     "output_type": "stream",
     "text": [
      "BK | Trades: 24, TP Hits: 8, SL Hits: 15\n",
      "\n",
      "Running strategy for BA...\n"
     ]
    },
    {
     "name": "stderr",
     "output_type": "stream",
     "text": [
      "[*********************100%***********************]  1 of 1 completed\n"
     ]
    },
    {
     "name": "stdout",
     "output_type": "stream",
     "text": [
      "BA | Trades: 31, TP Hits: 11, SL Hits: 20\n",
      "\n",
      "Running strategy for BKNG...\n"
     ]
    },
    {
     "name": "stderr",
     "output_type": "stream",
     "text": [
      "[*********************100%***********************]  1 of 1 completed\n"
     ]
    },
    {
     "name": "stdout",
     "output_type": "stream",
     "text": [
      "BKNG | Trades: 27, TP Hits: 12, SL Hits: 15\n",
      "\n",
      "Running strategy for BSX...\n"
     ]
    },
    {
     "name": "stderr",
     "output_type": "stream",
     "text": [
      "[*********************100%***********************]  1 of 1 completed\n"
     ]
    },
    {
     "name": "stdout",
     "output_type": "stream",
     "text": [
      "BSX | Trades: 32, TP Hits: 14, SL Hits: 18\n",
      "\n",
      "Running strategy for BMY...\n"
     ]
    },
    {
     "name": "stderr",
     "output_type": "stream",
     "text": [
      "[*********************100%***********************]  1 of 1 completed\n"
     ]
    },
    {
     "name": "stdout",
     "output_type": "stream",
     "text": [
      "BMY | Trades: 35, TP Hits: 7, SL Hits: 27\n",
      "\n",
      "Running strategy for AVGO...\n"
     ]
    },
    {
     "name": "stderr",
     "output_type": "stream",
     "text": [
      "[*********************100%***********************]  1 of 1 completed\n"
     ]
    },
    {
     "name": "stdout",
     "output_type": "stream",
     "text": [
      "AVGO | Trades: 32, TP Hits: 20, SL Hits: 12\n",
      "\n",
      "Running strategy for BR...\n"
     ]
    },
    {
     "name": "stderr",
     "output_type": "stream",
     "text": [
      "[*********************100%***********************]  1 of 1 completed\n"
     ]
    },
    {
     "name": "stdout",
     "output_type": "stream",
     "text": [
      "BR | Trades: 30, TP Hits: 13, SL Hits: 15\n",
      "\n",
      "Running strategy for BRO...\n"
     ]
    },
    {
     "name": "stderr",
     "output_type": "stream",
     "text": [
      "[*********************100%***********************]  1 of 1 completed\n"
     ]
    },
    {
     "name": "stdout",
     "output_type": "stream",
     "text": [
      "BRO | Trades: 28, TP Hits: 14, SL Hits: 13\n",
      "\n",
      "Running strategy for BF.B...\n"
     ]
    },
    {
     "name": "stderr",
     "output_type": "stream",
     "text": [
      "[*********************100%***********************]  1 of 1 completed\n",
      "\n",
      "1 Failed download:\n",
      "['BF.B']: YFPricesMissingError('possibly delisted; no price data found  (1d 2010-01-01 -> 2023-12-31)')\n"
     ]
    },
    {
     "name": "stdout",
     "output_type": "stream",
     "text": [
      "BF.B has no data.\n",
      "\n",
      "Running strategy for BLDR...\n"
     ]
    },
    {
     "name": "stderr",
     "output_type": "stream",
     "text": [
      "[*********************100%***********************]  1 of 1 completed\n"
     ]
    },
    {
     "name": "stdout",
     "output_type": "stream",
     "text": [
      "BLDR | Trades: 35, TP Hits: 16, SL Hits: 18\n",
      "\n",
      "Running strategy for BG...\n"
     ]
    },
    {
     "name": "stderr",
     "output_type": "stream",
     "text": [
      "[*********************100%***********************]  1 of 1 completed\n"
     ]
    },
    {
     "name": "stdout",
     "output_type": "stream",
     "text": [
      "BG | Trades: 30, TP Hits: 12, SL Hits: 18\n",
      "\n",
      "Running strategy for BXP...\n"
     ]
    },
    {
     "name": "stderr",
     "output_type": "stream",
     "text": [
      "[*********************100%***********************]  1 of 1 completed\n"
     ]
    },
    {
     "name": "stdout",
     "output_type": "stream",
     "text": [
      "BXP | Trades: 26, TP Hits: 4, SL Hits: 21\n",
      "\n",
      "Running strategy for CHRW...\n"
     ]
    },
    {
     "name": "stderr",
     "output_type": "stream",
     "text": [
      "[*********************100%***********************]  1 of 1 completed\n"
     ]
    },
    {
     "name": "stdout",
     "output_type": "stream",
     "text": [
      "CHRW | Trades: 46, TP Hits: 12, SL Hits: 33\n",
      "\n",
      "Running strategy for CDNS...\n"
     ]
    },
    {
     "name": "stderr",
     "output_type": "stream",
     "text": [
      "[*********************100%***********************]  1 of 1 completed\n"
     ]
    },
    {
     "name": "stdout",
     "output_type": "stream",
     "text": [
      "CDNS | Trades: 28, TP Hits: 17, SL Hits: 11\n",
      "\n",
      "Running strategy for CZR...\n"
     ]
    },
    {
     "name": "stderr",
     "output_type": "stream",
     "text": [
      "[*********************100%***********************]  1 of 1 completed\n"
     ]
    },
    {
     "name": "stdout",
     "output_type": "stream",
     "text": [
      "CZR | Trades: 24, TP Hits: 12, SL Hits: 12\n",
      "\n",
      "Running strategy for CPT...\n"
     ]
    },
    {
     "name": "stderr",
     "output_type": "stream",
     "text": [
      "[*********************100%***********************]  1 of 1 completed\n"
     ]
    },
    {
     "name": "stdout",
     "output_type": "stream",
     "text": [
      "CPT | Trades: 38, TP Hits: 14, SL Hits: 23\n",
      "\n",
      "Running strategy for CPB...\n"
     ]
    },
    {
     "name": "stderr",
     "output_type": "stream",
     "text": [
      "[*********************100%***********************]  1 of 1 completed\n"
     ]
    },
    {
     "name": "stdout",
     "output_type": "stream",
     "text": [
      "CPB | Trades: 33, TP Hits: 9, SL Hits: 23\n",
      "\n",
      "Running strategy for COF...\n"
     ]
    },
    {
     "name": "stderr",
     "output_type": "stream",
     "text": [
      "[*********************100%***********************]  1 of 1 completed\n"
     ]
    },
    {
     "name": "stdout",
     "output_type": "stream",
     "text": [
      "COF | Trades: 29, TP Hits: 7, SL Hits: 20\n",
      "\n",
      "Running strategy for CAH...\n"
     ]
    },
    {
     "name": "stderr",
     "output_type": "stream",
     "text": [
      "[*********************100%***********************]  1 of 1 completed\n"
     ]
    },
    {
     "name": "stdout",
     "output_type": "stream",
     "text": [
      "CAH | Trades: 34, TP Hits: 10, SL Hits: 24\n",
      "\n",
      "Running strategy for KMX...\n"
     ]
    },
    {
     "name": "stderr",
     "output_type": "stream",
     "text": [
      "[*********************100%***********************]  1 of 1 completed\n"
     ]
    },
    {
     "name": "stdout",
     "output_type": "stream",
     "text": [
      "KMX | Trades: 29, TP Hits: 14, SL Hits: 12\n",
      "\n",
      "Running strategy for CCL...\n"
     ]
    },
    {
     "name": "stderr",
     "output_type": "stream",
     "text": [
      "[*********************100%***********************]  1 of 1 completed\n"
     ]
    },
    {
     "name": "stdout",
     "output_type": "stream",
     "text": [
      "CCL | Trades: 25, TP Hits: 8, SL Hits: 16\n"
     ]
    },
    {
     "name": "stderr",
     "output_type": "stream",
     "text": [
      "[*********************100%***********************]  1 of 1 completed"
     ]
    },
    {
     "name": "stdout",
     "output_type": "stream",
     "text": [
      "\n",
      "Running strategy for CARR...\n"
     ]
    },
    {
     "name": "stderr",
     "output_type": "stream",
     "text": [
      "\n"
     ]
    },
    {
     "name": "stdout",
     "output_type": "stream",
     "text": [
      "CARR | Trades: 7, TP Hits: 4, SL Hits: 2\n",
      "\n",
      "Running strategy for CAT...\n"
     ]
    },
    {
     "name": "stderr",
     "output_type": "stream",
     "text": [
      "[*********************100%***********************]  1 of 1 completed\n"
     ]
    },
    {
     "name": "stdout",
     "output_type": "stream",
     "text": [
      "CAT | Trades: 35, TP Hits: 13, SL Hits: 21\n",
      "\n",
      "Running strategy for CBOE...\n"
     ]
    },
    {
     "name": "stderr",
     "output_type": "stream",
     "text": [
      "[*********************100%***********************]  1 of 1 completed\n"
     ]
    },
    {
     "name": "stdout",
     "output_type": "stream",
     "text": [
      "CBOE | Trades: 36, TP Hits: 19, SL Hits: 15\n",
      "\n",
      "Running strategy for CBRE...\n"
     ]
    },
    {
     "name": "stderr",
     "output_type": "stream",
     "text": [
      "[*********************100%***********************]  1 of 1 completed\n"
     ]
    },
    {
     "name": "stdout",
     "output_type": "stream",
     "text": [
      "CBRE | Trades: 34, TP Hits: 17, SL Hits: 15\n",
      "\n",
      "Running strategy for CDW...\n"
     ]
    },
    {
     "name": "stderr",
     "output_type": "stream",
     "text": [
      "[*********************100%***********************]  1 of 1 completed\n"
     ]
    },
    {
     "name": "stdout",
     "output_type": "stream",
     "text": [
      "CDW | Trades: 24, TP Hits: 16, SL Hits: 8\n",
      "\n",
      "Running strategy for COR...\n"
     ]
    },
    {
     "name": "stderr",
     "output_type": "stream",
     "text": [
      "[*********************100%***********************]  1 of 1 completed\n"
     ]
    },
    {
     "name": "stdout",
     "output_type": "stream",
     "text": [
      "COR | Trades: 35, TP Hits: 16, SL Hits: 17\n",
      "\n",
      "Running strategy for CNC...\n"
     ]
    },
    {
     "name": "stderr",
     "output_type": "stream",
     "text": [
      "[*********************100%***********************]  1 of 1 completed\n"
     ]
    },
    {
     "name": "stdout",
     "output_type": "stream",
     "text": [
      "CNC | Trades: 32, TP Hits: 13, SL Hits: 18\n",
      "\n",
      "Running strategy for CNP...\n"
     ]
    },
    {
     "name": "stderr",
     "output_type": "stream",
     "text": [
      "[*********************100%***********************]  1 of 1 completed\n"
     ]
    },
    {
     "name": "stdout",
     "output_type": "stream",
     "text": [
      "CNP | Trades: 29, TP Hits: 10, SL Hits: 19\n",
      "\n",
      "Running strategy for CF...\n"
     ]
    },
    {
     "name": "stderr",
     "output_type": "stream",
     "text": [
      "[*********************100%***********************]  1 of 1 completed\n"
     ]
    },
    {
     "name": "stdout",
     "output_type": "stream",
     "text": [
      "CF | Trades: 32, TP Hits: 14, SL Hits: 17\n",
      "\n",
      "Running strategy for CRL...\n"
     ]
    },
    {
     "name": "stderr",
     "output_type": "stream",
     "text": [
      "[*********************100%***********************]  1 of 1 completed\n"
     ]
    },
    {
     "name": "stdout",
     "output_type": "stream",
     "text": [
      "CRL | Trades: 31, TP Hits: 10, SL Hits: 21\n",
      "\n",
      "Running strategy for SCHW...\n"
     ]
    },
    {
     "name": "stderr",
     "output_type": "stream",
     "text": [
      "[*********************100%***********************]  1 of 1 completed\n"
     ]
    },
    {
     "name": "stdout",
     "output_type": "stream",
     "text": [
      "SCHW | Trades: 34, TP Hits: 9, SL Hits: 23\n",
      "\n",
      "Running strategy for CHTR...\n"
     ]
    },
    {
     "name": "stderr",
     "output_type": "stream",
     "text": [
      "[*********************100%***********************]  1 of 1 completed\n"
     ]
    },
    {
     "name": "stdout",
     "output_type": "stream",
     "text": [
      "CHTR | Trades: 32, TP Hits: 13, SL Hits: 19\n",
      "\n",
      "Running strategy for CVX...\n"
     ]
    },
    {
     "name": "stderr",
     "output_type": "stream",
     "text": [
      "[*********************100%***********************]  1 of 1 completed\n"
     ]
    },
    {
     "name": "stdout",
     "output_type": "stream",
     "text": [
      "CVX | Trades: 29, TP Hits: 9, SL Hits: 20\n",
      "\n",
      "Running strategy for CMG...\n"
     ]
    },
    {
     "name": "stderr",
     "output_type": "stream",
     "text": [
      "[*********************100%***********************]  1 of 1 completed\n"
     ]
    },
    {
     "name": "stdout",
     "output_type": "stream",
     "text": [
      "CMG | Trades: 31, TP Hits: 14, SL Hits: 17\n",
      "\n",
      "Running strategy for CB...\n"
     ]
    },
    {
     "name": "stderr",
     "output_type": "stream",
     "text": [
      "[*********************100%***********************]  1 of 1 completed\n"
     ]
    },
    {
     "name": "stdout",
     "output_type": "stream",
     "text": [
      "CB | Trades: 32, TP Hits: 14, SL Hits: 17\n",
      "\n",
      "Running strategy for CHD...\n"
     ]
    },
    {
     "name": "stderr",
     "output_type": "stream",
     "text": [
      "[*********************100%***********************]  1 of 1 completed\n"
     ]
    },
    {
     "name": "stdout",
     "output_type": "stream",
     "text": [
      "CHD | Trades: 29, TP Hits: 10, SL Hits: 17\n",
      "\n",
      "Running strategy for CI...\n"
     ]
    },
    {
     "name": "stderr",
     "output_type": "stream",
     "text": [
      "[*********************100%***********************]  1 of 1 completed\n"
     ]
    },
    {
     "name": "stdout",
     "output_type": "stream",
     "text": [
      "CI | Trades: 33, TP Hits: 14, SL Hits: 19\n",
      "\n",
      "Running strategy for CINF...\n"
     ]
    },
    {
     "name": "stderr",
     "output_type": "stream",
     "text": [
      "[*********************100%***********************]  1 of 1 completed\n"
     ]
    },
    {
     "name": "stdout",
     "output_type": "stream",
     "text": [
      "CINF | Trades: 35, TP Hits: 14, SL Hits: 20\n",
      "\n",
      "Running strategy for CTAS...\n"
     ]
    },
    {
     "name": "stderr",
     "output_type": "stream",
     "text": [
      "[*********************100%***********************]  1 of 1 completed\n"
     ]
    },
    {
     "name": "stdout",
     "output_type": "stream",
     "text": [
      "CTAS | Trades: 29, TP Hits: 19, SL Hits: 9\n",
      "\n",
      "Running strategy for CSCO...\n"
     ]
    },
    {
     "name": "stderr",
     "output_type": "stream",
     "text": [
      "[*********************100%***********************]  1 of 1 completed\n"
     ]
    },
    {
     "name": "stdout",
     "output_type": "stream",
     "text": [
      "CSCO | Trades: 36, TP Hits: 12, SL Hits: 22\n",
      "\n",
      "Running strategy for C...\n"
     ]
    },
    {
     "name": "stderr",
     "output_type": "stream",
     "text": [
      "[*********************100%***********************]  1 of 1 completed\n"
     ]
    },
    {
     "name": "stdout",
     "output_type": "stream",
     "text": [
      "C | Trades: 24, TP Hits: 9, SL Hits: 14\n",
      "\n",
      "Running strategy for CFG...\n"
     ]
    },
    {
     "name": "stderr",
     "output_type": "stream",
     "text": [
      "[*********************100%***********************]  1 of 1 completed\n"
     ]
    },
    {
     "name": "stdout",
     "output_type": "stream",
     "text": [
      "CFG | Trades: 19, TP Hits: 3, SL Hits: 14\n",
      "\n",
      "Running strategy for CLX...\n"
     ]
    },
    {
     "name": "stderr",
     "output_type": "stream",
     "text": [
      "[*********************100%***********************]  1 of 1 completed\n"
     ]
    },
    {
     "name": "stdout",
     "output_type": "stream",
     "text": [
      "CLX | Trades: 28, TP Hits: 11, SL Hits: 17\n",
      "\n",
      "Running strategy for CME...\n"
     ]
    },
    {
     "name": "stderr",
     "output_type": "stream",
     "text": [
      "[*********************100%***********************]  1 of 1 completed\n"
     ]
    },
    {
     "name": "stdout",
     "output_type": "stream",
     "text": [
      "CME | Trades: 24, TP Hits: 11, SL Hits: 13\n",
      "\n",
      "Running strategy for CMS...\n"
     ]
    },
    {
     "name": "stderr",
     "output_type": "stream",
     "text": [
      "[*********************100%***********************]  1 of 1 completed\n"
     ]
    },
    {
     "name": "stdout",
     "output_type": "stream",
     "text": [
      "CMS | Trades: 44, TP Hits: 17, SL Hits: 25\n",
      "\n",
      "Running strategy for KO...\n"
     ]
    },
    {
     "name": "stderr",
     "output_type": "stream",
     "text": [
      "[*********************100%***********************]  1 of 1 completed\n"
     ]
    },
    {
     "name": "stdout",
     "output_type": "stream",
     "text": [
      "KO | Trades: 36, TP Hits: 8, SL Hits: 27\n",
      "\n",
      "Running strategy for CTSH...\n"
     ]
    },
    {
     "name": "stderr",
     "output_type": "stream",
     "text": [
      "[*********************100%***********************]  1 of 1 completed\n"
     ]
    },
    {
     "name": "stdout",
     "output_type": "stream",
     "text": [
      "CTSH | Trades: 29, TP Hits: 7, SL Hits: 19\n",
      "\n",
      "Running strategy for CL...\n"
     ]
    },
    {
     "name": "stderr",
     "output_type": "stream",
     "text": [
      "[*********************100%***********************]  1 of 1 completed\n"
     ]
    },
    {
     "name": "stdout",
     "output_type": "stream",
     "text": [
      "CL | Trades: 39, TP Hits: 9, SL Hits: 29\n",
      "\n",
      "Running strategy for CMCSA...\n"
     ]
    },
    {
     "name": "stderr",
     "output_type": "stream",
     "text": [
      "[*********************100%***********************]  1 of 1 completed\n"
     ]
    },
    {
     "name": "stdout",
     "output_type": "stream",
     "text": [
      "CMCSA | Trades: 30, TP Hits: 7, SL Hits: 21\n",
      "\n",
      "Running strategy for CAG...\n"
     ]
    },
    {
     "name": "stderr",
     "output_type": "stream",
     "text": [
      "[*********************100%***********************]  1 of 1 completed\n"
     ]
    },
    {
     "name": "stdout",
     "output_type": "stream",
     "text": [
      "CAG | Trades: 28, TP Hits: 7, SL Hits: 20\n",
      "\n",
      "Running strategy for COP...\n"
     ]
    },
    {
     "name": "stderr",
     "output_type": "stream",
     "text": [
      "[*********************100%***********************]  1 of 1 completed\n"
     ]
    },
    {
     "name": "stdout",
     "output_type": "stream",
     "text": [
      "COP | Trades: 29, TP Hits: 14, SL Hits: 13\n",
      "\n",
      "Running strategy for ED...\n"
     ]
    },
    {
     "name": "stderr",
     "output_type": "stream",
     "text": [
      "[*********************100%***********************]  1 of 1 completed\n"
     ]
    },
    {
     "name": "stdout",
     "output_type": "stream",
     "text": [
      "ED | Trades: 36, TP Hits: 9, SL Hits: 25\n",
      "\n",
      "Running strategy for STZ...\n"
     ]
    },
    {
     "name": "stderr",
     "output_type": "stream",
     "text": [
      "[*********************100%***********************]  1 of 1 completed\n"
     ]
    },
    {
     "name": "stdout",
     "output_type": "stream",
     "text": [
      "STZ | Trades: 32, TP Hits: 16, SL Hits: 16\n",
      "\n",
      "Running strategy for CEG...\n"
     ]
    },
    {
     "name": "stderr",
     "output_type": "stream",
     "text": [
      "[*********************100%***********************]  1 of 1 completed\n"
     ]
    },
    {
     "name": "stdout",
     "output_type": "stream",
     "text": [
      "CEG | Trades: 4, TP Hits: 3, SL Hits: 1\n",
      "\n",
      "Running strategy for COO...\n"
     ]
    },
    {
     "name": "stderr",
     "output_type": "stream",
     "text": [
      "[*********************100%***********************]  1 of 1 completed\n"
     ]
    },
    {
     "name": "stdout",
     "output_type": "stream",
     "text": [
      "COO | Trades: 40, TP Hits: 20, SL Hits: 19\n",
      "\n",
      "Running strategy for CPRT...\n"
     ]
    },
    {
     "name": "stderr",
     "output_type": "stream",
     "text": [
      "[*********************100%***********************]  1 of 1 completed\n"
     ]
    },
    {
     "name": "stdout",
     "output_type": "stream",
     "text": [
      "CPRT | Trades: 36, TP Hits: 21, SL Hits: 15\n",
      "\n",
      "Running strategy for GLW...\n"
     ]
    },
    {
     "name": "stderr",
     "output_type": "stream",
     "text": [
      "[*********************100%***********************]  1 of 1 completed\n"
     ]
    },
    {
     "name": "stdout",
     "output_type": "stream",
     "text": [
      "GLW | Trades: 23, TP Hits: 10, SL Hits: 12\n",
      "\n",
      "Running strategy for CPAY...\n"
     ]
    },
    {
     "name": "stderr",
     "output_type": "stream",
     "text": [
      "[*********************100%***********************]  1 of 1 completed\n"
     ]
    },
    {
     "name": "stdout",
     "output_type": "stream",
     "text": [
      "CPAY | Trades: 37, TP Hits: 14, SL Hits: 23\n",
      "\n",
      "Running strategy for CTVA...\n"
     ]
    },
    {
     "name": "stderr",
     "output_type": "stream",
     "text": [
      "[*********************100%***********************]  1 of 1 completed\n"
     ]
    },
    {
     "name": "stdout",
     "output_type": "stream",
     "text": [
      "CTVA | Trades: 11, TP Hits: 4, SL Hits: 7\n",
      "\n",
      "Running strategy for CSGP...\n"
     ]
    },
    {
     "name": "stderr",
     "output_type": "stream",
     "text": [
      "[*********************100%***********************]  1 of 1 completed\n"
     ]
    },
    {
     "name": "stdout",
     "output_type": "stream",
     "text": [
      "CSGP | Trades: 31, TP Hits: 15, SL Hits: 15\n",
      "\n",
      "Running strategy for COST...\n"
     ]
    },
    {
     "name": "stderr",
     "output_type": "stream",
     "text": [
      "[*********************100%***********************]  1 of 1 completed\n"
     ]
    },
    {
     "name": "stdout",
     "output_type": "stream",
     "text": [
      "COST | Trades: 46, TP Hits: 24, SL Hits: 21\n",
      "\n",
      "Running strategy for CTRA...\n"
     ]
    },
    {
     "name": "stderr",
     "output_type": "stream",
     "text": [
      "[*********************100%***********************]  1 of 1 completed\n"
     ]
    },
    {
     "name": "stdout",
     "output_type": "stream",
     "text": [
      "CTRA | Trades: 39, TP Hits: 10, SL Hits: 27\n"
     ]
    },
    {
     "name": "stderr",
     "output_type": "stream",
     "text": [
      "[*********************100%***********************]  1 of 1 completed"
     ]
    },
    {
     "name": "stdout",
     "output_type": "stream",
     "text": [
      "\n",
      "Running strategy for CRWD...\n"
     ]
    },
    {
     "name": "stderr",
     "output_type": "stream",
     "text": [
      "\n"
     ]
    },
    {
     "name": "stdout",
     "output_type": "stream",
     "text": [
      "CRWD | Trades: 9, TP Hits: 4, SL Hits: 5\n",
      "\n",
      "Running strategy for CCI...\n"
     ]
    },
    {
     "name": "stderr",
     "output_type": "stream",
     "text": [
      "[*********************100%***********************]  1 of 1 completed\n"
     ]
    },
    {
     "name": "stdout",
     "output_type": "stream",
     "text": [
      "CCI | Trades: 30, TP Hits: 13, SL Hits: 15\n",
      "\n",
      "Running strategy for CSX...\n"
     ]
    },
    {
     "name": "stderr",
     "output_type": "stream",
     "text": [
      "[*********************100%***********************]  1 of 1 completed\n"
     ]
    },
    {
     "name": "stdout",
     "output_type": "stream",
     "text": [
      "CSX | Trades: 26, TP Hits: 10, SL Hits: 14\n",
      "\n",
      "Running strategy for CMI...\n"
     ]
    },
    {
     "name": "stderr",
     "output_type": "stream",
     "text": [
      "[*********************100%***********************]  1 of 1 completed\n"
     ]
    },
    {
     "name": "stdout",
     "output_type": "stream",
     "text": [
      "CMI | Trades: 29, TP Hits: 13, SL Hits: 15\n",
      "\n",
      "Running strategy for CVS...\n"
     ]
    },
    {
     "name": "stderr",
     "output_type": "stream",
     "text": [
      "[*********************100%***********************]  1 of 1 completed\n"
     ]
    },
    {
     "name": "stdout",
     "output_type": "stream",
     "text": [
      "CVS | Trades: 22, TP Hits: 6, SL Hits: 16\n",
      "\n",
      "Running strategy for DHR...\n"
     ]
    },
    {
     "name": "stderr",
     "output_type": "stream",
     "text": [
      "[*********************100%***********************]  1 of 1 completed\n"
     ]
    },
    {
     "name": "stdout",
     "output_type": "stream",
     "text": [
      "DHR | Trades: 25, TP Hits: 13, SL Hits: 12\n",
      "\n",
      "Running strategy for DRI...\n"
     ]
    },
    {
     "name": "stderr",
     "output_type": "stream",
     "text": [
      "[*********************100%***********************]  1 of 1 completed\n"
     ]
    },
    {
     "name": "stdout",
     "output_type": "stream",
     "text": [
      "DRI | Trades: 27, TP Hits: 10, SL Hits: 17\n",
      "\n",
      "Running strategy for DVA...\n"
     ]
    },
    {
     "name": "stderr",
     "output_type": "stream",
     "text": [
      "[*********************100%***********************]  1 of 1 completed\n"
     ]
    },
    {
     "name": "stdout",
     "output_type": "stream",
     "text": [
      "DVA | Trades: 32, TP Hits: 7, SL Hits: 24\n",
      "\n",
      "Running strategy for DAY...\n"
     ]
    },
    {
     "name": "stderr",
     "output_type": "stream",
     "text": [
      "[*********************100%***********************]  1 of 1 completed\n"
     ]
    },
    {
     "name": "stdout",
     "output_type": "stream",
     "text": [
      "DAY | Trades: 11, TP Hits: 2, SL Hits: 7\n",
      "\n",
      "Running strategy for DECK...\n"
     ]
    },
    {
     "name": "stderr",
     "output_type": "stream",
     "text": [
      "[*********************100%***********************]  1 of 1 completed\n"
     ]
    },
    {
     "name": "stdout",
     "output_type": "stream",
     "text": [
      "DECK | Trades: 38, TP Hits: 12, SL Hits: 26\n",
      "\n",
      "Running strategy for DE...\n"
     ]
    },
    {
     "name": "stderr",
     "output_type": "stream",
     "text": [
      "[*********************100%***********************]  1 of 1 completed\n"
     ]
    },
    {
     "name": "stdout",
     "output_type": "stream",
     "text": [
      "DE | Trades: 39, TP Hits: 11, SL Hits: 26\n",
      "\n",
      "Running strategy for DELL...\n"
     ]
    },
    {
     "name": "stderr",
     "output_type": "stream",
     "text": [
      "[*********************100%***********************]  1 of 1 completed\n"
     ]
    },
    {
     "name": "stdout",
     "output_type": "stream",
     "text": [
      "DELL | Trades: 16, TP Hits: 5, SL Hits: 11\n",
      "\n",
      "Running strategy for DAL...\n"
     ]
    },
    {
     "name": "stderr",
     "output_type": "stream",
     "text": [
      "[*********************100%***********************]  1 of 1 completed\n"
     ]
    },
    {
     "name": "stdout",
     "output_type": "stream",
     "text": [
      "DAL | Trades: 27, TP Hits: 8, SL Hits: 19\n",
      "\n",
      "Running strategy for DVN...\n"
     ]
    },
    {
     "name": "stderr",
     "output_type": "stream",
     "text": [
      "[*********************100%***********************]  1 of 1 completed\n"
     ]
    },
    {
     "name": "stdout",
     "output_type": "stream",
     "text": [
      "DVN | Trades: 33, TP Hits: 11, SL Hits: 22\n",
      "\n",
      "Running strategy for DXCM...\n"
     ]
    },
    {
     "name": "stderr",
     "output_type": "stream",
     "text": [
      "[*********************100%***********************]  1 of 1 completed\n"
     ]
    },
    {
     "name": "stdout",
     "output_type": "stream",
     "text": [
      "DXCM | Trades: 31, TP Hits: 15, SL Hits: 16\n",
      "\n",
      "Running strategy for FANG...\n"
     ]
    },
    {
     "name": "stderr",
     "output_type": "stream",
     "text": [
      "[*********************100%***********************]  1 of 1 completed\n"
     ]
    },
    {
     "name": "stdout",
     "output_type": "stream",
     "text": [
      "FANG | Trades: 23, TP Hits: 10, SL Hits: 10\n",
      "\n",
      "Running strategy for DLR...\n"
     ]
    },
    {
     "name": "stderr",
     "output_type": "stream",
     "text": [
      "[*********************100%***********************]  1 of 1 completed\n"
     ]
    },
    {
     "name": "stdout",
     "output_type": "stream",
     "text": [
      "DLR | Trades: 38, TP Hits: 11, SL Hits: 26\n",
      "\n",
      "Running strategy for DFS...\n"
     ]
    },
    {
     "name": "stderr",
     "output_type": "stream",
     "text": [
      "[*********************100%***********************]  1 of 1 completed\n"
     ]
    },
    {
     "name": "stdout",
     "output_type": "stream",
     "text": [
      "DFS | Trades: 45, TP Hits: 17, SL Hits: 27\n",
      "\n",
      "Running strategy for DG...\n"
     ]
    },
    {
     "name": "stderr",
     "output_type": "stream",
     "text": [
      "[*********************100%***********************]  1 of 1 completed\n"
     ]
    },
    {
     "name": "stdout",
     "output_type": "stream",
     "text": [
      "DG | Trades: 34, TP Hits: 13, SL Hits: 20\n",
      "\n",
      "Running strategy for DLTR...\n"
     ]
    },
    {
     "name": "stderr",
     "output_type": "stream",
     "text": [
      "[*********************100%***********************]  1 of 1 completed\n"
     ]
    },
    {
     "name": "stdout",
     "output_type": "stream",
     "text": [
      "DLTR | Trades: 36, TP Hits: 19, SL Hits: 16\n",
      "\n",
      "Running strategy for D...\n"
     ]
    },
    {
     "name": "stderr",
     "output_type": "stream",
     "text": [
      "[*********************100%***********************]  1 of 1 completed\n"
     ]
    },
    {
     "name": "stdout",
     "output_type": "stream",
     "text": [
      "D | Trades: 33, TP Hits: 6, SL Hits: 26\n",
      "\n",
      "Running strategy for DPZ...\n"
     ]
    },
    {
     "name": "stderr",
     "output_type": "stream",
     "text": [
      "[*********************100%***********************]  1 of 1 completed\n"
     ]
    },
    {
     "name": "stdout",
     "output_type": "stream",
     "text": [
      "DPZ | Trades: 39, TP Hits: 21, SL Hits: 15\n"
     ]
    },
    {
     "name": "stderr",
     "output_type": "stream",
     "text": [
      "[*********************100%***********************]  1 of 1 completed"
     ]
    },
    {
     "name": "stdout",
     "output_type": "stream",
     "text": [
      "\n",
      "Running strategy for DASH...\n",
      "DASH | Trades: 6, TP Hits: 1, SL Hits: 3\n"
     ]
    },
    {
     "name": "stderr",
     "output_type": "stream",
     "text": [
      "\n"
     ]
    },
    {
     "name": "stdout",
     "output_type": "stream",
     "text": [
      "\n",
      "Running strategy for DOV...\n"
     ]
    },
    {
     "name": "stderr",
     "output_type": "stream",
     "text": [
      "[*********************100%***********************]  1 of 1 completed\n"
     ]
    },
    {
     "name": "stdout",
     "output_type": "stream",
     "text": [
      "DOV | Trades: 28, TP Hits: 13, SL Hits: 13\n",
      "\n",
      "Running strategy for DOW...\n"
     ]
    },
    {
     "name": "stderr",
     "output_type": "stream",
     "text": [
      "[*********************100%***********************]  1 of 1 completed\n"
     ]
    },
    {
     "name": "stdout",
     "output_type": "stream",
     "text": [
      "DOW | Trades: 11, TP Hits: 3, SL Hits: 6\n",
      "\n",
      "Running strategy for DHI...\n"
     ]
    },
    {
     "name": "stderr",
     "output_type": "stream",
     "text": [
      "[*********************100%***********************]  1 of 1 completed\n"
     ]
    },
    {
     "name": "stdout",
     "output_type": "stream",
     "text": [
      "DHI | Trades: 27, TP Hits: 14, SL Hits: 13\n",
      "\n",
      "Running strategy for DTE...\n"
     ]
    },
    {
     "name": "stderr",
     "output_type": "stream",
     "text": [
      "[*********************100%***********************]  1 of 1 completed\n"
     ]
    },
    {
     "name": "stdout",
     "output_type": "stream",
     "text": [
      "DTE | Trades: 36, TP Hits: 19, SL Hits: 15\n",
      "\n",
      "Running strategy for DUK...\n"
     ]
    },
    {
     "name": "stderr",
     "output_type": "stream",
     "text": [
      "[*********************100%***********************]  1 of 1 completed\n"
     ]
    },
    {
     "name": "stdout",
     "output_type": "stream",
     "text": [
      "DUK | Trades: 31, TP Hits: 9, SL Hits: 22\n",
      "\n",
      "Running strategy for DD...\n"
     ]
    },
    {
     "name": "stderr",
     "output_type": "stream",
     "text": [
      "[*********************100%***********************]  1 of 1 completed\n"
     ]
    },
    {
     "name": "stdout",
     "output_type": "stream",
     "text": [
      "DD | Trades: 37, TP Hits: 16, SL Hits: 18\n",
      "\n",
      "Running strategy for EMN...\n"
     ]
    },
    {
     "name": "stderr",
     "output_type": "stream",
     "text": [
      "[*********************100%***********************]  1 of 1 completed\n"
     ]
    },
    {
     "name": "stdout",
     "output_type": "stream",
     "text": [
      "EMN | Trades: 27, TP Hits: 5, SL Hits: 19\n",
      "\n",
      "Running strategy for ETN...\n"
     ]
    },
    {
     "name": "stderr",
     "output_type": "stream",
     "text": [
      "[*********************100%***********************]  1 of 1 completed\n"
     ]
    },
    {
     "name": "stdout",
     "output_type": "stream",
     "text": [
      "ETN | Trades: 34, TP Hits: 15, SL Hits: 18\n",
      "\n",
      "Running strategy for EBAY...\n"
     ]
    },
    {
     "name": "stderr",
     "output_type": "stream",
     "text": [
      "[*********************100%***********************]  1 of 1 completed\n"
     ]
    },
    {
     "name": "stdout",
     "output_type": "stream",
     "text": [
      "EBAY | Trades: 35, TP Hits: 13, SL Hits: 22\n",
      "\n",
      "Running strategy for ECL...\n"
     ]
    },
    {
     "name": "stderr",
     "output_type": "stream",
     "text": [
      "[*********************100%***********************]  1 of 1 completed\n"
     ]
    },
    {
     "name": "stdout",
     "output_type": "stream",
     "text": [
      "ECL | Trades: 37, TP Hits: 18, SL Hits: 19\n",
      "\n",
      "Running strategy for EIX...\n"
     ]
    },
    {
     "name": "stderr",
     "output_type": "stream",
     "text": [
      "[*********************100%***********************]  1 of 1 completed\n"
     ]
    },
    {
     "name": "stdout",
     "output_type": "stream",
     "text": [
      "EIX | Trades: 40, TP Hits: 7, SL Hits: 28\n",
      "\n",
      "Running strategy for EW...\n"
     ]
    },
    {
     "name": "stderr",
     "output_type": "stream",
     "text": [
      "[*********************100%***********************]  1 of 1 completed\n"
     ]
    },
    {
     "name": "stdout",
     "output_type": "stream",
     "text": [
      "EW | Trades: 33, TP Hits: 12, SL Hits: 20\n",
      "\n",
      "Running strategy for EA...\n"
     ]
    },
    {
     "name": "stderr",
     "output_type": "stream",
     "text": [
      "[*********************100%***********************]  1 of 1 completed\n"
     ]
    },
    {
     "name": "stdout",
     "output_type": "stream",
     "text": [
      "EA | Trades: 30, TP Hits: 7, SL Hits: 23\n",
      "\n",
      "Running strategy for ELV...\n"
     ]
    },
    {
     "name": "stderr",
     "output_type": "stream",
     "text": [
      "[*********************100%***********************]  1 of 1 completed\n"
     ]
    },
    {
     "name": "stdout",
     "output_type": "stream",
     "text": [
      "ELV | Trades: 39, TP Hits: 19, SL Hits: 20\n",
      "\n",
      "Running strategy for EMR...\n"
     ]
    },
    {
     "name": "stderr",
     "output_type": "stream",
     "text": [
      "[*********************100%***********************]  1 of 1 completed\n"
     ]
    },
    {
     "name": "stdout",
     "output_type": "stream",
     "text": [
      "EMR | Trades: 28, TP Hits: 8, SL Hits: 19\n",
      "\n",
      "Running strategy for ENPH...\n"
     ]
    },
    {
     "name": "stderr",
     "output_type": "stream",
     "text": [
      "[*********************100%***********************]  1 of 1 completed\n"
     ]
    },
    {
     "name": "stdout",
     "output_type": "stream",
     "text": [
      "ENPH | Trades: 21, TP Hits: 14, SL Hits: 7\n",
      "\n",
      "Running strategy for ETR...\n"
     ]
    },
    {
     "name": "stderr",
     "output_type": "stream",
     "text": [
      "[*********************100%***********************]  1 of 1 completed\n"
     ]
    },
    {
     "name": "stdout",
     "output_type": "stream",
     "text": [
      "ETR | Trades: 29, TP Hits: 8, SL Hits: 20\n",
      "\n",
      "Running strategy for EOG...\n"
     ]
    },
    {
     "name": "stderr",
     "output_type": "stream",
     "text": [
      "[*********************100%***********************]  1 of 1 completed\n"
     ]
    },
    {
     "name": "stdout",
     "output_type": "stream",
     "text": [
      "EOG | Trades: 17, TP Hits: 4, SL Hits: 12\n",
      "\n",
      "Running strategy for EPAM...\n"
     ]
    },
    {
     "name": "stderr",
     "output_type": "stream",
     "text": [
      "[*********************100%***********************]  1 of 1 completed\n"
     ]
    },
    {
     "name": "stdout",
     "output_type": "stream",
     "text": [
      "EPAM | Trades: 34, TP Hits: 20, SL Hits: 14\n",
      "\n",
      "Running strategy for EQT...\n"
     ]
    },
    {
     "name": "stderr",
     "output_type": "stream",
     "text": [
      "[*********************100%***********************]  1 of 1 completed\n"
     ]
    },
    {
     "name": "stdout",
     "output_type": "stream",
     "text": [
      "EQT | Trades: 34, TP Hits: 8, SL Hits: 26\n",
      "\n",
      "Running strategy for EFX...\n"
     ]
    },
    {
     "name": "stderr",
     "output_type": "stream",
     "text": [
      "[*********************100%***********************]  1 of 1 completed\n"
     ]
    },
    {
     "name": "stdout",
     "output_type": "stream",
     "text": [
      "EFX | Trades: 32, TP Hits: 18, SL Hits: 14\n",
      "\n",
      "Running strategy for EQIX...\n"
     ]
    },
    {
     "name": "stderr",
     "output_type": "stream",
     "text": [
      "[*********************100%***********************]  1 of 1 completed\n"
     ]
    },
    {
     "name": "stdout",
     "output_type": "stream",
     "text": [
      "EQIX | Trades: 35, TP Hits: 10, SL Hits: 23\n",
      "\n",
      "Running strategy for EQR...\n"
     ]
    },
    {
     "name": "stderr",
     "output_type": "stream",
     "text": [
      "[*********************100%***********************]  1 of 1 completed\n"
     ]
    },
    {
     "name": "stdout",
     "output_type": "stream",
     "text": [
      "EQR | Trades: 38, TP Hits: 11, SL Hits: 25\n",
      "\n",
      "Running strategy for ERIE...\n"
     ]
    },
    {
     "name": "stderr",
     "output_type": "stream",
     "text": [
      "[*********************100%***********************]  1 of 1 completed\n"
     ]
    },
    {
     "name": "stdout",
     "output_type": "stream",
     "text": [
      "ERIE | Trades: 27, TP Hits: 12, SL Hits: 15\n",
      "\n",
      "Running strategy for ESS...\n"
     ]
    },
    {
     "name": "stderr",
     "output_type": "stream",
     "text": [
      "[*********************100%***********************]  1 of 1 completed\n"
     ]
    },
    {
     "name": "stdout",
     "output_type": "stream",
     "text": [
      "ESS | Trades: 30, TP Hits: 11, SL Hits: 15\n",
      "\n",
      "Running strategy for EL...\n"
     ]
    },
    {
     "name": "stderr",
     "output_type": "stream",
     "text": [
      "[*********************100%***********************]  1 of 1 completed\n"
     ]
    },
    {
     "name": "stdout",
     "output_type": "stream",
     "text": [
      "EL | Trades: 37, TP Hits: 18, SL Hits: 16\n",
      "\n",
      "Running strategy for EG...\n"
     ]
    },
    {
     "name": "stderr",
     "output_type": "stream",
     "text": [
      "[*********************100%***********************]  1 of 1 completed\n"
     ]
    },
    {
     "name": "stdout",
     "output_type": "stream",
     "text": [
      "EG | Trades: 38, TP Hits: 16, SL Hits: 20\n",
      "\n",
      "Running strategy for EVRG...\n"
     ]
    },
    {
     "name": "stderr",
     "output_type": "stream",
     "text": [
      "[*********************100%***********************]  1 of 1 completed\n"
     ]
    },
    {
     "name": "stdout",
     "output_type": "stream",
     "text": [
      "EVRG | Trades: 30, TP Hits: 14, SL Hits: 14\n",
      "\n",
      "Running strategy for ES...\n"
     ]
    },
    {
     "name": "stderr",
     "output_type": "stream",
     "text": [
      "[*********************100%***********************]  1 of 1 completed\n"
     ]
    },
    {
     "name": "stdout",
     "output_type": "stream",
     "text": [
      "ES | Trades: 28, TP Hits: 9, SL Hits: 17\n",
      "\n",
      "Running strategy for EXC...\n"
     ]
    },
    {
     "name": "stderr",
     "output_type": "stream",
     "text": [
      "[*********************100%***********************]  1 of 1 completed\n"
     ]
    },
    {
     "name": "stdout",
     "output_type": "stream",
     "text": [
      "EXC | Trades: 28, TP Hits: 8, SL Hits: 20\n",
      "\n",
      "Running strategy for EXE...\n"
     ]
    },
    {
     "name": "stderr",
     "output_type": "stream",
     "text": [
      "[*********************100%***********************]  1 of 1 completed\n"
     ]
    },
    {
     "name": "stdout",
     "output_type": "stream",
     "text": [
      "EXE | Trades: 9, TP Hits: 2, SL Hits: 5\n",
      "\n",
      "Running strategy for EXPE...\n"
     ]
    },
    {
     "name": "stderr",
     "output_type": "stream",
     "text": [
      "[*********************100%***********************]  1 of 1 completed\n"
     ]
    },
    {
     "name": "stdout",
     "output_type": "stream",
     "text": [
      "EXPE | Trades: 30, TP Hits: 16, SL Hits: 12\n",
      "\n",
      "Running strategy for EXPD...\n"
     ]
    },
    {
     "name": "stderr",
     "output_type": "stream",
     "text": [
      "[*********************100%***********************]  1 of 1 completed\n"
     ]
    },
    {
     "name": "stdout",
     "output_type": "stream",
     "text": [
      "EXPD | Trades: 34, TP Hits: 11, SL Hits: 20\n",
      "\n",
      "Running strategy for EXR...\n"
     ]
    },
    {
     "name": "stderr",
     "output_type": "stream",
     "text": [
      "[*********************100%***********************]  1 of 1 completed\n"
     ]
    },
    {
     "name": "stdout",
     "output_type": "stream",
     "text": [
      "EXR | Trades: 26, TP Hits: 13, SL Hits: 12\n",
      "\n",
      "Running strategy for XOM...\n"
     ]
    },
    {
     "name": "stderr",
     "output_type": "stream",
     "text": [
      "[*********************100%***********************]  1 of 1 completed\n"
     ]
    },
    {
     "name": "stdout",
     "output_type": "stream",
     "text": [
      "XOM | Trades: 30, TP Hits: 5, SL Hits: 22\n",
      "\n",
      "Running strategy for FFIV...\n"
     ]
    },
    {
     "name": "stderr",
     "output_type": "stream",
     "text": [
      "[*********************100%***********************]  1 of 1 completed\n"
     ]
    },
    {
     "name": "stdout",
     "output_type": "stream",
     "text": [
      "FFIV | Trades: 36, TP Hits: 12, SL Hits: 23\n",
      "\n",
      "Running strategy for FDS...\n"
     ]
    },
    {
     "name": "stderr",
     "output_type": "stream",
     "text": [
      "[*********************100%***********************]  1 of 1 completed\n"
     ]
    },
    {
     "name": "stdout",
     "output_type": "stream",
     "text": [
      "FDS | Trades: 30, TP Hits: 12, SL Hits: 17\n",
      "\n",
      "Running strategy for FICO...\n"
     ]
    },
    {
     "name": "stderr",
     "output_type": "stream",
     "text": [
      "[*********************100%***********************]  1 of 1 completed\n"
     ]
    },
    {
     "name": "stdout",
     "output_type": "stream",
     "text": [
      "FICO | Trades: 31, TP Hits: 20, SL Hits: 10\n",
      "\n",
      "Running strategy for FAST...\n"
     ]
    },
    {
     "name": "stderr",
     "output_type": "stream",
     "text": [
      "[*********************100%***********************]  1 of 1 completed\n"
     ]
    },
    {
     "name": "stdout",
     "output_type": "stream",
     "text": [
      "FAST | Trades: 31, TP Hits: 7, SL Hits: 23\n",
      "\n",
      "Running strategy for FRT...\n"
     ]
    },
    {
     "name": "stderr",
     "output_type": "stream",
     "text": [
      "[*********************100%***********************]  1 of 1 completed\n"
     ]
    },
    {
     "name": "stdout",
     "output_type": "stream",
     "text": [
      "FRT | Trades: 33, TP Hits: 9, SL Hits: 24\n",
      "\n",
      "Running strategy for FDX...\n"
     ]
    },
    {
     "name": "stderr",
     "output_type": "stream",
     "text": [
      "[*********************100%***********************]  1 of 1 completed\n"
     ]
    },
    {
     "name": "stdout",
     "output_type": "stream",
     "text": [
      "FDX | Trades: 46, TP Hits: 16, SL Hits: 26\n",
      "\n",
      "Running strategy for FIS...\n"
     ]
    },
    {
     "name": "stderr",
     "output_type": "stream",
     "text": [
      "[*********************100%***********************]  1 of 1 completed\n"
     ]
    },
    {
     "name": "stdout",
     "output_type": "stream",
     "text": [
      "FIS | Trades: 30, TP Hits: 18, SL Hits: 12\n",
      "\n",
      "Running strategy for FITB...\n"
     ]
    },
    {
     "name": "stderr",
     "output_type": "stream",
     "text": [
      "[*********************100%***********************]  1 of 1 completed\n"
     ]
    },
    {
     "name": "stdout",
     "output_type": "stream",
     "text": [
      "FITB | Trades: 27, TP Hits: 12, SL Hits: 13\n",
      "\n",
      "Running strategy for FSLR...\n"
     ]
    },
    {
     "name": "stderr",
     "output_type": "stream",
     "text": [
      "[*********************100%***********************]  1 of 1 completed\n"
     ]
    },
    {
     "name": "stdout",
     "output_type": "stream",
     "text": [
      "FSLR | Trades: 33, TP Hits: 9, SL Hits: 23\n",
      "\n",
      "Running strategy for FE...\n"
     ]
    },
    {
     "name": "stderr",
     "output_type": "stream",
     "text": [
      "[*********************100%***********************]  1 of 1 completed\n"
     ]
    },
    {
     "name": "stdout",
     "output_type": "stream",
     "text": [
      "FE | Trades: 31, TP Hits: 6, SL Hits: 25\n",
      "\n",
      "Running strategy for FI...\n"
     ]
    },
    {
     "name": "stderr",
     "output_type": "stream",
     "text": [
      "[*********************100%***********************]  1 of 1 completed\n"
     ]
    },
    {
     "name": "stdout",
     "output_type": "stream",
     "text": [
      "FI | Trades: 26, TP Hits: 13, SL Hits: 12\n",
      "\n",
      "Running strategy for F...\n"
     ]
    },
    {
     "name": "stderr",
     "output_type": "stream",
     "text": [
      "[*********************100%***********************]  1 of 1 completed\n"
     ]
    },
    {
     "name": "stdout",
     "output_type": "stream",
     "text": [
      "F | Trades: 30, TP Hits: 7, SL Hits: 21\n",
      "\n",
      "Running strategy for FTNT...\n"
     ]
    },
    {
     "name": "stderr",
     "output_type": "stream",
     "text": [
      "[*********************100%***********************]  1 of 1 completed\n"
     ]
    },
    {
     "name": "stdout",
     "output_type": "stream",
     "text": [
      "FTNT | Trades: 26, TP Hits: 12, SL Hits: 12\n",
      "\n",
      "Running strategy for FTV...\n"
     ]
    },
    {
     "name": "stderr",
     "output_type": "stream",
     "text": [
      "[*********************100%***********************]  1 of 1 completed\n"
     ]
    },
    {
     "name": "stdout",
     "output_type": "stream",
     "text": [
      "FTV | Trades: 24, TP Hits: 7, SL Hits: 13\n",
      "\n",
      "Running strategy for FOXA...\n"
     ]
    },
    {
     "name": "stderr",
     "output_type": "stream",
     "text": [
      "[*********************100%***********************]  1 of 1 completed\n"
     ]
    },
    {
     "name": "stdout",
     "output_type": "stream",
     "text": [
      "FOXA | Trades: 11, TP Hits: 4, SL Hits: 7\n",
      "\n",
      "Running strategy for FOX...\n"
     ]
    },
    {
     "name": "stderr",
     "output_type": "stream",
     "text": [
      "[*********************100%***********************]  1 of 1 completed\n"
     ]
    },
    {
     "name": "stdout",
     "output_type": "stream",
     "text": [
      "FOX | Trades: 11, TP Hits: 4, SL Hits: 7\n",
      "\n",
      "Running strategy for BEN...\n"
     ]
    },
    {
     "name": "stderr",
     "output_type": "stream",
     "text": [
      "[*********************100%***********************]  1 of 1 completed\n"
     ]
    },
    {
     "name": "stdout",
     "output_type": "stream",
     "text": [
      "BEN | Trades: 34, TP Hits: 4, SL Hits: 28\n",
      "\n",
      "Running strategy for FCX...\n"
     ]
    },
    {
     "name": "stderr",
     "output_type": "stream",
     "text": [
      "[*********************100%***********************]  1 of 1 completed\n"
     ]
    },
    {
     "name": "stdout",
     "output_type": "stream",
     "text": [
      "FCX | Trades: 26, TP Hits: 7, SL Hits: 19\n",
      "\n",
      "Running strategy for GRMN...\n"
     ]
    },
    {
     "name": "stderr",
     "output_type": "stream",
     "text": [
      "[*********************100%***********************]  1 of 1 completed\n"
     ]
    },
    {
     "name": "stdout",
     "output_type": "stream",
     "text": [
      "GRMN | Trades: 35, TP Hits: 14, SL Hits: 21\n",
      "\n",
      "Running strategy for IT...\n"
     ]
    },
    {
     "name": "stderr",
     "output_type": "stream",
     "text": [
      "[*********************100%***********************]  1 of 1 completed\n"
     ]
    },
    {
     "name": "stdout",
     "output_type": "stream",
     "text": [
      "IT | Trades: 31, TP Hits: 15, SL Hits: 16\n",
      "\n",
      "Running strategy for GE...\n"
     ]
    },
    {
     "name": "stderr",
     "output_type": "stream",
     "text": [
      "[*********************100%***********************]  1 of 1 completed\n"
     ]
    },
    {
     "name": "stdout",
     "output_type": "stream",
     "text": [
      "GE | Trades: 26, TP Hits: 9, SL Hits: 15\n"
     ]
    },
    {
     "name": "stderr",
     "output_type": "stream",
     "text": [
      "[*********************100%***********************]  1 of 1 completed"
     ]
    },
    {
     "name": "stdout",
     "output_type": "stream",
     "text": [
      "\n",
      "Running strategy for GEHC...\n",
      "GEHC | Trades: 5, TP Hits: 0, SL Hits: 4\n"
     ]
    },
    {
     "name": "stderr",
     "output_type": "stream",
     "text": [
      "\n"
     ]
    },
    {
     "name": "stdout",
     "output_type": "stream",
     "text": [
      "\n",
      "Running strategy for GEV...\n"
     ]
    },
    {
     "name": "stderr",
     "output_type": "stream",
     "text": [
      "[*********************100%***********************]  1 of 1 completed\n",
      "\n",
      "1 Failed download:\n",
      "['GEV']: YFPricesMissingError('possibly delisted; no price data found  (1d 2010-01-01 -> 2023-12-31) (Yahoo error = \"Data doesn\\'t exist for startDate = 1262322000, endDate = 1703998800\")')\n"
     ]
    },
    {
     "name": "stdout",
     "output_type": "stream",
     "text": [
      "GEV has no data.\n",
      "\n",
      "Running strategy for GEN...\n"
     ]
    },
    {
     "name": "stderr",
     "output_type": "stream",
     "text": [
      "[*********************100%***********************]  1 of 1 completed\n"
     ]
    },
    {
     "name": "stdout",
     "output_type": "stream",
     "text": [
      "GEN | Trades: 26, TP Hits: 6, SL Hits: 19\n",
      "\n",
      "Running strategy for GNRC...\n"
     ]
    },
    {
     "name": "stderr",
     "output_type": "stream",
     "text": [
      "[*********************100%***********************]  1 of 1 completed\n"
     ]
    },
    {
     "name": "stdout",
     "output_type": "stream",
     "text": [
      "GNRC | Trades: 38, TP Hits: 9, SL Hits: 27\n",
      "\n",
      "Running strategy for GD...\n"
     ]
    },
    {
     "name": "stderr",
     "output_type": "stream",
     "text": [
      "[*********************100%***********************]  1 of 1 completed\n"
     ]
    },
    {
     "name": "stdout",
     "output_type": "stream",
     "text": [
      "GD | Trades: 38, TP Hits: 12, SL Hits: 24\n",
      "\n",
      "Running strategy for GIS...\n"
     ]
    },
    {
     "name": "stderr",
     "output_type": "stream",
     "text": [
      "[*********************100%***********************]  1 of 1 completed\n"
     ]
    },
    {
     "name": "stdout",
     "output_type": "stream",
     "text": [
      "GIS | Trades: 31, TP Hits: 12, SL Hits: 18\n",
      "\n",
      "Running strategy for GM...\n"
     ]
    },
    {
     "name": "stderr",
     "output_type": "stream",
     "text": [
      "[*********************100%***********************]  1 of 1 completed\n"
     ]
    },
    {
     "name": "stdout",
     "output_type": "stream",
     "text": [
      "GM | Trades: 26, TP Hits: 6, SL Hits: 19\n",
      "\n",
      "Running strategy for GPC...\n"
     ]
    },
    {
     "name": "stderr",
     "output_type": "stream",
     "text": [
      "[*********************100%***********************]  1 of 1 completed\n"
     ]
    },
    {
     "name": "stdout",
     "output_type": "stream",
     "text": [
      "GPC | Trades: 30, TP Hits: 12, SL Hits: 17\n",
      "\n",
      "Running strategy for GILD...\n"
     ]
    },
    {
     "name": "stderr",
     "output_type": "stream",
     "text": [
      "[*********************100%***********************]  1 of 1 completed\n"
     ]
    },
    {
     "name": "stdout",
     "output_type": "stream",
     "text": [
      "GILD | Trades: 30, TP Hits: 8, SL Hits: 22\n",
      "\n",
      "Running strategy for GPN...\n"
     ]
    },
    {
     "name": "stderr",
     "output_type": "stream",
     "text": [
      "[*********************100%***********************]  1 of 1 completed\n"
     ]
    },
    {
     "name": "stdout",
     "output_type": "stream",
     "text": [
      "GPN | Trades: 33, TP Hits: 19, SL Hits: 12\n",
      "\n",
      "Running strategy for GL...\n"
     ]
    },
    {
     "name": "stderr",
     "output_type": "stream",
     "text": [
      "[*********************100%***********************]  1 of 1 completed\n"
     ]
    },
    {
     "name": "stdout",
     "output_type": "stream",
     "text": [
      "GL | Trades: 34, TP Hits: 16, SL Hits: 15\n",
      "\n",
      "Running strategy for GDDY...\n"
     ]
    },
    {
     "name": "stderr",
     "output_type": "stream",
     "text": [
      "[*********************100%***********************]  1 of 1 completed\n"
     ]
    },
    {
     "name": "stdout",
     "output_type": "stream",
     "text": [
      "GDDY | Trades: 22, TP Hits: 7, SL Hits: 15\n",
      "\n",
      "Running strategy for GS...\n"
     ]
    },
    {
     "name": "stderr",
     "output_type": "stream",
     "text": [
      "[*********************100%***********************]  1 of 1 completed\n"
     ]
    },
    {
     "name": "stdout",
     "output_type": "stream",
     "text": [
      "GS | Trades: 35, TP Hits: 10, SL Hits: 23\n",
      "\n",
      "Running strategy for HAL...\n"
     ]
    },
    {
     "name": "stderr",
     "output_type": "stream",
     "text": [
      "[*********************100%***********************]  1 of 1 completed\n"
     ]
    },
    {
     "name": "stdout",
     "output_type": "stream",
     "text": [
      "HAL | Trades: 26, TP Hits: 7, SL Hits: 18\n",
      "\n",
      "Running strategy for HIG...\n"
     ]
    },
    {
     "name": "stderr",
     "output_type": "stream",
     "text": [
      "[*********************100%***********************]  1 of 1 completed\n"
     ]
    },
    {
     "name": "stdout",
     "output_type": "stream",
     "text": [
      "HIG | Trades: 36, TP Hits: 15, SL Hits: 19\n",
      "\n",
      "Running strategy for HAS...\n"
     ]
    },
    {
     "name": "stderr",
     "output_type": "stream",
     "text": [
      "[*********************100%***********************]  1 of 1 completed\n"
     ]
    },
    {
     "name": "stdout",
     "output_type": "stream",
     "text": [
      "HAS | Trades: 39, TP Hits: 16, SL Hits: 22\n",
      "\n",
      "Running strategy for HCA...\n"
     ]
    },
    {
     "name": "stderr",
     "output_type": "stream",
     "text": [
      "[*********************100%***********************]  1 of 1 completed\n"
     ]
    },
    {
     "name": "stdout",
     "output_type": "stream",
     "text": [
      "HCA | Trades: 34, TP Hits: 12, SL Hits: 22\n",
      "\n",
      "Running strategy for DOC...\n"
     ]
    },
    {
     "name": "stderr",
     "output_type": "stream",
     "text": [
      "[*********************100%***********************]  1 of 1 completed\n"
     ]
    },
    {
     "name": "stdout",
     "output_type": "stream",
     "text": [
      "DOC | Trades: 26, TP Hits: 5, SL Hits: 20\n",
      "\n",
      "Running strategy for HSIC...\n"
     ]
    },
    {
     "name": "stderr",
     "output_type": "stream",
     "text": [
      "[*********************100%***********************]  1 of 1 completed\n"
     ]
    },
    {
     "name": "stdout",
     "output_type": "stream",
     "text": [
      "HSIC | Trades: 40, TP Hits: 15, SL Hits: 25\n",
      "\n",
      "Running strategy for HSY...\n"
     ]
    },
    {
     "name": "stderr",
     "output_type": "stream",
     "text": [
      "[*********************100%***********************]  1 of 1 completed\n"
     ]
    },
    {
     "name": "stdout",
     "output_type": "stream",
     "text": [
      "HSY | Trades: 32, TP Hits: 12, SL Hits: 20\n",
      "\n",
      "Running strategy for HES...\n"
     ]
    },
    {
     "name": "stderr",
     "output_type": "stream",
     "text": [
      "[*********************100%***********************]  1 of 1 completed\n"
     ]
    },
    {
     "name": "stdout",
     "output_type": "stream",
     "text": [
      "HES | Trades: 29, TP Hits: 11, SL Hits: 16\n",
      "\n",
      "Running strategy for HPE...\n"
     ]
    },
    {
     "name": "stderr",
     "output_type": "stream",
     "text": [
      "[*********************100%***********************]  1 of 1 completed\n"
     ]
    },
    {
     "name": "stdout",
     "output_type": "stream",
     "text": [
      "HPE | Trades: 14, TP Hits: 4, SL Hits: 8\n",
      "\n",
      "Running strategy for HLT...\n"
     ]
    },
    {
     "name": "stderr",
     "output_type": "stream",
     "text": [
      "[*********************100%***********************]  1 of 1 completed\n"
     ]
    },
    {
     "name": "stdout",
     "output_type": "stream",
     "text": [
      "HLT | Trades: 18, TP Hits: 7, SL Hits: 10\n",
      "\n",
      "Running strategy for HOLX...\n"
     ]
    },
    {
     "name": "stderr",
     "output_type": "stream",
     "text": [
      "[*********************100%***********************]  1 of 1 completed\n"
     ]
    },
    {
     "name": "stdout",
     "output_type": "stream",
     "text": [
      "HOLX | Trades: 27, TP Hits: 11, SL Hits: 16\n",
      "\n",
      "Running strategy for HD...\n"
     ]
    },
    {
     "name": "stderr",
     "output_type": "stream",
     "text": [
      "[*********************100%***********************]  1 of 1 completed\n"
     ]
    },
    {
     "name": "stdout",
     "output_type": "stream",
     "text": [
      "HD | Trades: 37, TP Hits: 20, SL Hits: 17\n",
      "\n",
      "Running strategy for HON...\n"
     ]
    },
    {
     "name": "stderr",
     "output_type": "stream",
     "text": [
      "[*********************100%***********************]  1 of 1 completed\n"
     ]
    },
    {
     "name": "stdout",
     "output_type": "stream",
     "text": [
      "HON | Trades: 32, TP Hits: 13, SL Hits: 18\n",
      "\n",
      "Running strategy for HRL...\n"
     ]
    },
    {
     "name": "stderr",
     "output_type": "stream",
     "text": [
      "[*********************100%***********************]  1 of 1 completed\n"
     ]
    },
    {
     "name": "stdout",
     "output_type": "stream",
     "text": [
      "HRL | Trades: 33, TP Hits: 9, SL Hits: 24\n",
      "\n",
      "Running strategy for HST...\n"
     ]
    },
    {
     "name": "stderr",
     "output_type": "stream",
     "text": [
      "[*********************100%***********************]  1 of 1 completed\n"
     ]
    },
    {
     "name": "stdout",
     "output_type": "stream",
     "text": [
      "HST | Trades: 29, TP Hits: 7, SL Hits: 18\n",
      "\n",
      "Running strategy for HWM...\n"
     ]
    },
    {
     "name": "stderr",
     "output_type": "stream",
     "text": [
      "[*********************100%***********************]  1 of 1 completed\n"
     ]
    },
    {
     "name": "stdout",
     "output_type": "stream",
     "text": [
      "HWM | Trades: 20, TP Hits: 9, SL Hits: 11\n",
      "\n",
      "Running strategy for HPQ...\n"
     ]
    },
    {
     "name": "stderr",
     "output_type": "stream",
     "text": [
      "[*********************100%***********************]  1 of 1 completed\n"
     ]
    },
    {
     "name": "stdout",
     "output_type": "stream",
     "text": [
      "HPQ | Trades: 28, TP Hits: 9, SL Hits: 19\n",
      "\n",
      "Running strategy for HUBB...\n"
     ]
    },
    {
     "name": "stderr",
     "output_type": "stream",
     "text": [
      "[*********************100%***********************]  1 of 1 completed\n"
     ]
    },
    {
     "name": "stdout",
     "output_type": "stream",
     "text": [
      "HUBB | Trades: 34, TP Hits: 16, SL Hits: 18\n",
      "\n",
      "Running strategy for HUM...\n"
     ]
    },
    {
     "name": "stderr",
     "output_type": "stream",
     "text": [
      "[*********************100%***********************]  1 of 1 completed\n"
     ]
    },
    {
     "name": "stdout",
     "output_type": "stream",
     "text": [
      "HUM | Trades: 29, TP Hits: 14, SL Hits: 13\n",
      "\n",
      "Running strategy for HBAN...\n"
     ]
    },
    {
     "name": "stderr",
     "output_type": "stream",
     "text": [
      "[*********************100%***********************]  1 of 1 completed\n"
     ]
    },
    {
     "name": "stdout",
     "output_type": "stream",
     "text": [
      "HBAN | Trades: 28, TP Hits: 11, SL Hits: 15\n",
      "\n",
      "Running strategy for HII...\n"
     ]
    },
    {
     "name": "stderr",
     "output_type": "stream",
     "text": [
      "[*********************100%***********************]  1 of 1 completed\n"
     ]
    },
    {
     "name": "stdout",
     "output_type": "stream",
     "text": [
      "HII | Trades: 38, TP Hits: 12, SL Hits: 22\n",
      "\n",
      "Running strategy for IBM...\n"
     ]
    },
    {
     "name": "stderr",
     "output_type": "stream",
     "text": [
      "[*********************100%***********************]  1 of 1 completed\n"
     ]
    },
    {
     "name": "stdout",
     "output_type": "stream",
     "text": [
      "IBM | Trades: 22, TP Hits: 3, SL Hits: 19\n",
      "\n",
      "Running strategy for IEX...\n"
     ]
    },
    {
     "name": "stderr",
     "output_type": "stream",
     "text": [
      "[*********************100%***********************]  1 of 1 completed\n"
     ]
    },
    {
     "name": "stdout",
     "output_type": "stream",
     "text": [
      "IEX | Trades: 31, TP Hits: 14, SL Hits: 15\n",
      "\n",
      "Running strategy for IDXX...\n"
     ]
    },
    {
     "name": "stderr",
     "output_type": "stream",
     "text": [
      "[*********************100%***********************]  1 of 1 completed\n"
     ]
    },
    {
     "name": "stdout",
     "output_type": "stream",
     "text": [
      "IDXX | Trades: 32, TP Hits: 11, SL Hits: 21\n",
      "\n",
      "Running strategy for ITW...\n"
     ]
    },
    {
     "name": "stderr",
     "output_type": "stream",
     "text": [
      "[*********************100%***********************]  1 of 1 completed\n"
     ]
    },
    {
     "name": "stdout",
     "output_type": "stream",
     "text": [
      "ITW | Trades: 29, TP Hits: 10, SL Hits: 18\n",
      "\n",
      "Running strategy for INCY...\n"
     ]
    },
    {
     "name": "stderr",
     "output_type": "stream",
     "text": [
      "[*********************100%***********************]  1 of 1 completed\n"
     ]
    },
    {
     "name": "stdout",
     "output_type": "stream",
     "text": [
      "INCY | Trades: 33, TP Hits: 7, SL Hits: 26\n",
      "\n",
      "Running strategy for IR...\n"
     ]
    },
    {
     "name": "stderr",
     "output_type": "stream",
     "text": [
      "[*********************100%***********************]  1 of 1 completed\n"
     ]
    },
    {
     "name": "stdout",
     "output_type": "stream",
     "text": [
      "IR | Trades: 6, TP Hits: 3, SL Hits: 3\n",
      "\n",
      "Running strategy for PODD...\n"
     ]
    },
    {
     "name": "stderr",
     "output_type": "stream",
     "text": [
      "[*********************100%***********************]  1 of 1 completed\n"
     ]
    },
    {
     "name": "stdout",
     "output_type": "stream",
     "text": [
      "PODD | Trades: 36, TP Hits: 16, SL Hits: 20\n",
      "\n",
      "Running strategy for INTC...\n"
     ]
    },
    {
     "name": "stderr",
     "output_type": "stream",
     "text": [
      "[*********************100%***********************]  1 of 1 completed\n"
     ]
    },
    {
     "name": "stdout",
     "output_type": "stream",
     "text": [
      "INTC | Trades: 28, TP Hits: 12, SL Hits: 16\n",
      "\n",
      "Running strategy for ICE...\n"
     ]
    },
    {
     "name": "stderr",
     "output_type": "stream",
     "text": [
      "[*********************100%***********************]  1 of 1 completed\n"
     ]
    },
    {
     "name": "stdout",
     "output_type": "stream",
     "text": [
      "ICE | Trades: 31, TP Hits: 11, SL Hits: 20\n",
      "\n",
      "Running strategy for IFF...\n"
     ]
    },
    {
     "name": "stderr",
     "output_type": "stream",
     "text": [
      "[*********************100%***********************]  1 of 1 completed\n"
     ]
    },
    {
     "name": "stdout",
     "output_type": "stream",
     "text": [
      "IFF | Trades: 31, TP Hits: 11, SL Hits: 20\n",
      "\n",
      "Running strategy for IP...\n"
     ]
    },
    {
     "name": "stderr",
     "output_type": "stream",
     "text": [
      "[*********************100%***********************]  1 of 1 completed\n"
     ]
    },
    {
     "name": "stdout",
     "output_type": "stream",
     "text": [
      "IP | Trades: 31, TP Hits: 4, SL Hits: 27\n",
      "\n",
      "Running strategy for IPG...\n"
     ]
    },
    {
     "name": "stderr",
     "output_type": "stream",
     "text": [
      "[*********************100%***********************]  1 of 1 completed\n"
     ]
    },
    {
     "name": "stdout",
     "output_type": "stream",
     "text": [
      "IPG | Trades: 27, TP Hits: 6, SL Hits: 19\n",
      "\n",
      "Running strategy for INTU...\n"
     ]
    },
    {
     "name": "stderr",
     "output_type": "stream",
     "text": [
      "[*********************100%***********************]  1 of 1 completed\n"
     ]
    },
    {
     "name": "stdout",
     "output_type": "stream",
     "text": [
      "INTU | Trades: 28, TP Hits: 19, SL Hits: 6\n",
      "\n",
      "Running strategy for ISRG...\n"
     ]
    },
    {
     "name": "stderr",
     "output_type": "stream",
     "text": [
      "[*********************100%***********************]  1 of 1 completed\n"
     ]
    },
    {
     "name": "stdout",
     "output_type": "stream",
     "text": [
      "ISRG | Trades: 38, TP Hits: 15, SL Hits: 22\n",
      "\n",
      "Running strategy for IVZ...\n"
     ]
    },
    {
     "name": "stderr",
     "output_type": "stream",
     "text": [
      "[*********************100%***********************]  1 of 1 completed\n"
     ]
    },
    {
     "name": "stdout",
     "output_type": "stream",
     "text": [
      "IVZ | Trades: 27, TP Hits: 4, SL Hits: 22\n",
      "\n",
      "Running strategy for INVH...\n"
     ]
    },
    {
     "name": "stderr",
     "output_type": "stream",
     "text": [
      "[*********************100%***********************]  1 of 1 completed\n"
     ]
    },
    {
     "name": "stdout",
     "output_type": "stream",
     "text": [
      "INVH | Trades: 15, TP Hits: 4, SL Hits: 9\n",
      "\n",
      "Running strategy for IQV...\n"
     ]
    },
    {
     "name": "stderr",
     "output_type": "stream",
     "text": [
      "[*********************100%***********************]  1 of 1 completed\n"
     ]
    },
    {
     "name": "stdout",
     "output_type": "stream",
     "text": [
      "IQV | Trades: 24, TP Hits: 12, SL Hits: 11\n",
      "\n",
      "Running strategy for IRM...\n"
     ]
    },
    {
     "name": "stderr",
     "output_type": "stream",
     "text": [
      "[*********************100%***********************]  1 of 1 completed\n"
     ]
    },
    {
     "name": "stdout",
     "output_type": "stream",
     "text": [
      "IRM | Trades: 30, TP Hits: 9, SL Hits: 20\n",
      "\n",
      "Running strategy for JBHT...\n"
     ]
    },
    {
     "name": "stderr",
     "output_type": "stream",
     "text": [
      "[*********************100%***********************]  1 of 1 completed\n"
     ]
    },
    {
     "name": "stdout",
     "output_type": "stream",
     "text": [
      "JBHT | Trades: 33, TP Hits: 14, SL Hits: 18\n",
      "\n",
      "Running strategy for JBL...\n"
     ]
    },
    {
     "name": "stderr",
     "output_type": "stream",
     "text": [
      "[*********************100%***********************]  1 of 1 completed\n"
     ]
    },
    {
     "name": "stdout",
     "output_type": "stream",
     "text": [
      "JBL | Trades: 25, TP Hits: 8, SL Hits: 16\n",
      "\n",
      "Running strategy for JKHY...\n"
     ]
    },
    {
     "name": "stderr",
     "output_type": "stream",
     "text": [
      "[*********************100%***********************]  1 of 1 completed\n"
     ]
    },
    {
     "name": "stdout",
     "output_type": "stream",
     "text": [
      "JKHY | Trades: 22, TP Hits: 8, SL Hits: 13\n",
      "\n",
      "Running strategy for J...\n"
     ]
    },
    {
     "name": "stderr",
     "output_type": "stream",
     "text": [
      "[*********************100%***********************]  1 of 1 completed\n"
     ]
    },
    {
     "name": "stdout",
     "output_type": "stream",
     "text": [
      "J | Trades: 29, TP Hits: 8, SL Hits: 19\n",
      "\n",
      "Running strategy for JNJ...\n"
     ]
    },
    {
     "name": "stderr",
     "output_type": "stream",
     "text": [
      "[*********************100%***********************]  1 of 1 completed\n"
     ]
    },
    {
     "name": "stdout",
     "output_type": "stream",
     "text": [
      "JNJ | Trades: 29, TP Hits: 8, SL Hits: 19\n",
      "\n",
      "Running strategy for JCI...\n"
     ]
    },
    {
     "name": "stderr",
     "output_type": "stream",
     "text": [
      "[*********************100%***********************]  1 of 1 completed\n"
     ]
    },
    {
     "name": "stdout",
     "output_type": "stream",
     "text": [
      "JCI | Trades: 25, TP Hits: 11, SL Hits: 13\n",
      "\n",
      "Running strategy for JPM...\n"
     ]
    },
    {
     "name": "stderr",
     "output_type": "stream",
     "text": [
      "[*********************100%***********************]  1 of 1 completed\n"
     ]
    },
    {
     "name": "stdout",
     "output_type": "stream",
     "text": [
      "JPM | Trades: 33, TP Hits: 12, SL Hits: 21\n",
      "\n",
      "Running strategy for JNPR...\n"
     ]
    },
    {
     "name": "stderr",
     "output_type": "stream",
     "text": [
      "[*********************100%***********************]  1 of 1 completed\n"
     ]
    },
    {
     "name": "stdout",
     "output_type": "stream",
     "text": [
      "JNPR | Trades: 33, TP Hits: 8, SL Hits: 24\n",
      "\n",
      "Running strategy for K...\n"
     ]
    },
    {
     "name": "stderr",
     "output_type": "stream",
     "text": [
      "[*********************100%***********************]  1 of 1 completed\n"
     ]
    },
    {
     "name": "stdout",
     "output_type": "stream",
     "text": [
      "K | Trades: 38, TP Hits: 9, SL Hits: 29\n"
     ]
    },
    {
     "name": "stderr",
     "output_type": "stream",
     "text": [
      "[*********************100%***********************]  1 of 1 completed"
     ]
    },
    {
     "name": "stdout",
     "output_type": "stream",
     "text": [
      "\n",
      "Running strategy for KVUE...\n",
      "KVUE | Trades: 2, TP Hits: 0, SL Hits: 0\n"
     ]
    },
    {
     "name": "stderr",
     "output_type": "stream",
     "text": [
      "\n"
     ]
    },
    {
     "name": "stdout",
     "output_type": "stream",
     "text": [
      "\n",
      "Running strategy for KDP...\n"
     ]
    },
    {
     "name": "stderr",
     "output_type": "stream",
     "text": [
      "[*********************100%***********************]  1 of 1 completed\n"
     ]
    },
    {
     "name": "stdout",
     "output_type": "stream",
     "text": [
      "KDP | Trades: 44, TP Hits: 13, SL Hits: 29\n",
      "\n",
      "Running strategy for KEY...\n"
     ]
    },
    {
     "name": "stderr",
     "output_type": "stream",
     "text": [
      "[*********************100%***********************]  1 of 1 completed\n"
     ]
    },
    {
     "name": "stdout",
     "output_type": "stream",
     "text": [
      "KEY | Trades: 28, TP Hits: 6, SL Hits: 18\n",
      "\n",
      "Running strategy for KEYS...\n"
     ]
    },
    {
     "name": "stderr",
     "output_type": "stream",
     "text": [
      "[*********************100%***********************]  1 of 1 completed\n"
     ]
    },
    {
     "name": "stdout",
     "output_type": "stream",
     "text": [
      "KEYS | Trades: 20, TP Hits: 3, SL Hits: 16\n",
      "\n",
      "Running strategy for KMB...\n"
     ]
    },
    {
     "name": "stderr",
     "output_type": "stream",
     "text": [
      "[*********************100%***********************]  1 of 1 completed\n"
     ]
    },
    {
     "name": "stdout",
     "output_type": "stream",
     "text": [
      "KMB | Trades: 31, TP Hits: 12, SL Hits: 19\n",
      "\n",
      "Running strategy for KIM...\n"
     ]
    },
    {
     "name": "stderr",
     "output_type": "stream",
     "text": [
      "[*********************100%***********************]  1 of 1 completed\n"
     ]
    },
    {
     "name": "stdout",
     "output_type": "stream",
     "text": [
      "KIM | Trades: 25, TP Hits: 4, SL Hits: 19\n",
      "\n",
      "Running strategy for KMI...\n"
     ]
    },
    {
     "name": "stderr",
     "output_type": "stream",
     "text": [
      "[*********************100%***********************]  1 of 1 completed\n"
     ]
    },
    {
     "name": "stdout",
     "output_type": "stream",
     "text": [
      "KMI | Trades: 17, TP Hits: 2, SL Hits: 11\n",
      "\n",
      "Running strategy for KKR...\n"
     ]
    },
    {
     "name": "stderr",
     "output_type": "stream",
     "text": [
      "[*********************100%***********************]  1 of 1 completed\n"
     ]
    },
    {
     "name": "stdout",
     "output_type": "stream",
     "text": [
      "KKR | Trades: 22, TP Hits: 5, SL Hits: 17\n",
      "\n",
      "Running strategy for KLAC...\n"
     ]
    },
    {
     "name": "stderr",
     "output_type": "stream",
     "text": [
      "[*********************100%***********************]  1 of 1 completed\n"
     ]
    },
    {
     "name": "stdout",
     "output_type": "stream",
     "text": [
      "KLAC | Trades: 33, TP Hits: 17, SL Hits: 16\n",
      "\n",
      "Running strategy for KHC...\n"
     ]
    },
    {
     "name": "stderr",
     "output_type": "stream",
     "text": [
      "[*********************100%***********************]  1 of 1 completed\n"
     ]
    },
    {
     "name": "stdout",
     "output_type": "stream",
     "text": [
      "KHC | Trades: 19, TP Hits: 3, SL Hits: 14\n",
      "\n",
      "Running strategy for KR...\n"
     ]
    },
    {
     "name": "stderr",
     "output_type": "stream",
     "text": [
      "[*********************100%***********************]  1 of 1 completed\n"
     ]
    },
    {
     "name": "stdout",
     "output_type": "stream",
     "text": [
      "KR | Trades: 26, TP Hits: 11, SL Hits: 12\n",
      "\n",
      "Running strategy for LHX...\n"
     ]
    },
    {
     "name": "stderr",
     "output_type": "stream",
     "text": [
      "[*********************100%***********************]  1 of 1 completed\n"
     ]
    },
    {
     "name": "stdout",
     "output_type": "stream",
     "text": [
      "LHX | Trades: 28, TP Hits: 9, SL Hits: 17\n",
      "\n",
      "Running strategy for LH...\n"
     ]
    },
    {
     "name": "stderr",
     "output_type": "stream",
     "text": [
      "[*********************100%***********************]  1 of 1 completed\n"
     ]
    },
    {
     "name": "stdout",
     "output_type": "stream",
     "text": [
      "LH | Trades: 41, TP Hits: 15, SL Hits: 24\n",
      "\n",
      "Running strategy for LRCX...\n"
     ]
    },
    {
     "name": "stderr",
     "output_type": "stream",
     "text": [
      "[*********************100%***********************]  1 of 1 completed\n"
     ]
    },
    {
     "name": "stdout",
     "output_type": "stream",
     "text": [
      "LRCX | Trades: 31, TP Hits: 14, SL Hits: 17\n",
      "\n",
      "Running strategy for LW...\n"
     ]
    },
    {
     "name": "stderr",
     "output_type": "stream",
     "text": [
      "[*********************100%***********************]  1 of 1 completed\n"
     ]
    },
    {
     "name": "stdout",
     "output_type": "stream",
     "text": [
      "LW | Trades: 15, TP Hits: 5, SL Hits: 9\n",
      "\n",
      "Running strategy for LVS...\n"
     ]
    },
    {
     "name": "stderr",
     "output_type": "stream",
     "text": [
      "[*********************100%***********************]  1 of 1 completed\n"
     ]
    },
    {
     "name": "stdout",
     "output_type": "stream",
     "text": [
      "LVS | Trades: 31, TP Hits: 12, SL Hits: 18\n",
      "\n",
      "Running strategy for LDOS...\n"
     ]
    },
    {
     "name": "stderr",
     "output_type": "stream",
     "text": [
      "[*********************100%***********************]  1 of 1 completed\n"
     ]
    },
    {
     "name": "stdout",
     "output_type": "stream",
     "text": [
      "LDOS | Trades: 31, TP Hits: 5, SL Hits: 25\n",
      "\n",
      "Running strategy for LEN...\n"
     ]
    },
    {
     "name": "stderr",
     "output_type": "stream",
     "text": [
      "[*********************100%***********************]  1 of 1 completed\n"
     ]
    },
    {
     "name": "stdout",
     "output_type": "stream",
     "text": [
      "LEN | Trades: 31, TP Hits: 13, SL Hits: 18\n",
      "\n",
      "Running strategy for LII...\n"
     ]
    },
    {
     "name": "stderr",
     "output_type": "stream",
     "text": [
      "[*********************100%***********************]  1 of 1 completed\n"
     ]
    },
    {
     "name": "stdout",
     "output_type": "stream",
     "text": [
      "LII | Trades: 31, TP Hits: 11, SL Hits: 20\n",
      "\n",
      "Running strategy for LLY...\n"
     ]
    },
    {
     "name": "stderr",
     "output_type": "stream",
     "text": [
      "[*********************100%***********************]  1 of 1 completed\n"
     ]
    },
    {
     "name": "stdout",
     "output_type": "stream",
     "text": [
      "LLY | Trades: 35, TP Hits: 15, SL Hits: 20\n",
      "\n",
      "Running strategy for LIN...\n"
     ]
    },
    {
     "name": "stderr",
     "output_type": "stream",
     "text": [
      "[*********************100%***********************]  1 of 1 completed\n"
     ]
    },
    {
     "name": "stdout",
     "output_type": "stream",
     "text": [
      "LIN | Trades: 35, TP Hits: 16, SL Hits: 17\n",
      "\n",
      "Running strategy for LYV...\n"
     ]
    },
    {
     "name": "stderr",
     "output_type": "stream",
     "text": [
      "[*********************100%***********************]  1 of 1 completed\n"
     ]
    },
    {
     "name": "stdout",
     "output_type": "stream",
     "text": [
      "LYV | Trades: 26, TP Hits: 11, SL Hits: 14\n",
      "\n",
      "Running strategy for LKQ...\n"
     ]
    },
    {
     "name": "stderr",
     "output_type": "stream",
     "text": [
      "[*********************100%***********************]  1 of 1 completed\n"
     ]
    },
    {
     "name": "stdout",
     "output_type": "stream",
     "text": [
      "LKQ | Trades: 35, TP Hits: 13, SL Hits: 21\n",
      "\n",
      "Running strategy for LMT...\n"
     ]
    },
    {
     "name": "stderr",
     "output_type": "stream",
     "text": [
      "[*********************100%***********************]  1 of 1 completed\n"
     ]
    },
    {
     "name": "stdout",
     "output_type": "stream",
     "text": [
      "LMT | Trades: 38, TP Hits: 18, SL Hits: 19\n",
      "\n",
      "Running strategy for L...\n"
     ]
    },
    {
     "name": "stderr",
     "output_type": "stream",
     "text": [
      "[*********************100%***********************]  1 of 1 completed\n"
     ]
    },
    {
     "name": "stdout",
     "output_type": "stream",
     "text": [
      "L | Trades: 27, TP Hits: 10, SL Hits: 17\n",
      "\n",
      "Running strategy for LOW...\n"
     ]
    },
    {
     "name": "stderr",
     "output_type": "stream",
     "text": [
      "[*********************100%***********************]  1 of 1 completed\n"
     ]
    },
    {
     "name": "stdout",
     "output_type": "stream",
     "text": [
      "LOW | Trades: 34, TP Hits: 16, SL Hits: 17\n",
      "\n",
      "Running strategy for LULU...\n"
     ]
    },
    {
     "name": "stderr",
     "output_type": "stream",
     "text": [
      "[*********************100%***********************]  1 of 1 completed\n"
     ]
    },
    {
     "name": "stdout",
     "output_type": "stream",
     "text": [
      "LULU | Trades: 25, TP Hits: 7, SL Hits: 17\n",
      "\n",
      "Running strategy for LYB...\n"
     ]
    },
    {
     "name": "stderr",
     "output_type": "stream",
     "text": [
      "[*********************100%***********************]  1 of 1 completed\n"
     ]
    },
    {
     "name": "stdout",
     "output_type": "stream",
     "text": [
      "LYB | Trades: 24, TP Hits: 12, SL Hits: 9\n",
      "\n",
      "Running strategy for MTB...\n"
     ]
    },
    {
     "name": "stderr",
     "output_type": "stream",
     "text": [
      "[*********************100%***********************]  1 of 1 completed\n"
     ]
    },
    {
     "name": "stdout",
     "output_type": "stream",
     "text": [
      "MTB | Trades: 31, TP Hits: 6, SL Hits: 23\n",
      "\n",
      "Running strategy for MPC...\n"
     ]
    },
    {
     "name": "stderr",
     "output_type": "stream",
     "text": [
      "[*********************100%***********************]  1 of 1 completed\n"
     ]
    },
    {
     "name": "stdout",
     "output_type": "stream",
     "text": [
      "MPC | Trades: 22, TP Hits: 9, SL Hits: 13\n",
      "\n",
      "Running strategy for MKTX...\n"
     ]
    },
    {
     "name": "stderr",
     "output_type": "stream",
     "text": [
      "[*********************100%***********************]  1 of 1 completed\n"
     ]
    },
    {
     "name": "stdout",
     "output_type": "stream",
     "text": [
      "MKTX | Trades: 35, TP Hits: 17, SL Hits: 18\n",
      "\n",
      "Running strategy for MAR...\n"
     ]
    },
    {
     "name": "stderr",
     "output_type": "stream",
     "text": [
      "[*********************100%***********************]  1 of 1 completed\n"
     ]
    },
    {
     "name": "stdout",
     "output_type": "stream",
     "text": [
      "MAR | Trades: 26, TP Hits: 16, SL Hits: 10\n",
      "\n",
      "Running strategy for MMC...\n"
     ]
    },
    {
     "name": "stderr",
     "output_type": "stream",
     "text": [
      "[*********************100%***********************]  1 of 1 completed\n"
     ]
    },
    {
     "name": "stdout",
     "output_type": "stream",
     "text": [
      "MMC | Trades: 36, TP Hits: 15, SL Hits: 19\n",
      "\n",
      "Running strategy for MLM...\n"
     ]
    },
    {
     "name": "stderr",
     "output_type": "stream",
     "text": [
      "[*********************100%***********************]  1 of 1 completed\n"
     ]
    },
    {
     "name": "stdout",
     "output_type": "stream",
     "text": [
      "MLM | Trades: 27, TP Hits: 10, SL Hits: 17\n",
      "\n",
      "Running strategy for MAS...\n"
     ]
    },
    {
     "name": "stderr",
     "output_type": "stream",
     "text": [
      "[*********************100%***********************]  1 of 1 completed\n"
     ]
    },
    {
     "name": "stdout",
     "output_type": "stream",
     "text": [
      "MAS | Trades: 34, TP Hits: 12, SL Hits: 19\n",
      "\n",
      "Running strategy for MA...\n"
     ]
    },
    {
     "name": "stderr",
     "output_type": "stream",
     "text": [
      "[*********************100%***********************]  1 of 1 completed\n"
     ]
    },
    {
     "name": "stdout",
     "output_type": "stream",
     "text": [
      "MA | Trades: 27, TP Hits: 13, SL Hits: 13\n",
      "\n",
      "Running strategy for MTCH...\n"
     ]
    },
    {
     "name": "stderr",
     "output_type": "stream",
     "text": [
      "[*********************100%***********************]  1 of 1 completed\n"
     ]
    },
    {
     "name": "stdout",
     "output_type": "stream",
     "text": [
      "MTCH | Trades: 36, TP Hits: 16, SL Hits: 17\n",
      "\n",
      "Running strategy for MKC...\n"
     ]
    },
    {
     "name": "stderr",
     "output_type": "stream",
     "text": [
      "[*********************100%***********************]  1 of 1 completed\n"
     ]
    },
    {
     "name": "stdout",
     "output_type": "stream",
     "text": [
      "MKC | Trades: 38, TP Hits: 16, SL Hits: 20\n",
      "\n",
      "Running strategy for MCD...\n"
     ]
    },
    {
     "name": "stderr",
     "output_type": "stream",
     "text": [
      "[*********************100%***********************]  1 of 1 completed\n"
     ]
    },
    {
     "name": "stdout",
     "output_type": "stream",
     "text": [
      "MCD | Trades: 31, TP Hits: 9, SL Hits: 21\n",
      "\n",
      "Running strategy for MCK...\n"
     ]
    },
    {
     "name": "stderr",
     "output_type": "stream",
     "text": [
      "[*********************100%***********************]  1 of 1 completed\n"
     ]
    },
    {
     "name": "stdout",
     "output_type": "stream",
     "text": [
      "MCK | Trades: 28, TP Hits: 9, SL Hits: 18\n",
      "\n",
      "Running strategy for MDT...\n"
     ]
    },
    {
     "name": "stderr",
     "output_type": "stream",
     "text": [
      "[*********************100%***********************]  1 of 1 completed\n"
     ]
    },
    {
     "name": "stdout",
     "output_type": "stream",
     "text": [
      "MDT | Trades: 33, TP Hits: 13, SL Hits: 19\n",
      "\n",
      "Running strategy for MRK...\n"
     ]
    },
    {
     "name": "stderr",
     "output_type": "stream",
     "text": [
      "[*********************100%***********************]  1 of 1 completed\n"
     ]
    },
    {
     "name": "stdout",
     "output_type": "stream",
     "text": [
      "MRK | Trades: 30, TP Hits: 9, SL Hits: 20\n",
      "\n",
      "Running strategy for META...\n"
     ]
    },
    {
     "name": "stderr",
     "output_type": "stream",
     "text": [
      "[*********************100%***********************]  1 of 1 completed\n"
     ]
    },
    {
     "name": "stdout",
     "output_type": "stream",
     "text": [
      "META | Trades: 27, TP Hits: 13, SL Hits: 13\n",
      "\n",
      "Running strategy for MET...\n"
     ]
    },
    {
     "name": "stderr",
     "output_type": "stream",
     "text": [
      "[*********************100%***********************]  1 of 1 completed\n"
     ]
    },
    {
     "name": "stdout",
     "output_type": "stream",
     "text": [
      "MET | Trades: 29, TP Hits: 9, SL Hits: 20\n",
      "\n",
      "Running strategy for MTD...\n"
     ]
    },
    {
     "name": "stderr",
     "output_type": "stream",
     "text": [
      "[*********************100%***********************]  1 of 1 completed\n"
     ]
    },
    {
     "name": "stdout",
     "output_type": "stream",
     "text": [
      "MTD | Trades: 28, TP Hits: 14, SL Hits: 14\n",
      "\n",
      "Running strategy for MGM...\n"
     ]
    },
    {
     "name": "stderr",
     "output_type": "stream",
     "text": [
      "[*********************100%***********************]  1 of 1 completed\n"
     ]
    },
    {
     "name": "stdout",
     "output_type": "stream",
     "text": [
      "MGM | Trades: 30, TP Hits: 9, SL Hits: 21\n",
      "\n",
      "Running strategy for MCHP...\n"
     ]
    },
    {
     "name": "stderr",
     "output_type": "stream",
     "text": [
      "[*********************100%***********************]  1 of 1 completed\n"
     ]
    },
    {
     "name": "stdout",
     "output_type": "stream",
     "text": [
      "MCHP | Trades: 42, TP Hits: 14, SL Hits: 26\n",
      "\n",
      "Running strategy for MU...\n"
     ]
    },
    {
     "name": "stderr",
     "output_type": "stream",
     "text": [
      "[*********************100%***********************]  1 of 1 completed\n"
     ]
    },
    {
     "name": "stdout",
     "output_type": "stream",
     "text": [
      "MU | Trades: 38, TP Hits: 11, SL Hits: 26\n",
      "\n",
      "Running strategy for MSFT...\n"
     ]
    },
    {
     "name": "stderr",
     "output_type": "stream",
     "text": [
      "[*********************100%***********************]  1 of 1 completed\n"
     ]
    },
    {
     "name": "stdout",
     "output_type": "stream",
     "text": [
      "MSFT | Trades: 36, TP Hits: 22, SL Hits: 14\n",
      "\n",
      "Running strategy for MAA...\n"
     ]
    },
    {
     "name": "stderr",
     "output_type": "stream",
     "text": [
      "[*********************100%***********************]  1 of 1 completed\n"
     ]
    },
    {
     "name": "stdout",
     "output_type": "stream",
     "text": [
      "MAA | Trades: 38, TP Hits: 19, SL Hits: 18\n",
      "\n",
      "Running strategy for MRNA...\n"
     ]
    },
    {
     "name": "stderr",
     "output_type": "stream",
     "text": [
      "[*********************100%***********************]  1 of 1 completed\n"
     ]
    },
    {
     "name": "stdout",
     "output_type": "stream",
     "text": [
      "MRNA | Trades: 11, TP Hits: 6, SL Hits: 4\n",
      "\n",
      "Running strategy for MHK...\n"
     ]
    },
    {
     "name": "stderr",
     "output_type": "stream",
     "text": [
      "[*********************100%***********************]  1 of 1 completed\n"
     ]
    },
    {
     "name": "stdout",
     "output_type": "stream",
     "text": [
      "MHK | Trades: 26, TP Hits: 11, SL Hits: 15\n",
      "\n",
      "Running strategy for MOH...\n"
     ]
    },
    {
     "name": "stderr",
     "output_type": "stream",
     "text": [
      "[*********************100%***********************]  1 of 1 completed\n"
     ]
    },
    {
     "name": "stdout",
     "output_type": "stream",
     "text": [
      "MOH | Trades: 34, TP Hits: 12, SL Hits: 18\n",
      "\n",
      "Running strategy for TAP...\n"
     ]
    },
    {
     "name": "stderr",
     "output_type": "stream",
     "text": [
      "[*********************100%***********************]  1 of 1 completed\n"
     ]
    },
    {
     "name": "stdout",
     "output_type": "stream",
     "text": [
      "TAP | Trades: 34, TP Hits: 9, SL Hits: 25\n",
      "\n",
      "Running strategy for MDLZ...\n"
     ]
    },
    {
     "name": "stderr",
     "output_type": "stream",
     "text": [
      "[*********************100%***********************]  1 of 1 completed\n"
     ]
    },
    {
     "name": "stdout",
     "output_type": "stream",
     "text": [
      "MDLZ | Trades: 31, TP Hits: 10, SL Hits: 21\n",
      "\n",
      "Running strategy for MPWR...\n"
     ]
    },
    {
     "name": "stderr",
     "output_type": "stream",
     "text": [
      "[*********************100%***********************]  1 of 1 completed\n"
     ]
    },
    {
     "name": "stdout",
     "output_type": "stream",
     "text": [
      "MPWR | Trades: 40, TP Hits: 21, SL Hits: 17\n",
      "\n",
      "Running strategy for MNST...\n"
     ]
    },
    {
     "name": "stderr",
     "output_type": "stream",
     "text": [
      "[*********************100%***********************]  1 of 1 completed\n"
     ]
    },
    {
     "name": "stdout",
     "output_type": "stream",
     "text": [
      "MNST | Trades: 34, TP Hits: 17, SL Hits: 15\n",
      "\n",
      "Running strategy for MCO...\n"
     ]
    },
    {
     "name": "stderr",
     "output_type": "stream",
     "text": [
      "[*********************100%***********************]  1 of 1 completed\n"
     ]
    },
    {
     "name": "stdout",
     "output_type": "stream",
     "text": [
      "MCO | Trades: 30, TP Hits: 14, SL Hits: 16\n",
      "\n",
      "Running strategy for MS...\n"
     ]
    },
    {
     "name": "stderr",
     "output_type": "stream",
     "text": [
      "[*********************100%***********************]  1 of 1 completed\n"
     ]
    },
    {
     "name": "stdout",
     "output_type": "stream",
     "text": [
      "MS | Trades: 28, TP Hits: 11, SL Hits: 15\n",
      "\n",
      "Running strategy for MOS...\n"
     ]
    },
    {
     "name": "stderr",
     "output_type": "stream",
     "text": [
      "[*********************100%***********************]  1 of 1 completed\n"
     ]
    },
    {
     "name": "stdout",
     "output_type": "stream",
     "text": [
      "MOS | Trades: 26, TP Hits: 9, SL Hits: 17\n",
      "\n",
      "Running strategy for MSI...\n"
     ]
    },
    {
     "name": "stderr",
     "output_type": "stream",
     "text": [
      "[*********************100%***********************]  1 of 1 completed\n"
     ]
    },
    {
     "name": "stdout",
     "output_type": "stream",
     "text": [
      "MSI | Trades: 37, TP Hits: 16, SL Hits: 20\n",
      "\n",
      "Running strategy for MSCI...\n"
     ]
    },
    {
     "name": "stderr",
     "output_type": "stream",
     "text": [
      "[*********************100%***********************]  1 of 1 completed\n"
     ]
    },
    {
     "name": "stdout",
     "output_type": "stream",
     "text": [
      "MSCI | Trades: 27, TP Hits: 14, SL Hits: 13\n",
      "\n",
      "Running strategy for NDAQ...\n"
     ]
    },
    {
     "name": "stderr",
     "output_type": "stream",
     "text": [
      "[*********************100%***********************]  1 of 1 completed\n"
     ]
    },
    {
     "name": "stdout",
     "output_type": "stream",
     "text": [
      "NDAQ | Trades: 34, TP Hits: 15, SL Hits: 19\n",
      "\n",
      "Running strategy for NTAP...\n"
     ]
    },
    {
     "name": "stderr",
     "output_type": "stream",
     "text": [
      "[*********************100%***********************]  1 of 1 completed\n"
     ]
    },
    {
     "name": "stdout",
     "output_type": "stream",
     "text": [
      "NTAP | Trades: 31, TP Hits: 8, SL Hits: 21\n",
      "\n",
      "Running strategy for NFLX...\n"
     ]
    },
    {
     "name": "stderr",
     "output_type": "stream",
     "text": [
      "[*********************100%***********************]  1 of 1 completed\n"
     ]
    },
    {
     "name": "stdout",
     "output_type": "stream",
     "text": [
      "NFLX | Trades: 31, TP Hits: 16, SL Hits: 15\n",
      "\n",
      "Running strategy for NEM...\n"
     ]
    },
    {
     "name": "stderr",
     "output_type": "stream",
     "text": [
      "[*********************100%***********************]  1 of 1 completed\n"
     ]
    },
    {
     "name": "stdout",
     "output_type": "stream",
     "text": [
      "NEM | Trades: 29, TP Hits: 8, SL Hits: 20\n",
      "\n",
      "Running strategy for NWSA...\n"
     ]
    },
    {
     "name": "stderr",
     "output_type": "stream",
     "text": [
      "[*********************100%***********************]  1 of 1 completed\n"
     ]
    },
    {
     "name": "stdout",
     "output_type": "stream",
     "text": [
      "NWSA | Trades: 21, TP Hits: 6, SL Hits: 13\n",
      "\n",
      "Running strategy for NWS...\n"
     ]
    },
    {
     "name": "stderr",
     "output_type": "stream",
     "text": [
      "[*********************100%***********************]  1 of 1 completed\n"
     ]
    },
    {
     "name": "stdout",
     "output_type": "stream",
     "text": [
      "NWS | Trades: 18, TP Hits: 7, SL Hits: 10\n",
      "\n",
      "Running strategy for NEE...\n"
     ]
    },
    {
     "name": "stderr",
     "output_type": "stream",
     "text": [
      "[*********************100%***********************]  1 of 1 completed\n"
     ]
    },
    {
     "name": "stdout",
     "output_type": "stream",
     "text": [
      "NEE | Trades: 40, TP Hits: 23, SL Hits: 15\n",
      "\n",
      "Running strategy for NKE...\n"
     ]
    },
    {
     "name": "stderr",
     "output_type": "stream",
     "text": [
      "[*********************100%***********************]  1 of 1 completed\n"
     ]
    },
    {
     "name": "stdout",
     "output_type": "stream",
     "text": [
      "NKE | Trades: 40, TP Hits: 20, SL Hits: 18\n",
      "\n",
      "Running strategy for NI...\n"
     ]
    },
    {
     "name": "stderr",
     "output_type": "stream",
     "text": [
      "[*********************100%***********************]  1 of 1 completed\n"
     ]
    },
    {
     "name": "stdout",
     "output_type": "stream",
     "text": [
      "NI | Trades: 45, TP Hits: 15, SL Hits: 29\n",
      "\n",
      "Running strategy for NDSN...\n"
     ]
    },
    {
     "name": "stderr",
     "output_type": "stream",
     "text": [
      "[*********************100%***********************]  1 of 1 completed\n"
     ]
    },
    {
     "name": "stdout",
     "output_type": "stream",
     "text": [
      "NDSN | Trades: 29, TP Hits: 12, SL Hits: 14\n",
      "\n",
      "Running strategy for NSC...\n"
     ]
    },
    {
     "name": "stderr",
     "output_type": "stream",
     "text": [
      "[*********************100%***********************]  1 of 1 completed\n"
     ]
    },
    {
     "name": "stdout",
     "output_type": "stream",
     "text": [
      "NSC | Trades: 40, TP Hits: 14, SL Hits: 24\n",
      "\n",
      "Running strategy for NTRS...\n"
     ]
    },
    {
     "name": "stderr",
     "output_type": "stream",
     "text": [
      "[*********************100%***********************]  1 of 1 completed\n"
     ]
    },
    {
     "name": "stdout",
     "output_type": "stream",
     "text": [
      "NTRS | Trades: 27, TP Hits: 11, SL Hits: 15\n",
      "\n",
      "Running strategy for NOC...\n"
     ]
    },
    {
     "name": "stderr",
     "output_type": "stream",
     "text": [
      "[*********************100%***********************]  1 of 1 completed\n"
     ]
    },
    {
     "name": "stdout",
     "output_type": "stream",
     "text": [
      "NOC | Trades: 41, TP Hits: 19, SL Hits: 22\n",
      "\n",
      "Running strategy for NCLH...\n"
     ]
    },
    {
     "name": "stderr",
     "output_type": "stream",
     "text": [
      "[*********************100%***********************]  1 of 1 completed\n"
     ]
    },
    {
     "name": "stdout",
     "output_type": "stream",
     "text": [
      "NCLH | Trades: 15, TP Hits: 1, SL Hits: 14\n",
      "\n",
      "Running strategy for NRG...\n"
     ]
    },
    {
     "name": "stderr",
     "output_type": "stream",
     "text": [
      "[*********************100%***********************]  1 of 1 completed\n"
     ]
    },
    {
     "name": "stdout",
     "output_type": "stream",
     "text": [
      "NRG | Trades: 24, TP Hits: 11, SL Hits: 12\n",
      "\n",
      "Running strategy for NUE...\n"
     ]
    },
    {
     "name": "stderr",
     "output_type": "stream",
     "text": [
      "[*********************100%***********************]  1 of 1 completed\n"
     ]
    },
    {
     "name": "stdout",
     "output_type": "stream",
     "text": [
      "NUE | Trades: 30, TP Hits: 8, SL Hits: 20\n",
      "\n",
      "Running strategy for NVDA...\n"
     ]
    },
    {
     "name": "stderr",
     "output_type": "stream",
     "text": [
      "[*********************100%***********************]  1 of 1 completed\n"
     ]
    },
    {
     "name": "stdout",
     "output_type": "stream",
     "text": [
      "NVDA | Trades: 31, TP Hits: 17, SL Hits: 13\n",
      "\n",
      "Running strategy for NVR...\n"
     ]
    },
    {
     "name": "stderr",
     "output_type": "stream",
     "text": [
      "[*********************100%***********************]  1 of 1 completed\n"
     ]
    },
    {
     "name": "stdout",
     "output_type": "stream",
     "text": [
      "NVR | Trades: 37, TP Hits: 20, SL Hits: 17\n",
      "\n",
      "Running strategy for NXPI...\n"
     ]
    },
    {
     "name": "stderr",
     "output_type": "stream",
     "text": [
      "[*********************100%***********************]  1 of 1 completed\n"
     ]
    },
    {
     "name": "stdout",
     "output_type": "stream",
     "text": [
      "NXPI | Trades: 40, TP Hits: 17, SL Hits: 22\n",
      "\n",
      "Running strategy for ORLY...\n"
     ]
    },
    {
     "name": "stderr",
     "output_type": "stream",
     "text": [
      "[*********************100%***********************]  1 of 1 completed\n"
     ]
    },
    {
     "name": "stdout",
     "output_type": "stream",
     "text": [
      "ORLY | Trades: 33, TP Hits: 16, SL Hits: 17\n",
      "\n",
      "Running strategy for OXY...\n"
     ]
    },
    {
     "name": "stderr",
     "output_type": "stream",
     "text": [
      "[*********************100%***********************]  1 of 1 completed\n"
     ]
    },
    {
     "name": "stdout",
     "output_type": "stream",
     "text": [
      "OXY | Trades: 27, TP Hits: 3, SL Hits: 23\n",
      "\n",
      "Running strategy for ODFL...\n"
     ]
    },
    {
     "name": "stderr",
     "output_type": "stream",
     "text": [
      "[*********************100%***********************]  1 of 1 completed\n"
     ]
    },
    {
     "name": "stdout",
     "output_type": "stream",
     "text": [
      "ODFL | Trades: 35, TP Hits: 24, SL Hits: 10\n",
      "\n",
      "Running strategy for OMC...\n"
     ]
    },
    {
     "name": "stderr",
     "output_type": "stream",
     "text": [
      "[*********************100%***********************]  1 of 1 completed\n"
     ]
    },
    {
     "name": "stdout",
     "output_type": "stream",
     "text": [
      "OMC | Trades: 34, TP Hits: 10, SL Hits: 22\n",
      "\n",
      "Running strategy for ON...\n"
     ]
    },
    {
     "name": "stderr",
     "output_type": "stream",
     "text": [
      "[*********************100%***********************]  1 of 1 completed\n"
     ]
    },
    {
     "name": "stdout",
     "output_type": "stream",
     "text": [
      "ON | Trades: 33, TP Hits: 12, SL Hits: 20\n",
      "\n",
      "Running strategy for OKE...\n"
     ]
    },
    {
     "name": "stderr",
     "output_type": "stream",
     "text": [
      "[*********************100%***********************]  1 of 1 completed\n"
     ]
    },
    {
     "name": "stdout",
     "output_type": "stream",
     "text": [
      "OKE | Trades: 29, TP Hits: 10, SL Hits: 19\n",
      "\n",
      "Running strategy for ORCL...\n"
     ]
    },
    {
     "name": "stderr",
     "output_type": "stream",
     "text": [
      "[*********************100%***********************]  1 of 1 completed\n"
     ]
    },
    {
     "name": "stdout",
     "output_type": "stream",
     "text": [
      "ORCL | Trades: 31, TP Hits: 11, SL Hits: 20\n",
      "\n",
      "Running strategy for OTIS...\n"
     ]
    },
    {
     "name": "stderr",
     "output_type": "stream",
     "text": [
      "[*********************100%***********************]  1 of 1 completed\n"
     ]
    },
    {
     "name": "stdout",
     "output_type": "stream",
     "text": [
      "OTIS | Trades: 6, TP Hits: 3, SL Hits: 3\n",
      "\n",
      "Running strategy for PCAR...\n"
     ]
    },
    {
     "name": "stderr",
     "output_type": "stream",
     "text": [
      "[*********************100%***********************]  1 of 1 completed\n"
     ]
    },
    {
     "name": "stdout",
     "output_type": "stream",
     "text": [
      "PCAR | Trades: 40, TP Hits: 14, SL Hits: 24\n",
      "\n",
      "Running strategy for PKG...\n"
     ]
    },
    {
     "name": "stderr",
     "output_type": "stream",
     "text": [
      "[*********************100%***********************]  1 of 1 completed\n"
     ]
    },
    {
     "name": "stdout",
     "output_type": "stream",
     "text": [
      "PKG | Trades: 37, TP Hits: 14, SL Hits: 22\n",
      "\n",
      "Running strategy for PLTR...\n"
     ]
    },
    {
     "name": "stderr",
     "output_type": "stream",
     "text": [
      "[*********************100%***********************]  1 of 1 completed\n"
     ]
    },
    {
     "name": "stdout",
     "output_type": "stream",
     "text": [
      "PLTR | Trades: 4, TP Hits: 0, SL Hits: 3\n",
      "\n",
      "Running strategy for PANW...\n"
     ]
    },
    {
     "name": "stderr",
     "output_type": "stream",
     "text": [
      "[*********************100%***********************]  1 of 1 completed\n"
     ]
    },
    {
     "name": "stdout",
     "output_type": "stream",
     "text": [
      "PANW | Trades: 30, TP Hits: 8, SL Hits: 20\n",
      "\n",
      "Running strategy for PARA...\n"
     ]
    },
    {
     "name": "stderr",
     "output_type": "stream",
     "text": [
      "[*********************100%***********************]  1 of 1 completed\n"
     ]
    },
    {
     "name": "stdout",
     "output_type": "stream",
     "text": [
      "PARA | Trades: 30, TP Hits: 16, SL Hits: 13\n",
      "\n",
      "Running strategy for PH...\n"
     ]
    },
    {
     "name": "stderr",
     "output_type": "stream",
     "text": [
      "[*********************100%***********************]  1 of 1 completed\n"
     ]
    },
    {
     "name": "stdout",
     "output_type": "stream",
     "text": [
      "PH | Trades: 33, TP Hits: 13, SL Hits: 20\n",
      "\n",
      "Running strategy for PAYX...\n"
     ]
    },
    {
     "name": "stderr",
     "output_type": "stream",
     "text": [
      "[*********************100%***********************]  1 of 1 completed\n"
     ]
    },
    {
     "name": "stdout",
     "output_type": "stream",
     "text": [
      "PAYX | Trades: 24, TP Hits: 10, SL Hits: 13\n",
      "\n",
      "Running strategy for PAYC...\n"
     ]
    },
    {
     "name": "stderr",
     "output_type": "stream",
     "text": [
      "[*********************100%***********************]  1 of 1 completed\n"
     ]
    },
    {
     "name": "stdout",
     "output_type": "stream",
     "text": [
      "PAYC | Trades: 28, TP Hits: 10, SL Hits: 16\n",
      "\n",
      "Running strategy for PYPL...\n"
     ]
    },
    {
     "name": "stderr",
     "output_type": "stream",
     "text": [
      "[*********************100%***********************]  1 of 1 completed\n"
     ]
    },
    {
     "name": "stdout",
     "output_type": "stream",
     "text": [
      "PYPL | Trades: 18, TP Hits: 9, SL Hits: 8\n",
      "\n",
      "Running strategy for PNR...\n"
     ]
    },
    {
     "name": "stderr",
     "output_type": "stream",
     "text": [
      "[*********************100%***********************]  1 of 1 completed\n"
     ]
    },
    {
     "name": "stdout",
     "output_type": "stream",
     "text": [
      "PNR | Trades: 37, TP Hits: 14, SL Hits: 21\n",
      "\n",
      "Running strategy for PEP...\n"
     ]
    },
    {
     "name": "stderr",
     "output_type": "stream",
     "text": [
      "[*********************100%***********************]  1 of 1 completed\n"
     ]
    },
    {
     "name": "stdout",
     "output_type": "stream",
     "text": [
      "PEP | Trades: 32, TP Hits: 7, SL Hits: 23\n",
      "\n",
      "Running strategy for PFE...\n"
     ]
    },
    {
     "name": "stderr",
     "output_type": "stream",
     "text": [
      "[*********************100%***********************]  1 of 1 completed\n"
     ]
    },
    {
     "name": "stdout",
     "output_type": "stream",
     "text": [
      "PFE | Trades: 30, TP Hits: 9, SL Hits: 21\n",
      "\n",
      "Running strategy for PCG...\n"
     ]
    },
    {
     "name": "stderr",
     "output_type": "stream",
     "text": [
      "[*********************100%***********************]  1 of 1 completed\n"
     ]
    },
    {
     "name": "stdout",
     "output_type": "stream",
     "text": [
      "PCG | Trades: 34, TP Hits: 9, SL Hits: 23\n",
      "\n",
      "Running strategy for PM...\n"
     ]
    },
    {
     "name": "stderr",
     "output_type": "stream",
     "text": [
      "[*********************100%***********************]  1 of 1 completed\n"
     ]
    },
    {
     "name": "stdout",
     "output_type": "stream",
     "text": [
      "PM | Trades: 38, TP Hits: 11, SL Hits: 23\n",
      "\n",
      "Running strategy for PSX...\n"
     ]
    },
    {
     "name": "stderr",
     "output_type": "stream",
     "text": [
      "[*********************100%***********************]  1 of 1 completed\n"
     ]
    },
    {
     "name": "stdout",
     "output_type": "stream",
     "text": [
      "PSX | Trades: 20, TP Hits: 8, SL Hits: 11\n",
      "\n",
      "Running strategy for PNW...\n"
     ]
    },
    {
     "name": "stderr",
     "output_type": "stream",
     "text": [
      "[*********************100%***********************]  1 of 1 completed\n"
     ]
    },
    {
     "name": "stdout",
     "output_type": "stream",
     "text": [
      "PNW | Trades: 27, TP Hits: 9, SL Hits: 18\n",
      "\n",
      "Running strategy for PNC...\n"
     ]
    },
    {
     "name": "stderr",
     "output_type": "stream",
     "text": [
      "[*********************100%***********************]  1 of 1 completed\n"
     ]
    },
    {
     "name": "stdout",
     "output_type": "stream",
     "text": [
      "PNC | Trades: 29, TP Hits: 8, SL Hits: 19\n",
      "\n",
      "Running strategy for POOL...\n"
     ]
    },
    {
     "name": "stderr",
     "output_type": "stream",
     "text": [
      "[*********************100%***********************]  1 of 1 completed\n"
     ]
    },
    {
     "name": "stdout",
     "output_type": "stream",
     "text": [
      "POOL | Trades: 29, TP Hits: 14, SL Hits: 14\n",
      "\n",
      "Running strategy for PPG...\n"
     ]
    },
    {
     "name": "stderr",
     "output_type": "stream",
     "text": [
      "[*********************100%***********************]  1 of 1 completed\n"
     ]
    },
    {
     "name": "stdout",
     "output_type": "stream",
     "text": [
      "PPG | Trades: 39, TP Hits: 15, SL Hits: 24\n",
      "\n",
      "Running strategy for PPL...\n"
     ]
    },
    {
     "name": "stderr",
     "output_type": "stream",
     "text": [
      "[*********************100%***********************]  1 of 1 completed\n"
     ]
    },
    {
     "name": "stdout",
     "output_type": "stream",
     "text": [
      "PPL | Trades: 40, TP Hits: 8, SL Hits: 31\n",
      "\n",
      "Running strategy for PFG...\n"
     ]
    },
    {
     "name": "stderr",
     "output_type": "stream",
     "text": [
      "[*********************100%***********************]  1 of 1 completed\n"
     ]
    },
    {
     "name": "stdout",
     "output_type": "stream",
     "text": [
      "PFG | Trades: 31, TP Hits: 15, SL Hits: 15\n",
      "\n",
      "Running strategy for PG...\n"
     ]
    },
    {
     "name": "stderr",
     "output_type": "stream",
     "text": [
      "[*********************100%***********************]  1 of 1 completed\n"
     ]
    },
    {
     "name": "stdout",
     "output_type": "stream",
     "text": [
      "PG | Trades: 28, TP Hits: 7, SL Hits: 19\n",
      "\n",
      "Running strategy for PGR...\n"
     ]
    },
    {
     "name": "stderr",
     "output_type": "stream",
     "text": [
      "[*********************100%***********************]  1 of 1 completed\n"
     ]
    },
    {
     "name": "stdout",
     "output_type": "stream",
     "text": [
      "PGR | Trades: 36, TP Hits: 16, SL Hits: 19\n",
      "\n",
      "Running strategy for PLD...\n"
     ]
    },
    {
     "name": "stderr",
     "output_type": "stream",
     "text": [
      "[*********************100%***********************]  1 of 1 completed\n"
     ]
    },
    {
     "name": "stdout",
     "output_type": "stream",
     "text": [
      "PLD | Trades: 31, TP Hits: 12, SL Hits: 18\n",
      "\n",
      "Running strategy for PRU...\n"
     ]
    },
    {
     "name": "stderr",
     "output_type": "stream",
     "text": [
      "[*********************100%***********************]  1 of 1 completed\n"
     ]
    },
    {
     "name": "stdout",
     "output_type": "stream",
     "text": [
      "PRU | Trades: 26, TP Hits: 8, SL Hits: 18\n",
      "\n",
      "Running strategy for PEG...\n"
     ]
    },
    {
     "name": "stderr",
     "output_type": "stream",
     "text": [
      "[*********************100%***********************]  1 of 1 completed\n"
     ]
    },
    {
     "name": "stdout",
     "output_type": "stream",
     "text": [
      "PEG | Trades: 33, TP Hits: 8, SL Hits: 24\n",
      "\n",
      "Running strategy for PTC...\n"
     ]
    },
    {
     "name": "stderr",
     "output_type": "stream",
     "text": [
      "[*********************100%***********************]  1 of 1 completed\n"
     ]
    },
    {
     "name": "stdout",
     "output_type": "stream",
     "text": [
      "PTC | Trades: 39, TP Hits: 17, SL Hits: 22\n",
      "\n",
      "Running strategy for PSA...\n"
     ]
    },
    {
     "name": "stderr",
     "output_type": "stream",
     "text": [
      "[*********************100%***********************]  1 of 1 completed\n"
     ]
    },
    {
     "name": "stdout",
     "output_type": "stream",
     "text": [
      "PSA | Trades: 27, TP Hits: 5, SL Hits: 20\n",
      "\n",
      "Running strategy for PHM...\n"
     ]
    },
    {
     "name": "stderr",
     "output_type": "stream",
     "text": [
      "[*********************100%***********************]  1 of 1 completed\n"
     ]
    },
    {
     "name": "stdout",
     "output_type": "stream",
     "text": [
      "PHM | Trades: 31, TP Hits: 14, SL Hits: 16\n",
      "\n",
      "Running strategy for PWR...\n"
     ]
    },
    {
     "name": "stderr",
     "output_type": "stream",
     "text": [
      "[*********************100%***********************]  1 of 1 completed\n"
     ]
    },
    {
     "name": "stdout",
     "output_type": "stream",
     "text": [
      "PWR | Trades: 33, TP Hits: 10, SL Hits: 21\n",
      "\n",
      "Running strategy for QCOM...\n"
     ]
    },
    {
     "name": "stderr",
     "output_type": "stream",
     "text": [
      "[*********************100%***********************]  1 of 1 completed\n"
     ]
    },
    {
     "name": "stdout",
     "output_type": "stream",
     "text": [
      "QCOM | Trades: 26, TP Hits: 9, SL Hits: 17\n",
      "\n",
      "Running strategy for DGX...\n"
     ]
    },
    {
     "name": "stderr",
     "output_type": "stream",
     "text": [
      "[*********************100%***********************]  1 of 1 completed\n"
     ]
    },
    {
     "name": "stdout",
     "output_type": "stream",
     "text": [
      "DGX | Trades: 43, TP Hits: 8, SL Hits: 34\n",
      "\n",
      "Running strategy for RL...\n"
     ]
    },
    {
     "name": "stderr",
     "output_type": "stream",
     "text": [
      "[*********************100%***********************]  1 of 1 completed\n"
     ]
    },
    {
     "name": "stdout",
     "output_type": "stream",
     "text": [
      "RL | Trades: 26, TP Hits: 8, SL Hits: 17\n",
      "\n",
      "Running strategy for RJF...\n"
     ]
    },
    {
     "name": "stderr",
     "output_type": "stream",
     "text": [
      "[*********************100%***********************]  1 of 1 completed\n"
     ]
    },
    {
     "name": "stdout",
     "output_type": "stream",
     "text": [
      "RJF | Trades: 33, TP Hits: 13, SL Hits: 18\n",
      "\n",
      "Running strategy for RTX...\n"
     ]
    },
    {
     "name": "stderr",
     "output_type": "stream",
     "text": [
      "[*********************100%***********************]  1 of 1 completed\n"
     ]
    },
    {
     "name": "stdout",
     "output_type": "stream",
     "text": [
      "RTX | Trades: 29, TP Hits: 12, SL Hits: 17\n",
      "\n",
      "Running strategy for O...\n"
     ]
    },
    {
     "name": "stderr",
     "output_type": "stream",
     "text": [
      "[*********************100%***********************]  1 of 1 completed\n"
     ]
    },
    {
     "name": "stdout",
     "output_type": "stream",
     "text": [
      "O | Trades: 26, TP Hits: 9, SL Hits: 16\n",
      "\n",
      "Running strategy for REG...\n"
     ]
    },
    {
     "name": "stderr",
     "output_type": "stream",
     "text": [
      "[*********************100%***********************]  1 of 1 completed\n"
     ]
    },
    {
     "name": "stdout",
     "output_type": "stream",
     "text": [
      "REG | Trades: 21, TP Hits: 2, SL Hits: 17\n",
      "\n",
      "Running strategy for REGN...\n"
     ]
    },
    {
     "name": "stderr",
     "output_type": "stream",
     "text": [
      "[*********************100%***********************]  1 of 1 completed\n"
     ]
    },
    {
     "name": "stdout",
     "output_type": "stream",
     "text": [
      "REGN | Trades: 34, TP Hits: 15, SL Hits: 17\n",
      "\n",
      "Running strategy for RF...\n"
     ]
    },
    {
     "name": "stderr",
     "output_type": "stream",
     "text": [
      "[*********************100%***********************]  1 of 1 completed\n"
     ]
    },
    {
     "name": "stdout",
     "output_type": "stream",
     "text": [
      "RF | Trades: 37, TP Hits: 8, SL Hits: 26\n",
      "\n",
      "Running strategy for RSG...\n"
     ]
    },
    {
     "name": "stderr",
     "output_type": "stream",
     "text": [
      "[*********************100%***********************]  1 of 1 completed\n"
     ]
    },
    {
     "name": "stdout",
     "output_type": "stream",
     "text": [
      "RSG | Trades: 33, TP Hits: 18, SL Hits: 14\n",
      "\n",
      "Running strategy for RMD...\n"
     ]
    },
    {
     "name": "stderr",
     "output_type": "stream",
     "text": [
      "[*********************100%***********************]  1 of 1 completed\n"
     ]
    },
    {
     "name": "stdout",
     "output_type": "stream",
     "text": [
      "RMD | Trades: 37, TP Hits: 15, SL Hits: 21\n",
      "\n",
      "Running strategy for RVTY...\n"
     ]
    },
    {
     "name": "stderr",
     "output_type": "stream",
     "text": [
      "[*********************100%***********************]  1 of 1 completed\n"
     ]
    },
    {
     "name": "stdout",
     "output_type": "stream",
     "text": [
      "RVTY | Trades: 40, TP Hits: 16, SL Hits: 23\n",
      "\n",
      "Running strategy for ROK...\n"
     ]
    },
    {
     "name": "stderr",
     "output_type": "stream",
     "text": [
      "[*********************100%***********************]  1 of 1 completed\n"
     ]
    },
    {
     "name": "stdout",
     "output_type": "stream",
     "text": [
      "ROK | Trades: 36, TP Hits: 20, SL Hits: 14\n",
      "\n",
      "Running strategy for ROL...\n"
     ]
    },
    {
     "name": "stderr",
     "output_type": "stream",
     "text": [
      "[*********************100%***********************]  1 of 1 completed\n"
     ]
    },
    {
     "name": "stdout",
     "output_type": "stream",
     "text": [
      "ROL | Trades: 33, TP Hits: 12, SL Hits: 21\n",
      "\n",
      "Running strategy for ROP...\n"
     ]
    },
    {
     "name": "stderr",
     "output_type": "stream",
     "text": [
      "[*********************100%***********************]  1 of 1 completed\n"
     ]
    },
    {
     "name": "stdout",
     "output_type": "stream",
     "text": [
      "ROP | Trades: 34, TP Hits: 18, SL Hits: 15\n",
      "\n",
      "Running strategy for ROST...\n"
     ]
    },
    {
     "name": "stderr",
     "output_type": "stream",
     "text": [
      "[*********************100%***********************]  1 of 1 completed\n"
     ]
    },
    {
     "name": "stdout",
     "output_type": "stream",
     "text": [
      "ROST | Trades: 31, TP Hits: 14, SL Hits: 16\n",
      "\n",
      "Running strategy for RCL...\n"
     ]
    },
    {
     "name": "stderr",
     "output_type": "stream",
     "text": [
      "[*********************100%***********************]  1 of 1 completed\n"
     ]
    },
    {
     "name": "stdout",
     "output_type": "stream",
     "text": [
      "RCL | Trades: 35, TP Hits: 14, SL Hits: 21\n",
      "\n",
      "Running strategy for SPGI...\n"
     ]
    },
    {
     "name": "stderr",
     "output_type": "stream",
     "text": [
      "[*********************100%***********************]  1 of 1 completed\n"
     ]
    },
    {
     "name": "stdout",
     "output_type": "stream",
     "text": [
      "SPGI | Trades: 28, TP Hits: 11, SL Hits: 16\n",
      "\n",
      "Running strategy for CRM...\n"
     ]
    },
    {
     "name": "stderr",
     "output_type": "stream",
     "text": [
      "[*********************100%***********************]  1 of 1 completed\n"
     ]
    },
    {
     "name": "stdout",
     "output_type": "stream",
     "text": [
      "CRM | Trades: 27, TP Hits: 10, SL Hits: 16\n",
      "\n",
      "Running strategy for SBAC...\n"
     ]
    },
    {
     "name": "stderr",
     "output_type": "stream",
     "text": [
      "[*********************100%***********************]  1 of 1 completed\n"
     ]
    },
    {
     "name": "stdout",
     "output_type": "stream",
     "text": [
      "SBAC | Trades: 37, TP Hits: 19, SL Hits: 17\n",
      "\n",
      "Running strategy for SLB...\n"
     ]
    },
    {
     "name": "stderr",
     "output_type": "stream",
     "text": [
      "[*********************100%***********************]  1 of 1 completed\n"
     ]
    },
    {
     "name": "stdout",
     "output_type": "stream",
     "text": [
      "SLB | Trades: 20, TP Hits: 6, SL Hits: 13\n",
      "\n",
      "Running strategy for STX...\n"
     ]
    },
    {
     "name": "stderr",
     "output_type": "stream",
     "text": [
      "[*********************100%***********************]  1 of 1 completed\n"
     ]
    },
    {
     "name": "stdout",
     "output_type": "stream",
     "text": [
      "STX | Trades: 31, TP Hits: 11, SL Hits: 19\n",
      "\n",
      "Running strategy for SRE...\n"
     ]
    },
    {
     "name": "stderr",
     "output_type": "stream",
     "text": [
      "[*********************100%***********************]  1 of 1 completed\n"
     ]
    },
    {
     "name": "stdout",
     "output_type": "stream",
     "text": [
      "SRE | Trades: 30, TP Hits: 8, SL Hits: 20\n",
      "\n",
      "Running strategy for NOW...\n"
     ]
    },
    {
     "name": "stderr",
     "output_type": "stream",
     "text": [
      "[*********************100%***********************]  1 of 1 completed\n"
     ]
    },
    {
     "name": "stdout",
     "output_type": "stream",
     "text": [
      "NOW | Trades: 27, TP Hits: 18, SL Hits: 9\n",
      "\n",
      "Running strategy for SHW...\n"
     ]
    },
    {
     "name": "stderr",
     "output_type": "stream",
     "text": [
      "[*********************100%***********************]  1 of 1 completed\n"
     ]
    },
    {
     "name": "stdout",
     "output_type": "stream",
     "text": [
      "SHW | Trades: 39, TP Hits: 21, SL Hits: 18\n",
      "\n",
      "Running strategy for SPG...\n"
     ]
    },
    {
     "name": "stderr",
     "output_type": "stream",
     "text": [
      "[*********************100%***********************]  1 of 1 completed\n"
     ]
    },
    {
     "name": "stdout",
     "output_type": "stream",
     "text": [
      "SPG | Trades: 36, TP Hits: 11, SL Hits: 23\n",
      "\n",
      "Running strategy for SWKS...\n"
     ]
    },
    {
     "name": "stderr",
     "output_type": "stream",
     "text": [
      "[*********************100%***********************]  1 of 1 completed\n"
     ]
    },
    {
     "name": "stdout",
     "output_type": "stream",
     "text": [
      "SWKS | Trades: 30, TP Hits: 13, SL Hits: 16\n",
      "\n",
      "Running strategy for SJM...\n"
     ]
    },
    {
     "name": "stderr",
     "output_type": "stream",
     "text": [
      "[*********************100%***********************]  1 of 1 completed\n"
     ]
    },
    {
     "name": "stdout",
     "output_type": "stream",
     "text": [
      "SJM | Trades: 30, TP Hits: 11, SL Hits: 18\n",
      "\n",
      "Running strategy for SW...\n"
     ]
    },
    {
     "name": "stderr",
     "output_type": "stream",
     "text": [
      "[*********************100%***********************]  1 of 1 completed\n",
      "\n",
      "1 Failed download:\n",
      "['SW']: YFPricesMissingError('possibly delisted; no price data found  (1d 2010-01-01 -> 2023-12-31) (Yahoo error = \"Data doesn\\'t exist for startDate = 1262322000, endDate = 1703998800\")')\n"
     ]
    },
    {
     "name": "stdout",
     "output_type": "stream",
     "text": [
      "SW has no data.\n",
      "\n",
      "Running strategy for SNA...\n"
     ]
    },
    {
     "name": "stderr",
     "output_type": "stream",
     "text": [
      "[*********************100%***********************]  1 of 1 completed\n"
     ]
    },
    {
     "name": "stdout",
     "output_type": "stream",
     "text": [
      "SNA | Trades: 28, TP Hits: 9, SL Hits: 16\n",
      "\n",
      "Running strategy for SOLV...\n"
     ]
    },
    {
     "name": "stderr",
     "output_type": "stream",
     "text": [
      "[*********************100%***********************]  1 of 1 completed\n",
      "\n",
      "1 Failed download:\n",
      "['SOLV']: YFPricesMissingError('possibly delisted; no price data found  (1d 2010-01-01 -> 2023-12-31) (Yahoo error = \"Data doesn\\'t exist for startDate = 1262322000, endDate = 1703998800\")')\n"
     ]
    },
    {
     "name": "stdout",
     "output_type": "stream",
     "text": [
      "SOLV has no data.\n",
      "\n",
      "Running strategy for SO...\n"
     ]
    },
    {
     "name": "stderr",
     "output_type": "stream",
     "text": [
      "[*********************100%***********************]  1 of 1 completed\n"
     ]
    },
    {
     "name": "stdout",
     "output_type": "stream",
     "text": [
      "SO | Trades: 29, TP Hits: 11, SL Hits: 17\n",
      "\n",
      "Running strategy for LUV...\n"
     ]
    },
    {
     "name": "stderr",
     "output_type": "stream",
     "text": [
      "[*********************100%***********************]  1 of 1 completed\n"
     ]
    },
    {
     "name": "stdout",
     "output_type": "stream",
     "text": [
      "LUV | Trades: 34, TP Hits: 7, SL Hits: 27\n",
      "\n",
      "Running strategy for SWK...\n"
     ]
    },
    {
     "name": "stderr",
     "output_type": "stream",
     "text": [
      "[*********************100%***********************]  1 of 1 completed\n"
     ]
    },
    {
     "name": "stdout",
     "output_type": "stream",
     "text": [
      "SWK | Trades: 33, TP Hits: 13, SL Hits: 17\n",
      "\n",
      "Running strategy for SBUX...\n"
     ]
    },
    {
     "name": "stderr",
     "output_type": "stream",
     "text": [
      "[*********************100%***********************]  1 of 1 completed\n"
     ]
    },
    {
     "name": "stdout",
     "output_type": "stream",
     "text": [
      "SBUX | Trades: 32, TP Hits: 21, SL Hits: 11\n",
      "\n",
      "Running strategy for STT...\n"
     ]
    },
    {
     "name": "stderr",
     "output_type": "stream",
     "text": [
      "[*********************100%***********************]  1 of 1 completed\n"
     ]
    },
    {
     "name": "stdout",
     "output_type": "stream",
     "text": [
      "STT | Trades: 34, TP Hits: 13, SL Hits: 20\n",
      "\n",
      "Running strategy for STLD...\n"
     ]
    },
    {
     "name": "stderr",
     "output_type": "stream",
     "text": [
      "[*********************100%***********************]  1 of 1 completed\n"
     ]
    },
    {
     "name": "stdout",
     "output_type": "stream",
     "text": [
      "STLD | Trades: 25, TP Hits: 7, SL Hits: 16\n",
      "\n",
      "Running strategy for STE...\n"
     ]
    },
    {
     "name": "stderr",
     "output_type": "stream",
     "text": [
      "[*********************100%***********************]  1 of 1 completed\n"
     ]
    },
    {
     "name": "stdout",
     "output_type": "stream",
     "text": [
      "STE | Trades: 28, TP Hits: 8, SL Hits: 18\n",
      "\n",
      "Running strategy for SYK...\n"
     ]
    },
    {
     "name": "stderr",
     "output_type": "stream",
     "text": [
      "[*********************100%***********************]  1 of 1 completed\n"
     ]
    },
    {
     "name": "stdout",
     "output_type": "stream",
     "text": [
      "SYK | Trades: 36, TP Hits: 16, SL Hits: 19\n",
      "\n",
      "Running strategy for SMCI...\n"
     ]
    },
    {
     "name": "stderr",
     "output_type": "stream",
     "text": [
      "[*********************100%***********************]  1 of 1 completed\n"
     ]
    },
    {
     "name": "stdout",
     "output_type": "stream",
     "text": [
      "SMCI | Trades: 39, TP Hits: 13, SL Hits: 25\n",
      "\n",
      "Running strategy for SYF...\n"
     ]
    },
    {
     "name": "stderr",
     "output_type": "stream",
     "text": [
      "[*********************100%***********************]  1 of 1 completed\n"
     ]
    },
    {
     "name": "stdout",
     "output_type": "stream",
     "text": [
      "SYF | Trades: 23, TP Hits: 4, SL Hits: 17\n",
      "\n",
      "Running strategy for SNPS...\n"
     ]
    },
    {
     "name": "stderr",
     "output_type": "stream",
     "text": [
      "[*********************100%***********************]  1 of 1 completed\n"
     ]
    },
    {
     "name": "stdout",
     "output_type": "stream",
     "text": [
      "SNPS | Trades: 25, TP Hits: 15, SL Hits: 10\n",
      "\n",
      "Running strategy for SYY...\n"
     ]
    },
    {
     "name": "stderr",
     "output_type": "stream",
     "text": [
      "[*********************100%***********************]  1 of 1 completed\n"
     ]
    },
    {
     "name": "stdout",
     "output_type": "stream",
     "text": [
      "SYY | Trades: 43, TP Hits: 16, SL Hits: 27\n",
      "\n",
      "Running strategy for TMUS...\n"
     ]
    },
    {
     "name": "stderr",
     "output_type": "stream",
     "text": [
      "[*********************100%***********************]  1 of 1 completed\n"
     ]
    },
    {
     "name": "stdout",
     "output_type": "stream",
     "text": [
      "TMUS | Trades: 37, TP Hits: 22, SL Hits: 13\n",
      "\n",
      "Running strategy for TROW...\n"
     ]
    },
    {
     "name": "stderr",
     "output_type": "stream",
     "text": [
      "[*********************100%***********************]  1 of 1 completed\n"
     ]
    },
    {
     "name": "stdout",
     "output_type": "stream",
     "text": [
      "TROW | Trades: 36, TP Hits: 13, SL Hits: 20\n",
      "\n",
      "Running strategy for TTWO...\n"
     ]
    },
    {
     "name": "stderr",
     "output_type": "stream",
     "text": [
      "[*********************100%***********************]  1 of 1 completed\n"
     ]
    },
    {
     "name": "stdout",
     "output_type": "stream",
     "text": [
      "TTWO | Trades: 34, TP Hits: 10, SL Hits: 23\n",
      "\n",
      "Running strategy for TPR...\n"
     ]
    },
    {
     "name": "stderr",
     "output_type": "stream",
     "text": [
      "[*********************100%***********************]  1 of 1 completed\n"
     ]
    },
    {
     "name": "stdout",
     "output_type": "stream",
     "text": [
      "TPR | Trades: 21, TP Hits: 6, SL Hits: 14\n",
      "\n",
      "Running strategy for TRGP...\n"
     ]
    },
    {
     "name": "stderr",
     "output_type": "stream",
     "text": [
      "[*********************100%***********************]  1 of 1 completed\n"
     ]
    },
    {
     "name": "stdout",
     "output_type": "stream",
     "text": [
      "TRGP | Trades: 19, TP Hits: 8, SL Hits: 11\n",
      "\n",
      "Running strategy for TGT...\n"
     ]
    },
    {
     "name": "stderr",
     "output_type": "stream",
     "text": [
      "[*********************100%***********************]  1 of 1 completed\n"
     ]
    },
    {
     "name": "stdout",
     "output_type": "stream",
     "text": [
      "TGT | Trades: 31, TP Hits: 14, SL Hits: 17\n",
      "\n",
      "Running strategy for TEL...\n"
     ]
    },
    {
     "name": "stderr",
     "output_type": "stream",
     "text": [
      "[*********************100%***********************]  1 of 1 completed\n"
     ]
    },
    {
     "name": "stdout",
     "output_type": "stream",
     "text": [
      "TEL | Trades: 30, TP Hits: 12, SL Hits: 17\n",
      "\n",
      "Running strategy for TDY...\n"
     ]
    },
    {
     "name": "stderr",
     "output_type": "stream",
     "text": [
      "[*********************100%***********************]  1 of 1 completed\n"
     ]
    },
    {
     "name": "stdout",
     "output_type": "stream",
     "text": [
      "TDY | Trades: 27, TP Hits: 17, SL Hits: 10\n",
      "\n",
      "Running strategy for TER...\n"
     ]
    },
    {
     "name": "stderr",
     "output_type": "stream",
     "text": [
      "[*********************100%***********************]  1 of 1 completed\n"
     ]
    },
    {
     "name": "stdout",
     "output_type": "stream",
     "text": [
      "TER | Trades: 35, TP Hits: 15, SL Hits: 20\n",
      "\n",
      "Running strategy for TSLA...\n"
     ]
    },
    {
     "name": "stderr",
     "output_type": "stream",
     "text": [
      "[*********************100%***********************]  1 of 1 completed\n"
     ]
    },
    {
     "name": "stdout",
     "output_type": "stream",
     "text": [
      "TSLA | Trades: 41, TP Hits: 13, SL Hits: 26\n",
      "\n",
      "Running strategy for TXN...\n"
     ]
    },
    {
     "name": "stderr",
     "output_type": "stream",
     "text": [
      "[*********************100%***********************]  1 of 1 completed\n"
     ]
    },
    {
     "name": "stdout",
     "output_type": "stream",
     "text": [
      "TXN | Trades: 45, TP Hits: 18, SL Hits: 25\n",
      "\n",
      "Running strategy for TPL...\n"
     ]
    },
    {
     "name": "stderr",
     "output_type": "stream",
     "text": [
      "[*********************100%***********************]  1 of 1 completed\n"
     ]
    },
    {
     "name": "stdout",
     "output_type": "stream",
     "text": [
      "TPL | Trades: 41, TP Hits: 19, SL Hits: 22\n",
      "\n",
      "Running strategy for TXT...\n"
     ]
    },
    {
     "name": "stderr",
     "output_type": "stream",
     "text": [
      "[*********************100%***********************]  1 of 1 completed\n"
     ]
    },
    {
     "name": "stdout",
     "output_type": "stream",
     "text": [
      "TXT | Trades: 26, TP Hits: 10, SL Hits: 13\n",
      "\n",
      "Running strategy for TMO...\n"
     ]
    },
    {
     "name": "stderr",
     "output_type": "stream",
     "text": [
      "[*********************100%***********************]  1 of 1 completed\n"
     ]
    },
    {
     "name": "stdout",
     "output_type": "stream",
     "text": [
      "TMO | Trades: 41, TP Hits: 19, SL Hits: 21\n",
      "\n",
      "Running strategy for TJX...\n"
     ]
    },
    {
     "name": "stderr",
     "output_type": "stream",
     "text": [
      "[*********************100%***********************]  1 of 1 completed\n"
     ]
    },
    {
     "name": "stdout",
     "output_type": "stream",
     "text": [
      "TJX | Trades: 37, TP Hits: 18, SL Hits: 19\n",
      "\n",
      "Running strategy for TKO...\n"
     ]
    },
    {
     "name": "stderr",
     "output_type": "stream",
     "text": [
      "[*********************100%***********************]  1 of 1 completed\n"
     ]
    },
    {
     "name": "stdout",
     "output_type": "stream",
     "text": [
      "TKO | Trades: 28, TP Hits: 12, SL Hits: 16\n",
      "\n",
      "Running strategy for TSCO...\n"
     ]
    },
    {
     "name": "stderr",
     "output_type": "stream",
     "text": [
      "[*********************100%***********************]  1 of 1 completed\n"
     ]
    },
    {
     "name": "stdout",
     "output_type": "stream",
     "text": [
      "TSCO | Trades: 32, TP Hits: 12, SL Hits: 20\n",
      "\n",
      "Running strategy for TT...\n"
     ]
    },
    {
     "name": "stderr",
     "output_type": "stream",
     "text": [
      "[*********************100%***********************]  1 of 1 completed\n"
     ]
    },
    {
     "name": "stdout",
     "output_type": "stream",
     "text": [
      "TT | Trades: 29, TP Hits: 15, SL Hits: 14\n",
      "\n",
      "Running strategy for TDG...\n"
     ]
    },
    {
     "name": "stderr",
     "output_type": "stream",
     "text": [
      "[*********************100%***********************]  1 of 1 completed\n"
     ]
    },
    {
     "name": "stdout",
     "output_type": "stream",
     "text": [
      "TDG | Trades: 33, TP Hits: 22, SL Hits: 11\n",
      "\n",
      "Running strategy for TRV...\n"
     ]
    },
    {
     "name": "stderr",
     "output_type": "stream",
     "text": [
      "[*********************100%***********************]  1 of 1 completed\n"
     ]
    },
    {
     "name": "stdout",
     "output_type": "stream",
     "text": [
      "TRV | Trades: 30, TP Hits: 10, SL Hits: 19\n",
      "\n",
      "Running strategy for TRMB...\n"
     ]
    },
    {
     "name": "stderr",
     "output_type": "stream",
     "text": [
      "[*********************100%***********************]  1 of 1 completed\n"
     ]
    },
    {
     "name": "stdout",
     "output_type": "stream",
     "text": [
      "TRMB | Trades: 32, TP Hits: 8, SL Hits: 23\n",
      "\n",
      "Running strategy for TFC...\n"
     ]
    },
    {
     "name": "stderr",
     "output_type": "stream",
     "text": [
      "[*********************100%***********************]  1 of 1 completed\n"
     ]
    },
    {
     "name": "stdout",
     "output_type": "stream",
     "text": [
      "TFC | Trades: 34, TP Hits: 7, SL Hits: 23\n",
      "\n",
      "Running strategy for TYL...\n"
     ]
    },
    {
     "name": "stderr",
     "output_type": "stream",
     "text": [
      "[*********************100%***********************]  1 of 1 completed\n"
     ]
    },
    {
     "name": "stdout",
     "output_type": "stream",
     "text": [
      "TYL | Trades: 32, TP Hits: 19, SL Hits: 13\n",
      "\n",
      "Running strategy for TSN...\n"
     ]
    },
    {
     "name": "stderr",
     "output_type": "stream",
     "text": [
      "[*********************100%***********************]  1 of 1 completed\n"
     ]
    },
    {
     "name": "stdout",
     "output_type": "stream",
     "text": [
      "TSN | Trades: 32, TP Hits: 12, SL Hits: 19\n",
      "\n",
      "Running strategy for USB...\n"
     ]
    },
    {
     "name": "stderr",
     "output_type": "stream",
     "text": [
      "[*********************100%***********************]  1 of 1 completed\n"
     ]
    },
    {
     "name": "stdout",
     "output_type": "stream",
     "text": [
      "USB | Trades: 35, TP Hits: 7, SL Hits: 26\n"
     ]
    },
    {
     "name": "stderr",
     "output_type": "stream",
     "text": [
      "[*********************100%***********************]  1 of 1 completed"
     ]
    },
    {
     "name": "stdout",
     "output_type": "stream",
     "text": [
      "\n",
      "Running strategy for UBER...\n"
     ]
    },
    {
     "name": "stderr",
     "output_type": "stream",
     "text": [
      "\n"
     ]
    },
    {
     "name": "stdout",
     "output_type": "stream",
     "text": [
      "UBER | Trades: 6, TP Hits: 3, SL Hits: 3\n",
      "\n",
      "Running strategy for UDR...\n"
     ]
    },
    {
     "name": "stderr",
     "output_type": "stream",
     "text": [
      "[*********************100%***********************]  1 of 1 completed\n"
     ]
    },
    {
     "name": "stdout",
     "output_type": "stream",
     "text": [
      "UDR | Trades: 39, TP Hits: 16, SL Hits: 21\n",
      "\n",
      "Running strategy for ULTA...\n"
     ]
    },
    {
     "name": "stderr",
     "output_type": "stream",
     "text": [
      "[*********************100%***********************]  1 of 1 completed\n"
     ]
    },
    {
     "name": "stdout",
     "output_type": "stream",
     "text": [
      "ULTA | Trades: 39, TP Hits: 17, SL Hits: 22\n",
      "\n",
      "Running strategy for UNP...\n"
     ]
    },
    {
     "name": "stderr",
     "output_type": "stream",
     "text": [
      "[*********************100%***********************]  1 of 1 completed\n"
     ]
    },
    {
     "name": "stdout",
     "output_type": "stream",
     "text": [
      "UNP | Trades: 36, TP Hits: 18, SL Hits: 16\n",
      "\n",
      "Running strategy for UAL...\n"
     ]
    },
    {
     "name": "stderr",
     "output_type": "stream",
     "text": [
      "[*********************100%***********************]  1 of 1 completed\n"
     ]
    },
    {
     "name": "stdout",
     "output_type": "stream",
     "text": [
      "UAL | Trades: 31, TP Hits: 8, SL Hits: 23\n",
      "\n",
      "Running strategy for UPS...\n"
     ]
    },
    {
     "name": "stderr",
     "output_type": "stream",
     "text": [
      "[*********************100%***********************]  1 of 1 completed\n"
     ]
    },
    {
     "name": "stdout",
     "output_type": "stream",
     "text": [
      "UPS | Trades: 35, TP Hits: 9, SL Hits: 26\n",
      "\n",
      "Running strategy for URI...\n"
     ]
    },
    {
     "name": "stderr",
     "output_type": "stream",
     "text": [
      "[*********************100%***********************]  1 of 1 completed\n"
     ]
    },
    {
     "name": "stdout",
     "output_type": "stream",
     "text": [
      "URI | Trades: 27, TP Hits: 14, SL Hits: 12\n",
      "\n",
      "Running strategy for UNH...\n"
     ]
    },
    {
     "name": "stderr",
     "output_type": "stream",
     "text": [
      "[*********************100%***********************]  1 of 1 completed\n"
     ]
    },
    {
     "name": "stdout",
     "output_type": "stream",
     "text": [
      "UNH | Trades: 31, TP Hits: 17, SL Hits: 14\n",
      "\n",
      "Running strategy for UHS...\n"
     ]
    },
    {
     "name": "stderr",
     "output_type": "stream",
     "text": [
      "[*********************100%***********************]  1 of 1 completed\n"
     ]
    },
    {
     "name": "stdout",
     "output_type": "stream",
     "text": [
      "UHS | Trades: 40, TP Hits: 17, SL Hits: 22\n",
      "\n",
      "Running strategy for VLO...\n"
     ]
    },
    {
     "name": "stderr",
     "output_type": "stream",
     "text": [
      "[*********************100%***********************]  1 of 1 completed\n"
     ]
    },
    {
     "name": "stdout",
     "output_type": "stream",
     "text": [
      "VLO | Trades: 27, TP Hits: 8, SL Hits: 18\n",
      "\n",
      "Running strategy for VTR...\n"
     ]
    },
    {
     "name": "stderr",
     "output_type": "stream",
     "text": [
      "[*********************100%***********************]  1 of 1 completed\n"
     ]
    },
    {
     "name": "stdout",
     "output_type": "stream",
     "text": [
      "VTR | Trades: 28, TP Hits: 7, SL Hits: 20\n"
     ]
    },
    {
     "name": "stderr",
     "output_type": "stream",
     "text": [
      "[*********************100%***********************]  1 of 1 completed"
     ]
    },
    {
     "name": "stdout",
     "output_type": "stream",
     "text": [
      "\n",
      "Running strategy for VLTO...\n",
      "VLTO | Trades: 3, TP Hits: 0, SL Hits: 0\n"
     ]
    },
    {
     "name": "stderr",
     "output_type": "stream",
     "text": [
      "\n"
     ]
    },
    {
     "name": "stdout",
     "output_type": "stream",
     "text": [
      "\n",
      "Running strategy for VRSN...\n"
     ]
    },
    {
     "name": "stderr",
     "output_type": "stream",
     "text": [
      "[*********************100%***********************]  1 of 1 completed\n"
     ]
    },
    {
     "name": "stdout",
     "output_type": "stream",
     "text": [
      "VRSN | Trades: 32, TP Hits: 17, SL Hits: 13\n",
      "\n",
      "Running strategy for VRSK...\n"
     ]
    },
    {
     "name": "stderr",
     "output_type": "stream",
     "text": [
      "[*********************100%***********************]  1 of 1 completed\n"
     ]
    },
    {
     "name": "stdout",
     "output_type": "stream",
     "text": [
      "VRSK | Trades: 29, TP Hits: 17, SL Hits: 11\n",
      "\n",
      "Running strategy for VZ...\n"
     ]
    },
    {
     "name": "stderr",
     "output_type": "stream",
     "text": [
      "[*********************100%***********************]  1 of 1 completed\n"
     ]
    },
    {
     "name": "stdout",
     "output_type": "stream",
     "text": [
      "VZ | Trades: 29, TP Hits: 3, SL Hits: 25\n",
      "\n",
      "Running strategy for VRTX...\n"
     ]
    },
    {
     "name": "stderr",
     "output_type": "stream",
     "text": [
      "[*********************100%***********************]  1 of 1 completed\n"
     ]
    },
    {
     "name": "stdout",
     "output_type": "stream",
     "text": [
      "VRTX | Trades: 28, TP Hits: 12, SL Hits: 16\n",
      "\n",
      "Running strategy for VTRS...\n"
     ]
    },
    {
     "name": "stderr",
     "output_type": "stream",
     "text": [
      "[*********************100%***********************]  1 of 1 completed\n"
     ]
    },
    {
     "name": "stdout",
     "output_type": "stream",
     "text": [
      "VTRS | Trades: 30, TP Hits: 9, SL Hits: 20\n",
      "\n",
      "Running strategy for VICI...\n"
     ]
    },
    {
     "name": "stderr",
     "output_type": "stream",
     "text": [
      "[*********************100%***********************]  1 of 1 completed\n"
     ]
    },
    {
     "name": "stdout",
     "output_type": "stream",
     "text": [
      "VICI | Trades: 9, TP Hits: 2, SL Hits: 7\n",
      "\n",
      "Running strategy for V...\n"
     ]
    },
    {
     "name": "stderr",
     "output_type": "stream",
     "text": [
      "[*********************100%***********************]  1 of 1 completed\n"
     ]
    },
    {
     "name": "stdout",
     "output_type": "stream",
     "text": [
      "V | Trades: 30, TP Hits: 21, SL Hits: 9\n",
      "\n",
      "Running strategy for VST...\n"
     ]
    },
    {
     "name": "stderr",
     "output_type": "stream",
     "text": [
      "[*********************100%***********************]  1 of 1 completed\n"
     ]
    },
    {
     "name": "stdout",
     "output_type": "stream",
     "text": [
      "VST | Trades: 21, TP Hits: 10, SL Hits: 10\n",
      "\n",
      "Running strategy for VMC...\n"
     ]
    },
    {
     "name": "stderr",
     "output_type": "stream",
     "text": [
      "[*********************100%***********************]  1 of 1 completed\n"
     ]
    },
    {
     "name": "stdout",
     "output_type": "stream",
     "text": [
      "VMC | Trades: 27, TP Hits: 6, SL Hits: 19\n",
      "\n",
      "Running strategy for WRB...\n"
     ]
    },
    {
     "name": "stderr",
     "output_type": "stream",
     "text": [
      "[*********************100%***********************]  1 of 1 completed\n"
     ]
    },
    {
     "name": "stdout",
     "output_type": "stream",
     "text": [
      "WRB | Trades: 32, TP Hits: 20, SL Hits: 12\n",
      "\n",
      "Running strategy for GWW...\n"
     ]
    },
    {
     "name": "stderr",
     "output_type": "stream",
     "text": [
      "[*********************100%***********************]  1 of 1 completed\n"
     ]
    },
    {
     "name": "stdout",
     "output_type": "stream",
     "text": [
      "GWW | Trades: 35, TP Hits: 6, SL Hits: 28\n",
      "\n",
      "Running strategy for WAB...\n"
     ]
    },
    {
     "name": "stderr",
     "output_type": "stream",
     "text": [
      "[*********************100%***********************]  1 of 1 completed\n"
     ]
    },
    {
     "name": "stdout",
     "output_type": "stream",
     "text": [
      "WAB | Trades: 34, TP Hits: 11, SL Hits: 21\n",
      "\n",
      "Running strategy for WBA...\n"
     ]
    },
    {
     "name": "stderr",
     "output_type": "stream",
     "text": [
      "[*********************100%***********************]  1 of 1 completed\n"
     ]
    },
    {
     "name": "stdout",
     "output_type": "stream",
     "text": [
      "WBA | Trades: 40, TP Hits: 7, SL Hits: 33\n",
      "\n",
      "Running strategy for WMT...\n"
     ]
    },
    {
     "name": "stderr",
     "output_type": "stream",
     "text": [
      "[*********************100%***********************]  1 of 1 completed\n"
     ]
    },
    {
     "name": "stdout",
     "output_type": "stream",
     "text": [
      "WMT | Trades: 37, TP Hits: 8, SL Hits: 27\n",
      "\n",
      "Running strategy for DIS...\n"
     ]
    },
    {
     "name": "stderr",
     "output_type": "stream",
     "text": [
      "[*********************100%***********************]  1 of 1 completed\n"
     ]
    },
    {
     "name": "stdout",
     "output_type": "stream",
     "text": [
      "DIS | Trades: 36, TP Hits: 12, SL Hits: 24\n",
      "\n",
      "Running strategy for WBD...\n"
     ]
    },
    {
     "name": "stderr",
     "output_type": "stream",
     "text": [
      "[*********************100%***********************]  1 of 1 completed\n"
     ]
    },
    {
     "name": "stdout",
     "output_type": "stream",
     "text": [
      "WBD | Trades: 25, TP Hits: 9, SL Hits: 16\n",
      "\n",
      "Running strategy for WM...\n"
     ]
    },
    {
     "name": "stderr",
     "output_type": "stream",
     "text": [
      "[*********************100%***********************]  1 of 1 completed\n"
     ]
    },
    {
     "name": "stdout",
     "output_type": "stream",
     "text": [
      "WM | Trades: 31, TP Hits: 18, SL Hits: 13\n",
      "\n",
      "Running strategy for WAT...\n"
     ]
    },
    {
     "name": "stderr",
     "output_type": "stream",
     "text": [
      "[*********************100%***********************]  1 of 1 completed\n"
     ]
    },
    {
     "name": "stdout",
     "output_type": "stream",
     "text": [
      "WAT | Trades: 28, TP Hits: 12, SL Hits: 16\n",
      "\n",
      "Running strategy for WEC...\n"
     ]
    },
    {
     "name": "stderr",
     "output_type": "stream",
     "text": [
      "[*********************100%***********************]  1 of 1 completed\n"
     ]
    },
    {
     "name": "stdout",
     "output_type": "stream",
     "text": [
      "WEC | Trades: 37, TP Hits: 18, SL Hits: 17\n",
      "\n",
      "Running strategy for WFC...\n"
     ]
    },
    {
     "name": "stderr",
     "output_type": "stream",
     "text": [
      "[*********************100%***********************]  1 of 1 completed\n"
     ]
    },
    {
     "name": "stdout",
     "output_type": "stream",
     "text": [
      "WFC | Trades: 37, TP Hits: 8, SL Hits: 27\n",
      "\n",
      "Running strategy for WELL...\n"
     ]
    },
    {
     "name": "stderr",
     "output_type": "stream",
     "text": [
      "[*********************100%***********************]  1 of 1 completed\n"
     ]
    },
    {
     "name": "stdout",
     "output_type": "stream",
     "text": [
      "WELL | Trades: 35, TP Hits: 11, SL Hits: 21\n",
      "\n",
      "Running strategy for WST...\n"
     ]
    },
    {
     "name": "stderr",
     "output_type": "stream",
     "text": [
      "[*********************100%***********************]  1 of 1 completed\n"
     ]
    },
    {
     "name": "stdout",
     "output_type": "stream",
     "text": [
      "WST | Trades: 35, TP Hits: 22, SL Hits: 11\n",
      "\n",
      "Running strategy for WDC...\n"
     ]
    },
    {
     "name": "stderr",
     "output_type": "stream",
     "text": [
      "[*********************100%***********************]  1 of 1 completed\n"
     ]
    },
    {
     "name": "stdout",
     "output_type": "stream",
     "text": [
      "WDC | Trades: 30, TP Hits: 11, SL Hits: 16\n",
      "\n",
      "Running strategy for WY...\n"
     ]
    },
    {
     "name": "stderr",
     "output_type": "stream",
     "text": [
      "[*********************100%***********************]  1 of 1 completed\n"
     ]
    },
    {
     "name": "stdout",
     "output_type": "stream",
     "text": [
      "WY | Trades: 28, TP Hits: 5, SL Hits: 22\n",
      "\n",
      "Running strategy for WSM...\n"
     ]
    },
    {
     "name": "stderr",
     "output_type": "stream",
     "text": [
      "[*********************100%***********************]  1 of 1 completed\n"
     ]
    },
    {
     "name": "stdout",
     "output_type": "stream",
     "text": [
      "WSM | Trades: 30, TP Hits: 13, SL Hits: 16\n",
      "\n",
      "Running strategy for WMB...\n"
     ]
    },
    {
     "name": "stderr",
     "output_type": "stream",
     "text": [
      "[*********************100%***********************]  1 of 1 completed\n"
     ]
    },
    {
     "name": "stdout",
     "output_type": "stream",
     "text": [
      "WMB | Trades: 30, TP Hits: 9, SL Hits: 19\n",
      "\n",
      "Running strategy for WTW...\n"
     ]
    },
    {
     "name": "stderr",
     "output_type": "stream",
     "text": [
      "[*********************100%***********************]  1 of 1 completed\n"
     ]
    },
    {
     "name": "stdout",
     "output_type": "stream",
     "text": [
      "WTW | Trades: 28, TP Hits: 11, SL Hits: 16\n",
      "\n",
      "Running strategy for WDAY...\n"
     ]
    },
    {
     "name": "stderr",
     "output_type": "stream",
     "text": [
      "[*********************100%***********************]  1 of 1 completed\n"
     ]
    },
    {
     "name": "stdout",
     "output_type": "stream",
     "text": [
      "WDAY | Trades: 28, TP Hits: 14, SL Hits: 14\n",
      "\n",
      "Running strategy for WYNN...\n"
     ]
    },
    {
     "name": "stderr",
     "output_type": "stream",
     "text": [
      "[*********************100%***********************]  1 of 1 completed\n"
     ]
    },
    {
     "name": "stdout",
     "output_type": "stream",
     "text": [
      "WYNN | Trades: 28, TP Hits: 11, SL Hits: 16\n",
      "\n",
      "Running strategy for XEL...\n"
     ]
    },
    {
     "name": "stderr",
     "output_type": "stream",
     "text": [
      "[*********************100%***********************]  1 of 1 completed\n"
     ]
    },
    {
     "name": "stdout",
     "output_type": "stream",
     "text": [
      "XEL | Trades: 38, TP Hits: 15, SL Hits: 21\n",
      "\n",
      "Running strategy for XYL...\n"
     ]
    },
    {
     "name": "stderr",
     "output_type": "stream",
     "text": [
      "[*********************100%***********************]  1 of 1 completed\n"
     ]
    },
    {
     "name": "stdout",
     "output_type": "stream",
     "text": [
      "XYL | Trades: 23, TP Hits: 9, SL Hits: 14\n",
      "\n",
      "Running strategy for YUM...\n"
     ]
    },
    {
     "name": "stderr",
     "output_type": "stream",
     "text": [
      "[*********************100%***********************]  1 of 1 completed\n"
     ]
    },
    {
     "name": "stdout",
     "output_type": "stream",
     "text": [
      "YUM | Trades: 40, TP Hits: 15, SL Hits: 24\n",
      "\n",
      "---------- FINAL SUMMARY ----------\n",
      "Total Trades: 15013\n",
      "TP Hit: 5700\n",
      "SL Hit: 8753\n",
      "Win Rate (%): 37.97\n"
     ]
    },
    {
     "data": {
      "image/png": "[encoded data removed]",
      "text/plain": [
       "<Figure size 1000x600 with 1 Axes>"
      ]
     },
     "metadata": {},
     "output_type": "display_data"
    },
    {
     "name": "stdout",
     "output_type": "stream",
     "text": [
      "\n",
      "✅ High Win Rate Stocks (>=45%):\n",
      "    Ticker  Trades  TP_Hits  SL_Hits  Win_Rate (%)\n",
      "4      ACN      35       16       19         45.71\n",
      "5     ADBE      39       21       18         53.85\n",
      "8      AFL      33       16       16         48.48\n",
      "9        A      30       16       14         53.33\n",
      "13     ALB      39       18       21         46.15\n",
      "..     ...     ...      ...      ...           ...\n",
      "472    WRB      32       20       12         62.50\n",
      "479     WM      31       18       13         58.06\n",
      "481    WEC      37       18       17         48.65\n",
      "484    WST      35       22       11         62.86\n",
      "490   WDAY      28       14       14         50.00\n",
      "\n",
      "[137 rows x 5 columns]\n"
     ]
    }
   ],
   "source": [
    "import yfinance as yf\n",
    "import pandas as pd\n",
    "from bs4 import BeautifulSoup\n",
    "import requests\n",
    "import time\n",
    "import matplotlib.pyplot as plt\n",
    "\n",
    "# Step 1: Get list of S&P 500 tickers from Wikipedia\n",
    "def get_sp500_tickers():\n",
    "    url = 'https://en.wikipedia.org/wiki/List_of_S%26P_500_companies'\n",
    "    response = requests.get(url)\n",
    "    soup = BeautifulSoup(response.text, 'html.parser')\n",
    "    table = soup.find('table', {'id': 'constituents'})\n",
    "    tickers = [row.find_all('td')[0].text.strip() for row in table.find_all('tr')[1:]]\n",
    "    return tickers\n",
    "\n",
    "tickers = get_sp500_tickers()\n",
    "\n",
    "# ✅ To test with more or fewer stocks, change the number here\n",
    "tickers = tickers[:500]  # 🔁 CHANGE THIS NUMBER to test with more stocks\n",
    "\n",
    "# Global counters\n",
    "total_tp = 0\n",
    "total_sl = 0\n",
    "total_trades = 0\n",
    "\n",
    "# List to collect per-stock stats\n",
    "results = []\n",
    "\n",
    "# Step 2: Loop through each stock and apply the strategy\n",
    "for ticker in tickers:\n",
    "    try:\n",
    "        print(f\"\\nRunning strategy for {ticker}...\")\n",
    "        data = yf.download(ticker, start=\"2010-01-01\", end=\"2023-12-31\", interval=\"1d\", auto_adjust=False)\n",
    "\n",
    "        if data.empty:\n",
    "            print(f\"{ticker} has no data.\")\n",
    "            continue\n",
    "\n",
    "        if isinstance(data.columns, pd.MultiIndex):\n",
    "            data.columns = data.columns.get_level_values(0)\n",
    "        data.index = pd.to_datetime(data.index)\n",
    "\n",
    "        weekly = data.resample('W-MON').agg({\n",
    "            'Open': 'first',\n",
    "            'High': 'max',\n",
    "            'Low': 'min',\n",
    "            'Close': 'last'\n",
    "        })\n",
    "        weekly.dropna(inplace=True)\n",
    "\n",
    "        tp_count = 0\n",
    "        sl_count = 0\n",
    "        trades = 0\n",
    "\n",
    "        for i in range(2, len(weekly)-1):\n",
    "            prev2 = weekly.iloc[i-2]\n",
    "            prev1 = weekly.iloc[i-1]\n",
    "            current = weekly.iloc[i]\n",
    "\n",
    "            if (\n",
    "                prev2['High'] > prev1['High'] and\n",
    "                prev2['Low'] < prev1['Low'] and\n",
    "                current['Close'] > prev1['High']\n",
    "            ):\n",
    "                trades += 1\n",
    "                entry_price = current['Close']\n",
    "                sl = prev2['Low']\n",
    "                tp = entry_price + (entry_price - sl) * 3\n",
    "                entry_date = weekly.index[i]\n",
    "                daily_range = data.loc[entry_date:]\n",
    "\n",
    "                for j in range(len(daily_range)):\n",
    "                    price = daily_range.iloc[j]['Close']\n",
    "                    if price >= tp:\n",
    "                        tp_count += 1\n",
    "                        break\n",
    "                    elif price <= sl:\n",
    "                        sl_count += 1\n",
    "                        break\n",
    "\n",
    "        # Save individual stock results\n",
    "        stock_data = {\n",
    "            'Ticker': ticker,\n",
    "            'Trades': trades,\n",
    "            'TP_Hits': tp_count,\n",
    "            'SL_Hits': sl_count,\n",
    "            'Win_Rate (%)': round((tp_count / trades) * 100, 2) if trades > 0 else 0\n",
    "        }\n",
    "        results.append(stock_data)\n",
    "\n",
    "        # Save to individual CSV\n",
    "        #pd.DataFrame([stock_data]).to_csv(f\"{ticker}_strategy_results.csv\", index=False)\n",
    "\n",
    "        # Print per-stock result\n",
    "        print(f\"{ticker} | Trades: {trades}, TP Hits: {tp_count}, SL Hits: {sl_count}\")\n",
    "\n",
    "        # Update global totals\n",
    "        total_tp += tp_count\n",
    "        total_sl += sl_count\n",
    "        total_trades += trades\n",
    "\n",
    "        # Pause between tickers to avoid rate limit\n",
    "        time.sleep(1)\n",
    "\n",
    "    except Exception as e:\n",
    "        print(f\"Error with {ticker}: {e}\")\n",
    "        continue\n",
    "\n",
    "# Final Summary\n",
    "print(\"\\n---------- FINAL SUMMARY ----------\")\n",
    "print(\"Total Trades:\", total_trades)\n",
    "print(\"TP Hit:\", total_tp)\n",
    "print(\"SL Hit:\", total_sl)\n",
    "if total_trades > 0:\n",
    "    win_rate = round(total_tp / total_trades * 100, 2)\n",
    "    print(\"Win Rate (%):\", win_rate)\n",
    "\n",
    "# Convert results to DataFrame\n",
    "results_df = pd.DataFrame(results)\n",
    "\n",
    "# ✅ Save all results to one CSV\n",
    "results_df.to_csv(\"all_stocks_strategy_results.csv\", index=False)\n",
    "\n",
    "# 📈 Plot TP/SL distribution\n",
    "plt.figure(figsize=(10, 6))\n",
    "plt.bar(results_df['Ticker'], results_df['TP_Hits'], label='TP Hits', color='green')\n",
    "plt.bar(results_df['Ticker'], results_df['SL_Hits'], bottom=results_df['TP_Hits'], label='SL Hits', color='red')\n",
    "plt.xlabel(\"Ticker\")\n",
    "plt.ylabel(\"Number of Outcomes\")\n",
    "plt.title(\"TP vs SL Distribution per Stock\")\n",
    "plt.legend()\n",
    "plt.xticks(rotation=45)\n",
    "plt.tight_layout()\n",
    "plt.savefig(\"TP_SL_Distribution.png\")\n",
    "plt.show()\n",
    "\n",
    "# 🔍 Filter high win rate stocks\n",
    "high_win_df = results_df[results_df['Win_Rate (%)'] >= 45]\n",
    "print(\"\\n✅ High Win Rate Stocks (>=45%):\")\n",
    "print(high_win_df)\n"
   ]
  },
  {
   "cell_type": "code",
   "execution_count": 11,
   "id": "cf10d6bd-e85b-4ec6-8332-35c75677e970",
   "metadata": {},
   "outputs": [
    {
     "name": "stderr",
     "output_type": "stream",
     "text": [
      "[*********************100%***********************]  1 of 1 completed"
     ]
    },
    {
     "name": "stdout",
     "output_type": "stream",
     "text": [
      "\n",
      "Running strategy for AAPL...\n",
      "\n",
      "AAPL | Trades: 4, TP Hits: 1, SL Hits: 3, Win Rate: 25.0%\n"
     ]
    },
    {
     "name": "stderr",
     "output_type": "stream",
     "text": [
      "\n"
     ]
    },
    {
     "data": {
      "image/png": "[encoded data removed]",
      "text/plain": [
       "<Figure size 600x400 with 1 Axes>"
      ]
     },
     "metadata": {},
     "output_type": "display_data"
    }
   ],
   "source": [
    "import yfinance as yf\n",
    "import pandas as pd\n",
    "import matplotlib.pyplot as plt\n",
    "\n",
    "# Choose only Apple\n",
    "ticker = \"AAPL\"\n",
    "\n",
    "# Download historical daily data\n",
    "print(f\"\\nRunning strategy for {ticker}...\")\n",
    "data = yf.download(ticker, start=\"2023-01-01\", end=\"2023-12-31\", interval=\"1d\", auto_adjust=False)\n",
    "\n",
    "if data.empty:\n",
    "    print(f\"{ticker} has no data.\")\n",
    "else:\n",
    "    if isinstance(data.columns, pd.MultiIndex):\n",
    "        data.columns = data.columns.get_level_values(0)\n",
    "    data.index = pd.to_datetime(data.index)\n",
    "\n",
    "    # Weekly aggregation (Monday open, high, low, close)\n",
    "    weekly = data.resample('W-MON').agg({\n",
    "        'Open': 'first',\n",
    "        'High': 'max',\n",
    "        'Low': 'min',\n",
    "        'Close': 'last'\n",
    "    })\n",
    "    weekly.dropna(inplace=True)\n",
    "\n",
    "    tp_count = 0\n",
    "    sl_count = 0\n",
    "    trades = 0\n",
    "\n",
    "    for i in range(2, len(weekly)-1):\n",
    "        prev2 = weekly.iloc[i-2]\n",
    "        prev1 = weekly.iloc[i-1]\n",
    "        current = weekly.iloc[i]\n",
    "\n",
    "        if (\n",
    "            prev2['High'] > prev1['High'] and\n",
    "            prev2['Low'] < prev1['Low'] and\n",
    "            current['Close'] > prev1['High']\n",
    "        ):\n",
    "            trades += 1\n",
    "            entry_price = current['Close']\n",
    "            sl = prev2['Low']\n",
    "            tp = entry_price + (entry_price - sl) * 3\n",
    "            entry_date = weekly.index[i]\n",
    "            daily_range = data.loc[entry_date:]\n",
    "\n",
    "            for j in range(len(daily_range)):\n",
    "                price = daily_range.iloc[j]['Close']\n",
    "                if price >= tp:\n",
    "                    tp_count += 1\n",
    "                    break\n",
    "                elif price <= sl:\n",
    "                    sl_count += 1\n",
    "                    break\n",
    "\n",
    "    # Summary and Output\n",
    "    win_rate = round((tp_count / trades) * 100, 2) if trades > 0 else 0\n",
    "    print(f\"\\n{ticker} | Trades: {trades}, TP Hits: {tp_count}, SL Hits: {sl_count}, Win Rate: {win_rate}%\")\n",
    "\n",
    "    # Optional Plot\n",
    "    plt.figure(figsize=(6, 4))\n",
    "    plt.bar(['TP Hits', 'SL Hits'], [tp_count, sl_count], color=['green', 'red'])\n",
    "    plt.title(f\"TP vs SL Outcomes for {ticker}\")\n",
    "    plt.ylabel(\"Count\")\n",
    "    plt.tight_layout()\n",
    "    plt.savefig(f\"{ticker}_tp_sl_plot.png\")\n",
    "    plt.show()\n"
   ]
  },
  {
   "cell_type": "code",
   "execution_count": 13,
   "id": "531704f8-2eeb-49bb-a3e2-3acc584ed334",
   "metadata": {},
   "outputs": [
    {
     "name": "stderr",
     "output_type": "stream",
     "text": [
      "[*********************100%***********************]  1 of 1 completed"
     ]
    },
    {
     "name": "stdout",
     "output_type": "stream",
     "text": [
      "\n",
      "Running strategy for AAPL...\n",
      "Trade 1: Entry Date: 2023-03-20, Entry Price: 157.39999389648438, SL: 143.89999389648438, TP: 197.89999389648438\n",
      "TP Hit on 2023-12-13 at Price: 197.9600067138672\n",
      "Trade 2: Entry Date: 2023-06-05, Entry Price: 179.5800018310547, SL: 170.4199981689453, TP: 207.0600128173828\n",
      "SL Hit on 2023-10-26 at Price: 166.88999938964844\n",
      "Trade 3: Entry Date: 2023-06-19, Entry Price: 184.9199981689453, SL: 176.57000732421875, TP: 209.969970703125\n",
      "SL Hit on 2023-08-16 at Price: 176.57000732421875\n",
      "Trade 4: Entry Date: 2023-07-17, Entry Price: 193.99000549316406, SL: 185.6699981689453, TP: 218.9500274658203\n",
      "SL Hit on 2023-08-04 at Price: 181.99000549316406\n",
      "\n",
      "AAPL | Trades: 4, TP Hits: 1, SL Hits: 3, Win Rate: 25.0%\n"
     ]
    },
    {
     "name": "stderr",
     "output_type": "stream",
     "text": [
      "\n"
     ]
    },
    {
     "data": {
      "image/png": "[encoded data removed]",
      "text/plain": [
       "<Figure size 600x400 with 1 Axes>"
      ]
     },
     "metadata": {},
     "output_type": "display_data"
    }
   ],
   "source": [
    "import yfinance as yf\n",
    "import pandas as pd\n",
    "import matplotlib.pyplot as plt\n",
    "\n",
    "# Choose only Apple\n",
    "ticker = \"AAPL\"\n",
    "\n",
    "# Download historical daily data\n",
    "print(f\"\\nRunning strategy for {ticker}...\")\n",
    "data = yf.download(ticker, start=\"2023-01-01\", end=\"2023-12-31\", interval=\"1d\", auto_adjust=False)\n",
    "\n",
    "if data.empty:\n",
    "    print(f\"{ticker} has no data.\")\n",
    "else:\n",
    "    if isinstance(data.columns, pd.MultiIndex):\n",
    "        data.columns = data.columns.get_level_values(0)\n",
    "    data.index = pd.to_datetime(data.index)\n",
    "\n",
    "    # Weekly aggregation (Monday open, high, low, close)\n",
    "    weekly = data.resample('W-MON').agg({\n",
    "        'Open': 'first',\n",
    "        'High': 'max',\n",
    "        'Low': 'min',\n",
    "        'Close': 'last'\n",
    "    })\n",
    "    weekly.dropna(inplace=True)\n",
    "\n",
    "    tp_count = 0\n",
    "    sl_count = 0\n",
    "    trades = 0\n",
    "\n",
    "    for i in range(2, len(weekly)-1):\n",
    "        prev2 = weekly.iloc[i-2]\n",
    "        prev1 = weekly.iloc[i-1]\n",
    "        current = weekly.iloc[i]\n",
    "\n",
    "        if (\n",
    "            prev2['High'] > prev1['High'] and\n",
    "            prev2['Low'] < prev1['Low'] and\n",
    "            current['Close'] > prev1['High']\n",
    "        ):\n",
    "            trades += 1\n",
    "            entry_price = current['Close']\n",
    "            sl = prev2['Low']\n",
    "            tp = entry_price + (entry_price - sl) * 3\n",
    "            entry_date = weekly.index[i]\n",
    "            daily_range = data.loc[entry_date:]\n",
    "\n",
    "            # Print entry details for troubleshooting\n",
    "            print(f\"Trade {trades}: Entry Date: {entry_date.strftime('%Y-%m-%d')}, Entry Price: {entry_price}, SL: {sl}, TP: {tp}\")\n",
    "\n",
    "            for j in range(len(daily_range)):\n",
    "                price = daily_range.iloc[j]['Close']\n",
    "                if price >= tp:\n",
    "                    tp_count += 1\n",
    "                    print(f\"TP Hit on {daily_range.index[j].strftime('%Y-%m-%d')} at Price: {price}\")\n",
    "                    break\n",
    "                elif price <= sl:\n",
    "                    sl_count += 1\n",
    "                    print(f\"SL Hit on {daily_range.index[j].strftime('%Y-%m-%d')} at Price: {price}\")\n",
    "                    break\n",
    "\n",
    "    # Summary and Output\n",
    "    win_rate = round((tp_count / trades) * 100, 2) if trades > 0 else 0\n",
    "    print(f\"\\n{ticker} | Trades: {trades}, TP Hits: {tp_count}, SL Hits: {sl_count}, Win Rate: {win_rate}%\")\n",
    "\n",
    "    # Optional Plot\n",
    "    plt.figure(figsize=(6, 4))\n",
    "    plt.bar(['TP Hits', 'SL Hits'], [tp_count, sl_count], color=['green', 'red'])\n",
    "    plt.title(f\"TP vs SL Outcomes for {ticker}\")\n",
    "    plt.ylabel(\"Count\")\n",
    "    plt.tight_layout()\n",
    "    plt.savefig(f\"{ticker}_tp_sl_plot.png\")\n",
    "    plt.show()\n"
   ]
  },
  {
   "cell_type": "code",
   "execution_count": null,
   "id": "341fd05d-eb2a-4c21-ac4e-a6869c1cd34a",
   "metadata": {},
   "outputs": [],
   "source": []
  }
 ],
 "metadata": {
  "kernelspec": {
   "display_name": "Python 3 (ipykernel)",
   "language": "python",
   "name": "python3"
  },
  "language_info": {
   "codemirror_mode": {
    "name": "ipython",
    "version": 3
   },
   "file_extension": ".py",
   "mimetype": "text/x-python",
   "name": "python",
   "nbconvert_exporter": "python",
   "pygments_lexer": "ipython3",
   "version": "3.12.4"
  }
 },
 "nbformat": 4,
 "nbformat_minor": 5
}
