{
 "cells": [
  {
   "cell_type": "code",
   "execution_count": null,
   "id": "3fb79170-8e93-49ac-987d-ec24c840ec60",
   "metadata": {},
   "outputs": [],
   "source": [
    "import pandas as pd\n",
    "import numpy as np\n",
    "\n",
    "# Load data from CSV (no header)\n",
    "data = pd.read_csv('equity_sums.csv', header=None)\n",
    "\n",
    "# Get the first column (column 0) and sort it\n",
    "equity_values = data[0].sort_values().reset_index(drop=True)\n",
    "\n",
    "# Confidence level\n",
    "alpha = 0.05\n",
    "\n",
    "# Calculate VaR at 5% (5th percentile)\n",
    "VaR_5 = np.percentile(equity_values, alpha * 100)\n",
    "\n",
    "# Calculate CVaR (average of all values <= VaR)\n",
    "CVaR_5 = equity_values[equity_values <= VaR_5].mean()\n",
    "\n",
    "# Print results\n",
    "print(f\"Sorted Equity Values:\\n{equity_values.to_list()}\\n\")\n",
    "print(f\"VaR at 5% confidence level: ₹{VaR_5:,.2f}\")\n",
    "print(f\"CVaR at 5% confidence level: ₹{CVaR_5:,.2f}\")\n"
   ]
  }
 ],
 "metadata": {
  "kernelspec": {
   "display_name": "Python 3 (ipykernel)",
   "language": "python",
   "name": "python3"
  },
  "language_info": {
   "codemirror_mode": {
    "name": "ipython",
    "version": 3
   },
   "file_extension": ".py",
   "mimetype": "text/x-python",
   "name": "python",
   "nbconvert_exporter": "python",
   "pygments_lexer": "ipython3",
   "version": "3.12.4"
  }
 },
 "nbformat": 4,
 "nbformat_minor": 5
}
