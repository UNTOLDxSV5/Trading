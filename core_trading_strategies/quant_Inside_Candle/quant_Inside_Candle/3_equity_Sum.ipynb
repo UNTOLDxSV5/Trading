{
 "cells": [
  {
   "cell_type": "code",
   "execution_count": null,
   "id": "cc87407f-4a56-40cd-80e2-f9f29d3fd954",
   "metadata": {},
   "outputs": [],
   "source": [
    "import csv\n",
    "\n",
    "# Input and output file names\n",
    "input_file = 'simulation_results.csv'\n",
    "output_file = 'equity_sums.csv'\n",
    "\n",
    "# Read and sum each row\n",
    "\n",
    "row_sums = []\n",
    "with open(input_file, 'r') as infile:\n",
    "    reader = csv.reader(infile)\n",
    "    for row in reader:\n",
    "        # Convert each value to integer and sum\n",
    "        total = sum(int(value) for value in row)\n",
    "        row_sums.append([total])  # Save as a list for CSV writing\n",
    "\n",
    "#Write the sums to a new CSV file\n",
    "with open(output_file, 'w', newline='') as outfile:\n",
    "     writer = csv.writer(outfile)\n",
    "     writer.writerows(row_sums)\n",
    "\n",
    "print(f\"Row sums saved to {output_file}\")\n"
   ]
  }
 ],
 "metadata": {
  "kernelspec": {
   "display_name": "Python 3 (ipykernel)",
   "language": "python",
   "name": "python3"
  },
  "language_info": {
   "codemirror_mode": {
    "name": "ipython",
    "version": 3
   },
   "file_extension": ".py",
   "mimetype": "text/x-python",
   "name": "python",
   "nbconvert_exporter": "python",
   "pygments_lexer": "ipython3",
   "version": "3.12.4"
  }
 },
 "nbformat": 4,
 "nbformat_minor": 5
}
